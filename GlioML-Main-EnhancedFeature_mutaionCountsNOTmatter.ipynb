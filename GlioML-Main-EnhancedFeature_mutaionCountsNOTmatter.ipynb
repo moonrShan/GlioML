{
 "cells": [
  {
   "cell_type": "code",
   "execution_count": 1,
   "id": "aa55bed2",
   "metadata": {
    "ExecuteTime": {
     "end_time": "2023-09-19T11:23:35.002621Z",
     "start_time": "2023-09-19T11:23:33.612609Z"
    }
   },
   "outputs": [],
   "source": [
    "import csv\n",
    "import collections\n",
    "import numpy as np\n",
    "import pandas as pd\n",
    "from autogluon.tabular import TabularDataset, TabularPredictor\n",
    "from autogluon.common.utils.utils import setup_outputdir\n",
    "from autogluon.core.utils.loaders import load_pkl\n",
    "from autogluon.core.utils.savers import save_pkl\n",
    "import os.path\n",
    "from sklearn.model_selection import train_test_split\n",
    "import time\n",
    "import matplotlib.pyplot as plt\n",
    "import seaborn as sns\n",
    "from random import sample"
   ]
  },
  {
   "cell_type": "code",
   "execution_count": 2,
   "id": "41b72ee4",
   "metadata": {
    "ExecuteTime": {
     "end_time": "2023-09-19T11:23:35.018627Z",
     "start_time": "2023-09-19T11:23:35.003622Z"
    }
   },
   "outputs": [],
   "source": [
    "class MultilabelPredictor():\n",
    "    \"\"\" Tabular Predictor for predicting multiple columns in table.\n",
    "        Creates multiple TabularPredictor objects which you can also use individually.\n",
    "        You can access the TabularPredictor for a particular label via: `multilabel_predictor.get_predictor(label_i)`\n",
    "\n",
    "        Parameters\n",
    "        ----------\n",
    "        labels : List[str]\n",
    "            The ith element of this list is the column (i.e. `label`) predicted by the ith TabularPredictor stored in this object.\n",
    "        path : str, default = None\n",
    "            Path to directory where models and intermediate outputs should be saved.\n",
    "            If unspecified, a time-stamped folder called \"AutogluonModels/ag-[TIMESTAMP]\" will be created in the working directory to store all models.\n",
    "            Note: To call `fit()` twice and save all results of each fit, you must specify different `path` locations or don't specify `path` at all.\n",
    "            Otherwise files from first `fit()` will be overwritten by second `fit()`.\n",
    "            Caution: when predicting many labels, this directory may grow large as it needs to store many TabularPredictors.\n",
    "        problem_types : List[str], default = None\n",
    "            The ith element is the `problem_type` for the ith TabularPredictor stored in this object.\n",
    "        eval_metrics : List[str], default = None\n",
    "            The ith element is the `eval_metric` for the ith TabularPredictor stored in this object.\n",
    "        consider_labels_correlation : bool, default = True\n",
    "            Whether the predictions of multiple labels should account for label correlations or predict each label independently of the others.\n",
    "            If True, the ordering of `labels` may affect resulting accuracy as each label is predicted conditional on the previous labels appearing earlier in this list (i.e. in an auto-regressive fashion).\n",
    "            Set to False if during inference you may want to individually use just the ith TabularPredictor without predicting all the other labels.\n",
    "        kwargs :\n",
    "            Arguments passed into the initialization of each TabularPredictor.\n",
    "\n",
    "    \"\"\"\n",
    "\n",
    "    multi_predictor_file = 'multilabel_predictor.pkl'\n",
    "\n",
    "    def __init__(self, labels, path=None, problem_types=None, eval_metrics=None, consider_labels_correlation=False, **kwargs):\n",
    "        if (problem_types is not None) and (len(problem_types) != len(labels)):\n",
    "            raise ValueError(\"If provided, `problem_types` must have same length as `labels`\")\n",
    "        if (eval_metrics is not None) and (len(eval_metrics) != len(labels)):\n",
    "            raise ValueError(\"If provided, `eval_metrics` must have same length as `labels`\")\n",
    "        self.path = setup_outputdir(path, warn_if_exist=False)\n",
    "        self.labels = labels\n",
    "        self.consider_labels_correlation = consider_labels_correlation\n",
    "        self.predictors = {}  # key = label, value = TabularPredictor or str path to the TabularPredictor for this label\n",
    "        if eval_metrics is None:\n",
    "            self.eval_metrics = {}\n",
    "        else:\n",
    "            self.eval_metrics = {labels[i] : eval_metrics[i] for i in range(len(labels))}\n",
    "        problem_type = None\n",
    "        eval_metric = None\n",
    "        for i in range(len(labels)):\n",
    "            label = labels[i]\n",
    "            path_i = self.path + \"Predictor_\" + label\n",
    "            if problem_types is not None:\n",
    "                problem_type = problem_types[i]\n",
    "            if eval_metrics is not None:\n",
    "                eval_metric = eval_metrics[i]\n",
    "            self.predictors[label] = TabularPredictor(label=label, problem_type=problem_type, eval_metric=eval_metric, path=path_i, **kwargs)\n",
    "\n",
    "    def fit(self, train_data, tuning_data=None, final = False, **kwargs):\n",
    "        \"\"\" Fits a separate TabularPredictor to predict each of the labels.\n",
    "\n",
    "            Parameters\n",
    "            ----------\n",
    "            train_data, tuning_data : str or autogluon.tabular.TabularDataset or pd.DataFrame\n",
    "                See documentation for `TabularPredictor.fit()`.\n",
    "            kwargs :\n",
    "                Arguments passed into the `fit()` call for each TabularPredictor.\n",
    "        \"\"\"\n",
    "        if isinstance(train_data, str):\n",
    "            train_data = TabularDataset(train_data)\n",
    "        if tuning_data is not None and isinstance(tuning_data, str):\n",
    "            tuning_data = TabularDataset(tuning_data)\n",
    "        train_data_og = train_data.copy()\n",
    "        if tuning_data is not None:\n",
    "            tuning_data_og = tuning_data.copy()\n",
    "        else:\n",
    "            tuning_data_og = None\n",
    "        save_metrics = len(self.eval_metrics) == 0\n",
    "        start = time.time()\n",
    "        for i in range(len(self.labels)):\n",
    "            label = self.labels[i]\n",
    "            predictor = self.get_predictor(label)\n",
    "            if not self.consider_labels_correlation:\n",
    "                labels_to_drop = [l for l in self.labels if l != label]\n",
    "            else:\n",
    "                labels_to_drop = [self.labels[j] for j in range(i+1, len(self.labels))]\n",
    "            train_data = train_data_og.drop(labels_to_drop, axis=1)\n",
    "            if tuning_data is not None:\n",
    "                tuning_data = tuning_data_og.drop(labels_to_drop, axis=1)\n",
    "            print(f\"Fitting TabularPredictor for label: {label} ...{i / len(self.labels) * 100}%\")\n",
    "            print(f\"{(time.time() - start) / 60} minutes\")\n",
    "            if (final):\n",
    "                predictor.fit(train_data=train_data[train_data[label] > float('-inf')]\n",
    "                              , tuning_data = tuning_data\n",
    "                              ,presets = 'best_quality'\n",
    "                              ,num_bag_folds = 5,num_bag_sets = 2\n",
    "                              , **kwargs)\n",
    "            else:\n",
    "                predictor.fit(train_data=train_data[train_data[label] > float('-inf')]\n",
    "                              , tuning_data = tuning_data\n",
    "                              ,presets = 'medium_quality'\n",
    "                              #,presets = 'best_quality'\n",
    "                              #,num_bag_folds = 5,num_bag_sets = 2\n",
    "                              , **kwargs)\n",
    "            self.predictors[label] = predictor.path\n",
    "            if save_metrics:\n",
    "                self.eval_metrics[label] = predictor.eval_metric\n",
    "        self.save()\n",
    "\n",
    "    def predict(self, data, **kwargs):\n",
    "        \"\"\" Returns DataFrame with label columns containing predictions for each label.\n",
    "\n",
    "            Parameters\n",
    "            ----------\n",
    "            data : str or autogluon.tabular.TabularDataset or pd.DataFrame\n",
    "                Data to make predictions for. If label columns are present in this data, they will be ignored. See documentation for `TabularPredictor.predict()`.\n",
    "            kwargs :\n",
    "                Arguments passed into the predict() call for each TabularPredictor.\n",
    "        \"\"\"\n",
    "        return self._predict(data, as_proba=False, **kwargs)\n",
    "\n",
    "    def predict_proba(self, data, **kwargs):\n",
    "        \"\"\" Returns dict where each key is a label and the corresponding value is the `predict_proba()` output for just that label.\n",
    "\n",
    "            Parameters\n",
    "            ----------\n",
    "            data : str or autogluon.tabular.TabularDataset or pd.DataFrame\n",
    "                Data to make predictions for. See documentation for `TabularPredictor.predict()` and `TabularPredictor.predict_proba()`.\n",
    "            kwargs :\n",
    "                Arguments passed into the `predict_proba()` call for each TabularPredictor (also passed into a `predict()` call).\n",
    "        \"\"\"\n",
    "        return self._predict(data, as_proba=True, **kwargs)\n",
    "\n",
    "    def evaluate(self, data, **kwargs):\n",
    "        \"\"\" Returns dict where each key is a label and the corresponding value is the `evaluate()` output for just that label.\n",
    "\n",
    "            Parameters\n",
    "            ----------\n",
    "            data : str or autogluon.tabular.TabularDataset or pd.DataFrame\n",
    "                Data to evalate predictions of all labels for, must contain all labels as columns. See documentation for `TabularPredictor.evaluate()`.\n",
    "            kwargs :\n",
    "                Arguments passed into the `evaluate()` call for each TabularPredictor (also passed into the `predict()` call).\n",
    "        \"\"\"\n",
    "        data = self._get_data(data)\n",
    "        eval_dict = {}\n",
    "        for label in self.labels:\n",
    "            print(f\"Evaluating TabularPredictor for label: {label} ...\")\n",
    "            predictor = self.get_predictor(label)\n",
    "            \n",
    "            eval_dict[label] = predictor.evaluate(data[data[label] > float('-inf')], **kwargs)\n",
    "            if self.consider_labels_correlation:\n",
    "                data[label] = predictor.predict(data, **kwargs)\n",
    "        return eval_dict\n",
    "\n",
    "    def save(self):\n",
    "        \"\"\" Save MultilabelPredictor to disk. \"\"\"\n",
    "        for label in self.labels:\n",
    "            if not isinstance(self.predictors[label], str):\n",
    "                self.predictors[label] = self.predictors[label].path\n",
    "        save_pkl.save(path=self.path+self.multi_predictor_file, object=self)\n",
    "        print(f\"MultilabelPredictor saved to disk. Load with: MultilabelPredictor.load('{self.path}')\")\n",
    "\n",
    "    @classmethod\n",
    "    def load(cls, path):\n",
    "        \"\"\" Load MultilabelPredictor from disk `path` previously specified when creating this MultilabelPredictor. \"\"\"\n",
    "        path = os.path.expanduser(path)\n",
    "        if path[-1] != os.path.sep:\n",
    "            path = path + os.path.sep\n",
    "        return load_pkl.load(path=path+cls.multi_predictor_file)\n",
    "\n",
    "    def get_predictor(self, label):\n",
    "        \"\"\" Returns TabularPredictor which is used to predict this label. \"\"\"\n",
    "        predictor = self.predictors[label]\n",
    "        if isinstance(predictor, str):\n",
    "            return TabularPredictor.load(path=predictor)\n",
    "        return predictor\n",
    "\n",
    "    def _get_data(self, data):\n",
    "        if isinstance(data, str):\n",
    "            return TabularDataset(data)\n",
    "        return data.copy()\n",
    "\n",
    "    def _predict(self, data, as_proba=False, **kwargs):\n",
    "        data = self._get_data(data)\n",
    "        if as_proba:\n",
    "            predproba_dict = {}\n",
    "        for i,label in enumerate(self.labels):\n",
    "            print(f\"Predicting with TabularPredictor for label: {label} ...{i / len(self.labels) * 100}%\")\n",
    "            predictor = self.get_predictor(label)\n",
    "            if as_proba:\n",
    "                predproba_dict[label] = predictor.predict_proba(data, as_multiclass=True, **kwargs)\n",
    "            data[label] = predictor.predict(data, **kwargs)\n",
    "        if not as_proba:\n",
    "            return data[self.labels]\n",
    "        else:\n",
    "            return predproba_dict"
   ]
  },
  {
   "cell_type": "code",
   "execution_count": 3,
   "id": "d3ae94b9",
   "metadata": {
    "ExecuteTime": {
     "end_time": "2023-09-19T11:23:35.066622Z",
     "start_time": "2023-09-19T11:23:35.020623Z"
    }
   },
   "outputs": [
    {
     "name": "stdout",
     "output_type": "stream",
     "text": [
      "293\n",
      "187\n",
      "197\n",
      "1616\n",
      "665\n",
      "280\n",
      "53\n"
     ]
    }
   ],
   "source": [
    "#1 Load my ccl's ssGSEA signature\n",
    "myCCLSignature = []\n",
    "for name in ['sample.c2.cp.biocarta.gct',\n",
    "             'sample.c2.cp.kegg.gct',\n",
    "             'sample.c2.cp.pid.gct',\n",
    "             'sample.c2.cp.reactome.gct',\n",
    "             'sample.c2.cp.wiki.gct',\n",
    "             'sample.c6.gct',\n",
    "             'sample.hallmark.gct']:    \n",
    "    with open(name, mode ='r')as file:\n",
    "        csvFile = csv.reader(file)\n",
    "        CCLSignature = list(csvFile)[2:]\n",
    "        print(len(CCLSignature))\n",
    "    for i, row in enumerate(CCLSignature):\n",
    "        temp = CCLSignature[i][0].split('\\t')\n",
    "        if i > 0:\n",
    "            CCLSignature[i] = [temp[0]] + [float(d) for d in temp[2:]]\n",
    "        else:\n",
    "            CCLSignature[i] = [temp[0]] + temp[2:]\n",
    "    if not myCCLSignature:\n",
    "        myCCLSignature += CCLSignature\n",
    "    else:\n",
    "        myCCLSignature += CCLSignature[1:]"
   ]
  },
  {
   "cell_type": "code",
   "execution_count": 4,
   "id": "a1ebef18",
   "metadata": {
    "ExecuteTime": {
     "end_time": "2023-09-19T11:23:35.824631Z",
     "start_time": "2023-09-19T11:23:35.068624Z"
    }
   },
   "outputs": [
    {
     "name": "stdout",
     "output_type": "stream",
     "text": [
      "293\n",
      "187\n",
      "197\n",
      "1616\n",
      "665\n",
      "280\n",
      "53\n"
     ]
    }
   ],
   "source": [
    "#2 Load CCLE ssGSEA signature\n",
    "CCLECCLSignature = []\n",
    "for name in ['ccle.c2.cp.biocarta.gct',\n",
    "             'ccle.c2.cp.kegg.gct',\n",
    "             'ccle.c2.cp.pid.gct',\n",
    "             'ccle.c2.cp.reactome.gct',\n",
    "             'ccle.c2.cp.wiki.gct',\n",
    "             'ccle.c6.gct',\n",
    "             'ccle.hallmark.gct']:\n",
    "    with open(name, mode ='r')as file:\n",
    "        csvFile = csv.reader(file)\n",
    "        CCLSignature = list(csvFile)[2:]\n",
    "        print(len(CCLSignature))\n",
    "    for i, row in enumerate(CCLSignature):\n",
    "        temp = CCLSignature[i][0].split('\\t')\n",
    "        CCLSignature[i] = [temp[0]] + temp[2:]\n",
    "    if not CCLECCLSignature:\n",
    "        CCLECCLSignature += CCLSignature\n",
    "    else:\n",
    "        CCLECCLSignature += CCLSignature[1:]"
   ]
  },
  {
   "cell_type": "code",
   "execution_count": null,
   "id": "0765f45a",
   "metadata": {},
   "outputs": [],
   "source": []
  },
  {
   "cell_type": "code",
   "execution_count": 5,
   "id": "74b85673",
   "metadata": {
    "ExecuteTime": {
     "end_time": "2023-09-19T11:23:35.840632Z",
     "start_time": "2023-09-19T11:23:35.825633Z"
    }
   },
   "outputs": [],
   "source": [
    "############new "
   ]
  },
  {
   "cell_type": "code",
   "execution_count": 6,
   "id": "e6136f3f",
   "metadata": {
    "ExecuteTime": {
     "end_time": "2023-09-19T11:23:35.872630Z",
     "start_time": "2023-09-19T11:23:35.843636Z"
    }
   },
   "outputs": [],
   "source": [
    "#2.1 load model\n",
    "modelMetaData = pd.read_csv('Model.csv', header=0)\n",
    "modelMetaData = modelMetaData[['ModelID','Age','Sex']]\n",
    "sex_mapping = {'Male': 1, 'Female': 0}\n",
    "modelMetaData['Sex'] = modelMetaData['Sex'].map(sex_mapping)"
   ]
  },
  {
   "cell_type": "code",
   "execution_count": 7,
   "id": "07fb2549",
   "metadata": {
    "ExecuteTime": {
     "end_time": "2023-09-19T11:23:35.920633Z",
     "start_time": "2023-09-19T11:23:35.874636Z"
    }
   },
   "outputs": [],
   "source": [
    "metaDataDict = {}\n",
    "for index, row in modelMetaData.iterrows():\n",
    "    key = row['ModelID'] \n",
    "    value = [row['Age'], row['Sex']] \n",
    "    if key not in metaDataDict:\n",
    "        metaDataDict[key] = value\n",
    "    else:\n",
    "        raise Exception(\"duplicated Id\")"
   ]
  },
  {
   "cell_type": "code",
   "execution_count": 8,
   "id": "2b62ef3f",
   "metadata": {
    "ExecuteTime": {
     "end_time": "2023-09-19T11:23:40.740325Z",
     "start_time": "2023-09-19T11:23:35.922631Z"
    }
   },
   "outputs": [
    {
     "name": "stderr",
     "output_type": "stream",
     "text": [
      "C:\\Users\\Administrator\\AppData\\Local\\Temp\\ipykernel_85208\\2322606452.py:2: DtypeWarning: Columns (49,50,51,53) have mixed types. Specify dtype option on import or set low_memory=False.\n",
      "  mutationData = pd.read_csv('OmicsSomaticMutations.csv')\n"
     ]
    }
   ],
   "source": [
    "#2.2 load Mutation\n",
    "mutationData = pd.read_csv('OmicsSomaticMutations.csv')\n",
    "mutationData = mutationData[['ModelID','HugoSymbol']]"
   ]
  },
  {
   "cell_type": "code",
   "execution_count": 9,
   "id": "b80e741d",
   "metadata": {
    "ExecuteTime": {
     "end_time": "2023-09-19T11:23:40.756304Z",
     "start_time": "2023-09-19T11:23:40.741283Z"
    }
   },
   "outputs": [],
   "source": [
    "candidateKeyList = [\n",
    "    'MGMT', 'IDH1', 'IDH2', 'EGFR',\n",
    "    'TTN', 'MAPRE3', 'TP53', 'PIK3C2B', 'CIC', 'LRP2', 'LRP1', 'NRXN2', 'TEAD2', 'MYH3', 'NOTCH1', 'TFE3', 'PIK3R1', 'FRMD4A', 'PRCC', 'CHD3', 'BAG6', 'GLYR1', 'ADAM23', 'MSH6', 'ATRX',\n",
    "    'MUC16', 'PTEN', 'NF1', 'OBSN', 'FLG', 'RYR2', 'MUC17',\n",
    "    'BRAF', 'CDKN2A', 'CDKN2B', 'TERT', 'MYC'\n",
    "]\n",
    "candidateGeneMutationCount = {key: 0 for key in candidateKeyList}"
   ]
  },
  {
   "cell_type": "code",
   "execution_count": 10,
   "id": "a560b348",
   "metadata": {
    "ExecuteTime": {
     "end_time": "2023-09-19T11:24:00.003864Z",
     "start_time": "2023-09-19T11:23:40.759307Z"
    }
   },
   "outputs": [],
   "source": [
    "mutationDataDict = {}\n",
    "for index, row in mutationData.iterrows():\n",
    "    key = row['ModelID']\n",
    "    if key not in mutationDataDict:\n",
    "        mutationDataDict[key] = candidateGeneMutationCount.copy()\n",
    "    gene = row['HugoSymbol']\n",
    "    if gene in candidateGeneMutationCount:\n",
    "        mutationDataDict[key][row['HugoSymbol']] += 1"
   ]
  },
  {
   "cell_type": "code",
   "execution_count": 11,
   "id": "cc7b0a4b",
   "metadata": {
    "ExecuteTime": {
     "end_time": "2023-09-19T11:24:00.019876Z",
     "start_time": "2023-09-19T11:24:00.004821Z"
    }
   },
   "outputs": [],
   "source": [
    "#############new end"
   ]
  },
  {
   "cell_type": "code",
   "execution_count": 12,
   "id": "ce386d0b",
   "metadata": {
    "ExecuteTime": {
     "end_time": "2023-09-19T11:24:00.115879Z",
     "start_time": "2023-09-19T11:24:00.021832Z"
    }
   },
   "outputs": [],
   "source": [
    "#3 Load CTRP cclName to AUC map\n",
    "cclToAUCdict = collections.defaultdict(list)\n",
    "with open('CTRP_CCL_AUC.gct', mode ='r') as file:\n",
    "    csvFile = csv.reader(file)\n",
    "    CTRPCCLAUC = list(csvFile)\n",
    "    CTRPCCLAUC = [''.join(sub).split('\\t') for sub in CTRPCCLAUC]\n",
    "    cclNames = CTRPCCLAUC[3][4:]\n",
    "\n",
    "for i,cclName in enumerate(cclNames):\n",
    "    cclToAUCdict[cclName] = [float( '-inf' if sub[4+i] == 'NaN' else sub[4+i]) for sub in CTRPCCLAUC[7:]]"
   ]
  },
  {
   "cell_type": "code",
   "execution_count": 13,
   "id": "dfc80f9d",
   "metadata": {
    "ExecuteTime": {
     "end_time": "2023-09-19T11:24:00.163833Z",
     "start_time": "2023-09-19T11:24:00.116833Z"
    }
   },
   "outputs": [],
   "source": [
    "#4 Load ccleID to ctrpName map\n",
    "CCLEidToCTRPNameDict = collections.defaultdict(str)\n",
    "CCLEidToDiseaseName = collections.defaultdict(str)\n",
    "with open('sample_info.csv', mode ='r') as file:\n",
    "    csvFile = csv.reader(file)\n",
    "    mapInfos = list(csvFile)\n",
    "    for mapInfo in mapInfos[1:]:\n",
    "        CCLEidToCTRPNameDict[mapInfo[0]] = mapInfo[2]  \n",
    "        CCLEidToDiseaseName[mapInfo[0]] = mapInfo[12]"
   ]
  },
  {
   "cell_type": "code",
   "execution_count": 14,
   "id": "8996ddbc",
   "metadata": {
    "ExecuteTime": {
     "end_time": "2023-09-19T11:24:00.179832Z",
     "start_time": "2023-09-19T11:24:00.164832Z"
    }
   },
   "outputs": [],
   "source": [
    "def normalize(df):\n",
    "    result = df.copy()\n",
    "    for feature_name in df.columns:\n",
    "        max_value = df[feature_name].max()\n",
    "        min_value = df[feature_name].min()\n",
    "        result[feature_name] = (df[feature_name] - min_value) / (max_value - min_value)\n",
    "    return result"
   ]
  },
  {
   "cell_type": "code",
   "execution_count": 15,
   "id": "cc53a03e",
   "metadata": {
    "ExecuteTime": {
     "end_time": "2023-09-19T11:24:01.228441Z",
     "start_time": "2023-09-19T11:24:00.180832Z"
    }
   },
   "outputs": [
    {
     "data": {
      "text/html": [
       "<div>\n",
       "<style scoped>\n",
       "    .dataframe tbody tr th:only-of-type {\n",
       "        vertical-align: middle;\n",
       "    }\n",
       "\n",
       "    .dataframe tbody tr th {\n",
       "        vertical-align: top;\n",
       "    }\n",
       "\n",
       "    .dataframe thead th {\n",
       "        text-align: right;\n",
       "    }\n",
       "</style>\n",
       "<table border=\"1\" class=\"dataframe\">\n",
       "  <thead>\n",
       "    <tr style=\"text-align: right;\">\n",
       "      <th></th>\n",
       "      <th>BIOCARTA_GRANULOCYTES_PATHWAY</th>\n",
       "      <th>BIOCARTA_LYM_PATHWAY</th>\n",
       "      <th>BIOCARTA_BLYMPHOCYTE_PATHWAY</th>\n",
       "      <th>BIOCARTA_CARM_ER_PATHWAY</th>\n",
       "      <th>BIOCARTA_LAIR_PATHWAY</th>\n",
       "      <th>BIOCARTA_VDR_PATHWAY</th>\n",
       "      <th>BIOCARTA_MTA3_PATHWAY</th>\n",
       "      <th>BIOCARTA_GABA_PATHWAY</th>\n",
       "      <th>BIOCARTA_EGFR_SMRTE_PATHWAY</th>\n",
       "      <th>BIOCARTA_MONOCYTE_PATHWAY</th>\n",
       "      <th>...</th>\n",
       "      <th>HALLMARK_COAGULATION</th>\n",
       "      <th>HALLMARK_IL2_STAT5_SIGNALING</th>\n",
       "      <th>HALLMARK_BILE_ACID_METABOLISM</th>\n",
       "      <th>HALLMARK_PEROXISOME</th>\n",
       "      <th>HALLMARK_ALLOGRAFT_REJECTION</th>\n",
       "      <th>HALLMARK_SPERMATOGENESIS</th>\n",
       "      <th>HALLMARK_KRAS_SIGNALING</th>\n",
       "      <th>HALLMARK_KRAS_SIGNALING_UP</th>\n",
       "      <th>HALLMARK_KRAS_SIGNALING_DN</th>\n",
       "      <th>HALLMARK_PANCREAS_BETA_CELLS</th>\n",
       "    </tr>\n",
       "    <tr>\n",
       "      <th>Name</th>\n",
       "      <th></th>\n",
       "      <th></th>\n",
       "      <th></th>\n",
       "      <th></th>\n",
       "      <th></th>\n",
       "      <th></th>\n",
       "      <th></th>\n",
       "      <th></th>\n",
       "      <th></th>\n",
       "      <th></th>\n",
       "      <th></th>\n",
       "      <th></th>\n",
       "      <th></th>\n",
       "      <th></th>\n",
       "      <th></th>\n",
       "      <th></th>\n",
       "      <th></th>\n",
       "      <th></th>\n",
       "      <th></th>\n",
       "      <th></th>\n",
       "      <th></th>\n",
       "    </tr>\n",
       "  </thead>\n",
       "  <tbody>\n",
       "    <tr>\n",
       "      <th>THP1_d3_B.TPM</th>\n",
       "      <td>0.991211</td>\n",
       "      <td>0.985352</td>\n",
       "      <td>0.984375</td>\n",
       "      <td>0.876465</td>\n",
       "      <td>0.993652</td>\n",
       "      <td>0.595703</td>\n",
       "      <td>0.475098</td>\n",
       "      <td>0.492432</td>\n",
       "      <td>0.594238</td>\n",
       "      <td>0.986328</td>\n",
       "      <td>...</td>\n",
       "      <td>0.675781</td>\n",
       "      <td>0.810059</td>\n",
       "      <td>0.680176</td>\n",
       "      <td>0.774902</td>\n",
       "      <td>0.928711</td>\n",
       "      <td>0.793457</td>\n",
       "      <td>1.000000</td>\n",
       "      <td>0.880859</td>\n",
       "      <td>0.337402</td>\n",
       "      <td>0.670410</td>\n",
       "    </tr>\n",
       "    <tr>\n",
       "      <th>2D_1.TPM</th>\n",
       "      <td>0.160278</td>\n",
       "      <td>0.161499</td>\n",
       "      <td>0.059387</td>\n",
       "      <td>0.379395</td>\n",
       "      <td>0.045349</td>\n",
       "      <td>1.000000</td>\n",
       "      <td>0.089844</td>\n",
       "      <td>0.554199</td>\n",
       "      <td>0.363525</td>\n",
       "      <td>0.187866</td>\n",
       "      <td>...</td>\n",
       "      <td>0.025284</td>\n",
       "      <td>0.065186</td>\n",
       "      <td>0.221802</td>\n",
       "      <td>0.194458</td>\n",
       "      <td>0.019119</td>\n",
       "      <td>0.555664</td>\n",
       "      <td>0.000000</td>\n",
       "      <td>0.037323</td>\n",
       "      <td>0.343262</td>\n",
       "      <td>0.248169</td>\n",
       "    </tr>\n",
       "    <tr>\n",
       "      <th>TRId7CWa.quant.TPM</th>\n",
       "      <td>0.438232</td>\n",
       "      <td>0.443604</td>\n",
       "      <td>0.540527</td>\n",
       "      <td>0.000000</td>\n",
       "      <td>0.506836</td>\n",
       "      <td>0.303955</td>\n",
       "      <td>0.583496</td>\n",
       "      <td>0.429932</td>\n",
       "      <td>1.000000</td>\n",
       "      <td>0.700195</td>\n",
       "      <td>...</td>\n",
       "      <td>0.927246</td>\n",
       "      <td>0.736328</td>\n",
       "      <td>0.484619</td>\n",
       "      <td>0.130737</td>\n",
       "      <td>0.436523</td>\n",
       "      <td>0.053558</td>\n",
       "      <td>0.354004</td>\n",
       "      <td>0.771484</td>\n",
       "      <td>0.968750</td>\n",
       "      <td>0.720703</td>\n",
       "    </tr>\n",
       "    <tr>\n",
       "      <th>H7.TPM</th>\n",
       "      <td>0.553711</td>\n",
       "      <td>0.562500</td>\n",
       "      <td>0.427979</td>\n",
       "      <td>1.000000</td>\n",
       "      <td>0.724609</td>\n",
       "      <td>0.403809</td>\n",
       "      <td>0.853027</td>\n",
       "      <td>0.493896</td>\n",
       "      <td>0.511230</td>\n",
       "      <td>0.531738</td>\n",
       "      <td>...</td>\n",
       "      <td>0.822754</td>\n",
       "      <td>0.816406</td>\n",
       "      <td>0.113708</td>\n",
       "      <td>0.248291</td>\n",
       "      <td>0.477051</td>\n",
       "      <td>0.189209</td>\n",
       "      <td>0.544434</td>\n",
       "      <td>0.707520</td>\n",
       "      <td>0.644043</td>\n",
       "      <td>0.258057</td>\n",
       "    </tr>\n",
       "    <tr>\n",
       "      <th>THP1_d3_A.TPM</th>\n",
       "      <td>0.992676</td>\n",
       "      <td>0.992676</td>\n",
       "      <td>0.973633</td>\n",
       "      <td>0.795898</td>\n",
       "      <td>1.000000</td>\n",
       "      <td>0.548340</td>\n",
       "      <td>0.615723</td>\n",
       "      <td>0.447266</td>\n",
       "      <td>0.474854</td>\n",
       "      <td>0.989258</td>\n",
       "      <td>...</td>\n",
       "      <td>0.691406</td>\n",
       "      <td>0.826660</td>\n",
       "      <td>0.710938</td>\n",
       "      <td>0.877930</td>\n",
       "      <td>0.928223</td>\n",
       "      <td>0.791504</td>\n",
       "      <td>0.947754</td>\n",
       "      <td>0.933105</td>\n",
       "      <td>0.476562</td>\n",
       "      <td>0.819824</td>\n",
       "    </tr>\n",
       "  </tbody>\n",
       "</table>\n",
       "<p>5 rows × 3284 columns</p>\n",
       "</div>"
      ],
      "text/plain": [
       "0                   BIOCARTA_GRANULOCYTES_PATHWAY  BIOCARTA_LYM_PATHWAY  \\\n",
       "Name                                                                      \n",
       "THP1_d3_B.TPM                            0.991211              0.985352   \n",
       "2D_1.TPM                                 0.160278              0.161499   \n",
       "TRId7CWa.quant.TPM                       0.438232              0.443604   \n",
       "H7.TPM                                   0.553711              0.562500   \n",
       "THP1_d3_A.TPM                            0.992676              0.992676   \n",
       "\n",
       "0                   BIOCARTA_BLYMPHOCYTE_PATHWAY  BIOCARTA_CARM_ER_PATHWAY  \\\n",
       "Name                                                                         \n",
       "THP1_d3_B.TPM                           0.984375                  0.876465   \n",
       "2D_1.TPM                                0.059387                  0.379395   \n",
       "TRId7CWa.quant.TPM                      0.540527                  0.000000   \n",
       "H7.TPM                                  0.427979                  1.000000   \n",
       "THP1_d3_A.TPM                           0.973633                  0.795898   \n",
       "\n",
       "0                   BIOCARTA_LAIR_PATHWAY  BIOCARTA_VDR_PATHWAY  \\\n",
       "Name                                                              \n",
       "THP1_d3_B.TPM                    0.993652              0.595703   \n",
       "2D_1.TPM                         0.045349              1.000000   \n",
       "TRId7CWa.quant.TPM               0.506836              0.303955   \n",
       "H7.TPM                           0.724609              0.403809   \n",
       "THP1_d3_A.TPM                    1.000000              0.548340   \n",
       "\n",
       "0                   BIOCARTA_MTA3_PATHWAY  BIOCARTA_GABA_PATHWAY  \\\n",
       "Name                                                               \n",
       "THP1_d3_B.TPM                    0.475098               0.492432   \n",
       "2D_1.TPM                         0.089844               0.554199   \n",
       "TRId7CWa.quant.TPM               0.583496               0.429932   \n",
       "H7.TPM                           0.853027               0.493896   \n",
       "THP1_d3_A.TPM                    0.615723               0.447266   \n",
       "\n",
       "0                   BIOCARTA_EGFR_SMRTE_PATHWAY  BIOCARTA_MONOCYTE_PATHWAY  \\\n",
       "Name                                                                         \n",
       "THP1_d3_B.TPM                          0.594238                   0.986328   \n",
       "2D_1.TPM                               0.363525                   0.187866   \n",
       "TRId7CWa.quant.TPM                     1.000000                   0.700195   \n",
       "H7.TPM                                 0.511230                   0.531738   \n",
       "THP1_d3_A.TPM                          0.474854                   0.989258   \n",
       "\n",
       "0                   ...  HALLMARK_COAGULATION  HALLMARK_IL2_STAT5_SIGNALING  \\\n",
       "Name                ...                                                       \n",
       "THP1_d3_B.TPM       ...              0.675781                      0.810059   \n",
       "2D_1.TPM            ...              0.025284                      0.065186   \n",
       "TRId7CWa.quant.TPM  ...              0.927246                      0.736328   \n",
       "H7.TPM              ...              0.822754                      0.816406   \n",
       "THP1_d3_A.TPM       ...              0.691406                      0.826660   \n",
       "\n",
       "0                   HALLMARK_BILE_ACID_METABOLISM  HALLMARK_PEROXISOME  \\\n",
       "Name                                                                     \n",
       "THP1_d3_B.TPM                            0.680176             0.774902   \n",
       "2D_1.TPM                                 0.221802             0.194458   \n",
       "TRId7CWa.quant.TPM                       0.484619             0.130737   \n",
       "H7.TPM                                   0.113708             0.248291   \n",
       "THP1_d3_A.TPM                            0.710938             0.877930   \n",
       "\n",
       "0                   HALLMARK_ALLOGRAFT_REJECTION  HALLMARK_SPERMATOGENESIS  \\\n",
       "Name                                                                         \n",
       "THP1_d3_B.TPM                           0.928711                  0.793457   \n",
       "2D_1.TPM                                0.019119                  0.555664   \n",
       "TRId7CWa.quant.TPM                      0.436523                  0.053558   \n",
       "H7.TPM                                  0.477051                  0.189209   \n",
       "THP1_d3_A.TPM                           0.928223                  0.791504   \n",
       "\n",
       "0                   HALLMARK_KRAS_SIGNALING  HALLMARK_KRAS_SIGNALING_UP  \\\n",
       "Name                                                                      \n",
       "THP1_d3_B.TPM                      1.000000                    0.880859   \n",
       "2D_1.TPM                           0.000000                    0.037323   \n",
       "TRId7CWa.quant.TPM                 0.354004                    0.771484   \n",
       "H7.TPM                             0.544434                    0.707520   \n",
       "THP1_d3_A.TPM                      0.947754                    0.933105   \n",
       "\n",
       "0                   HALLMARK_KRAS_SIGNALING_DN  HALLMARK_PANCREAS_BETA_CELLS  \n",
       "Name                                                                          \n",
       "THP1_d3_B.TPM                         0.337402                      0.670410  \n",
       "2D_1.TPM                              0.343262                      0.248169  \n",
       "TRId7CWa.quant.TPM                    0.968750                      0.720703  \n",
       "H7.TPM                                0.644043                      0.258057  \n",
       "THP1_d3_A.TPM                         0.476562                      0.819824  \n",
       "\n",
       "[5 rows x 3284 columns]"
      ]
     },
     "execution_count": 15,
     "metadata": {},
     "output_type": "execute_result"
    }
   ],
   "source": [
    "# prediction data \n",
    "predictData = pd.DataFrame(data = myCCLSignature).transpose()\n",
    "new_header = predictData.iloc[0] \n",
    "predictData = predictData[1:] \n",
    "predictData.columns = new_header \n",
    "predictData = predictData.apply(pd.to_numeric, errors='ignore')\n",
    "predictData = predictData.set_index(['Name'])\n",
    "predictData = normalize(predictData)\n",
    "predictData = predictData.astype('float16')\n",
    "predictData.head()"
   ]
  },
  {
   "cell_type": "code",
   "execution_count": 16,
   "id": "06a614de",
   "metadata": {
    "ExecuteTime": {
     "end_time": "2023-09-19T11:24:01.420442Z",
     "start_time": "2023-09-19T11:24:01.230441Z"
    },
    "scrolled": true
   },
   "outputs": [
    {
     "name": "stdout",
     "output_type": "stream",
     "text": [
      "<class 'pandas.core.frame.DataFrame'>\n",
      "Index: 26 entries, THP1_d3_B.TPM to HCd7CWa.quant.TPM\n",
      "Columns: 3284 entries, BIOCARTA_GRANULOCYTES_PATHWAY to HALLMARK_PANCREAS_BETA_CELLS\n",
      "dtypes: float16(3284)\n",
      "memory usage: 168.5 KB\n"
     ]
    }
   ],
   "source": [
    "predictData.info(memory_usage = 'deep')"
   ]
  },
  {
   "cell_type": "code",
   "execution_count": 17,
   "id": "c6935a1a",
   "metadata": {
    "ExecuteTime": {
     "end_time": "2023-09-19T11:24:01.626443Z",
     "start_time": "2023-09-19T11:24:01.421443Z"
    }
   },
   "outputs": [],
   "source": [
    "# Prepare train set\n",
    "trainData = pd.DataFrame(data = CCLECCLSignature).transpose()\n",
    "new_header = trainData.iloc[0] \n",
    "trainData = trainData[1:] \n",
    "trainData.columns = new_header "
   ]
  },
  {
   "cell_type": "code",
   "execution_count": 18,
   "id": "52014506",
   "metadata": {
    "ExecuteTime": {
     "end_time": "2023-09-19T11:24:02.327450Z",
     "start_time": "2023-09-19T11:24:01.627444Z"
    }
   },
   "outputs": [
    {
     "data": {
      "text/html": [
       "<div>\n",
       "<style scoped>\n",
       "    .dataframe tbody tr th:only-of-type {\n",
       "        vertical-align: middle;\n",
       "    }\n",
       "\n",
       "    .dataframe tbody tr th {\n",
       "        vertical-align: top;\n",
       "    }\n",
       "\n",
       "    .dataframe thead th {\n",
       "        text-align: right;\n",
       "    }\n",
       "</style>\n",
       "<table border=\"1\" class=\"dataframe\">\n",
       "  <thead>\n",
       "    <tr style=\"text-align: right;\">\n",
       "      <th></th>\n",
       "      <th>BIOCARTA_GRANULOCYTES_PATHWAY</th>\n",
       "      <th>BIOCARTA_LYM_PATHWAY</th>\n",
       "      <th>BIOCARTA_BLYMPHOCYTE_PATHWAY</th>\n",
       "      <th>BIOCARTA_CARM_ER_PATHWAY</th>\n",
       "      <th>BIOCARTA_LAIR_PATHWAY</th>\n",
       "      <th>BIOCARTA_VDR_PATHWAY</th>\n",
       "      <th>BIOCARTA_MTA3_PATHWAY</th>\n",
       "      <th>BIOCARTA_GABA_PATHWAY</th>\n",
       "      <th>BIOCARTA_EGFR_SMRTE_PATHWAY</th>\n",
       "      <th>BIOCARTA_MONOCYTE_PATHWAY</th>\n",
       "      <th>...</th>\n",
       "      <th>HALLMARK_COAGULATION</th>\n",
       "      <th>HALLMARK_IL2_STAT5_SIGNALING</th>\n",
       "      <th>HALLMARK_BILE_ACID_METABOLISM</th>\n",
       "      <th>HALLMARK_PEROXISOME</th>\n",
       "      <th>HALLMARK_ALLOGRAFT_REJECTION</th>\n",
       "      <th>HALLMARK_SPERMATOGENESIS</th>\n",
       "      <th>HALLMARK_KRAS_SIGNALING</th>\n",
       "      <th>HALLMARK_KRAS_SIGNALING_UP</th>\n",
       "      <th>HALLMARK_KRAS_SIGNALING_DN</th>\n",
       "      <th>HALLMARK_PANCREAS_BETA_CELLS</th>\n",
       "    </tr>\n",
       "    <tr>\n",
       "      <th>Name</th>\n",
       "      <th></th>\n",
       "      <th></th>\n",
       "      <th></th>\n",
       "      <th></th>\n",
       "      <th></th>\n",
       "      <th></th>\n",
       "      <th></th>\n",
       "      <th></th>\n",
       "      <th></th>\n",
       "      <th></th>\n",
       "      <th></th>\n",
       "      <th></th>\n",
       "      <th></th>\n",
       "      <th></th>\n",
       "      <th></th>\n",
       "      <th></th>\n",
       "      <th></th>\n",
       "      <th></th>\n",
       "      <th></th>\n",
       "      <th></th>\n",
       "      <th></th>\n",
       "    </tr>\n",
       "  </thead>\n",
       "  <tbody>\n",
       "    <tr>\n",
       "      <th>ACH-001113</th>\n",
       "      <td>-4026.0</td>\n",
       "      <td>-2440.0</td>\n",
       "      <td>-4668.0</td>\n",
       "      <td>4244.0</td>\n",
       "      <td>-2634.00</td>\n",
       "      <td>6680.0</td>\n",
       "      <td>5124.0</td>\n",
       "      <td>233.5</td>\n",
       "      <td>3240.0</td>\n",
       "      <td>-1373.0</td>\n",
       "      <td>...</td>\n",
       "      <td>-63.468750</td>\n",
       "      <td>2013.0</td>\n",
       "      <td>90.1875</td>\n",
       "      <td>4124.0</td>\n",
       "      <td>-741.5</td>\n",
       "      <td>-557.0</td>\n",
       "      <td>2440.0</td>\n",
       "      <td>-862.0000</td>\n",
       "      <td>-3302.0</td>\n",
       "      <td>-1723.0</td>\n",
       "    </tr>\n",
       "    <tr>\n",
       "      <th>ACH-000242</th>\n",
       "      <td>-3938.0</td>\n",
       "      <td>-2622.0</td>\n",
       "      <td>-4240.0</td>\n",
       "      <td>4712.0</td>\n",
       "      <td>-3190.00</td>\n",
       "      <td>7320.0</td>\n",
       "      <td>5044.0</td>\n",
       "      <td>-1760.0</td>\n",
       "      <td>3166.0</td>\n",
       "      <td>-1523.0</td>\n",
       "      <td>...</td>\n",
       "      <td>503.750000</td>\n",
       "      <td>2278.0</td>\n",
       "      <td>1100.0000</td>\n",
       "      <td>4736.0</td>\n",
       "      <td>245.5</td>\n",
       "      <td>-1528.0</td>\n",
       "      <td>3270.0</td>\n",
       "      <td>-351.2500</td>\n",
       "      <td>-3622.0</td>\n",
       "      <td>-2434.0</td>\n",
       "    </tr>\n",
       "    <tr>\n",
       "      <th>ACH-000327</th>\n",
       "      <td>-3782.0</td>\n",
       "      <td>-2314.0</td>\n",
       "      <td>-4324.0</td>\n",
       "      <td>5312.0</td>\n",
       "      <td>-2978.00</td>\n",
       "      <td>5864.0</td>\n",
       "      <td>4988.0</td>\n",
       "      <td>754.0</td>\n",
       "      <td>2148.0</td>\n",
       "      <td>-1586.0</td>\n",
       "      <td>...</td>\n",
       "      <td>-9.976562</td>\n",
       "      <td>2174.0</td>\n",
       "      <td>1878.0000</td>\n",
       "      <td>5460.0</td>\n",
       "      <td>-374.5</td>\n",
       "      <td>-1132.0</td>\n",
       "      <td>2942.0</td>\n",
       "      <td>-475.2500</td>\n",
       "      <td>-3416.0</td>\n",
       "      <td>-998.5</td>\n",
       "    </tr>\n",
       "    <tr>\n",
       "      <th>ACH-000461</th>\n",
       "      <td>-3736.0</td>\n",
       "      <td>-1105.0</td>\n",
       "      <td>-4948.0</td>\n",
       "      <td>4512.0</td>\n",
       "      <td>-2696.00</td>\n",
       "      <td>6556.0</td>\n",
       "      <td>4376.0</td>\n",
       "      <td>-550.0</td>\n",
       "      <td>3432.0</td>\n",
       "      <td>-1386.0</td>\n",
       "      <td>...</td>\n",
       "      <td>694.500000</td>\n",
       "      <td>2594.0</td>\n",
       "      <td>-367.0000</td>\n",
       "      <td>4192.0</td>\n",
       "      <td>313.0</td>\n",
       "      <td>-1276.0</td>\n",
       "      <td>3834.0</td>\n",
       "      <td>-95.9375</td>\n",
       "      <td>-3930.0</td>\n",
       "      <td>-1972.0</td>\n",
       "    </tr>\n",
       "    <tr>\n",
       "      <th>ACH-000792</th>\n",
       "      <td>-2076.0</td>\n",
       "      <td>1704.0</td>\n",
       "      <td>-1812.0</td>\n",
       "      <td>4140.0</td>\n",
       "      <td>448.75</td>\n",
       "      <td>6204.0</td>\n",
       "      <td>4704.0</td>\n",
       "      <td>-1424.0</td>\n",
       "      <td>2440.0</td>\n",
       "      <td>2108.0</td>\n",
       "      <td>...</td>\n",
       "      <td>1771.000000</td>\n",
       "      <td>3038.0</td>\n",
       "      <td>-129.8750</td>\n",
       "      <td>4040.0</td>\n",
       "      <td>950.0</td>\n",
       "      <td>-1170.0</td>\n",
       "      <td>3728.0</td>\n",
       "      <td>-368.7500</td>\n",
       "      <td>-4096.0</td>\n",
       "      <td>-1965.0</td>\n",
       "    </tr>\n",
       "  </tbody>\n",
       "</table>\n",
       "<p>5 rows × 3284 columns</p>\n",
       "</div>"
      ],
      "text/plain": [
       "0           BIOCARTA_GRANULOCYTES_PATHWAY  BIOCARTA_LYM_PATHWAY  \\\n",
       "Name                                                              \n",
       "ACH-001113                        -4026.0               -2440.0   \n",
       "ACH-000242                        -3938.0               -2622.0   \n",
       "ACH-000327                        -3782.0               -2314.0   \n",
       "ACH-000461                        -3736.0               -1105.0   \n",
       "ACH-000792                        -2076.0                1704.0   \n",
       "\n",
       "0           BIOCARTA_BLYMPHOCYTE_PATHWAY  BIOCARTA_CARM_ER_PATHWAY  \\\n",
       "Name                                                                 \n",
       "ACH-001113                       -4668.0                    4244.0   \n",
       "ACH-000242                       -4240.0                    4712.0   \n",
       "ACH-000327                       -4324.0                    5312.0   \n",
       "ACH-000461                       -4948.0                    4512.0   \n",
       "ACH-000792                       -1812.0                    4140.0   \n",
       "\n",
       "0           BIOCARTA_LAIR_PATHWAY  BIOCARTA_VDR_PATHWAY  \\\n",
       "Name                                                      \n",
       "ACH-001113               -2634.00                6680.0   \n",
       "ACH-000242               -3190.00                7320.0   \n",
       "ACH-000327               -2978.00                5864.0   \n",
       "ACH-000461               -2696.00                6556.0   \n",
       "ACH-000792                 448.75                6204.0   \n",
       "\n",
       "0           BIOCARTA_MTA3_PATHWAY  BIOCARTA_GABA_PATHWAY  \\\n",
       "Name                                                       \n",
       "ACH-001113                 5124.0                  233.5   \n",
       "ACH-000242                 5044.0                -1760.0   \n",
       "ACH-000327                 4988.0                  754.0   \n",
       "ACH-000461                 4376.0                 -550.0   \n",
       "ACH-000792                 4704.0                -1424.0   \n",
       "\n",
       "0           BIOCARTA_EGFR_SMRTE_PATHWAY  BIOCARTA_MONOCYTE_PATHWAY  ...  \\\n",
       "Name                                                                ...   \n",
       "ACH-001113                       3240.0                    -1373.0  ...   \n",
       "ACH-000242                       3166.0                    -1523.0  ...   \n",
       "ACH-000327                       2148.0                    -1586.0  ...   \n",
       "ACH-000461                       3432.0                    -1386.0  ...   \n",
       "ACH-000792                       2440.0                     2108.0  ...   \n",
       "\n",
       "0           HALLMARK_COAGULATION  HALLMARK_IL2_STAT5_SIGNALING  \\\n",
       "Name                                                             \n",
       "ACH-001113            -63.468750                        2013.0   \n",
       "ACH-000242            503.750000                        2278.0   \n",
       "ACH-000327             -9.976562                        2174.0   \n",
       "ACH-000461            694.500000                        2594.0   \n",
       "ACH-000792           1771.000000                        3038.0   \n",
       "\n",
       "0           HALLMARK_BILE_ACID_METABOLISM  HALLMARK_PEROXISOME  \\\n",
       "Name                                                             \n",
       "ACH-001113                        90.1875               4124.0   \n",
       "ACH-000242                      1100.0000               4736.0   \n",
       "ACH-000327                      1878.0000               5460.0   \n",
       "ACH-000461                      -367.0000               4192.0   \n",
       "ACH-000792                      -129.8750               4040.0   \n",
       "\n",
       "0           HALLMARK_ALLOGRAFT_REJECTION  HALLMARK_SPERMATOGENESIS  \\\n",
       "Name                                                                 \n",
       "ACH-001113                        -741.5                    -557.0   \n",
       "ACH-000242                         245.5                   -1528.0   \n",
       "ACH-000327                        -374.5                   -1132.0   \n",
       "ACH-000461                         313.0                   -1276.0   \n",
       "ACH-000792                         950.0                   -1170.0   \n",
       "\n",
       "0           HALLMARK_KRAS_SIGNALING  HALLMARK_KRAS_SIGNALING_UP  \\\n",
       "Name                                                              \n",
       "ACH-001113                   2440.0                   -862.0000   \n",
       "ACH-000242                   3270.0                   -351.2500   \n",
       "ACH-000327                   2942.0                   -475.2500   \n",
       "ACH-000461                   3834.0                    -95.9375   \n",
       "ACH-000792                   3728.0                   -368.7500   \n",
       "\n",
       "0           HALLMARK_KRAS_SIGNALING_DN  HALLMARK_PANCREAS_BETA_CELLS  \n",
       "Name                                                                  \n",
       "ACH-001113                     -3302.0                       -1723.0  \n",
       "ACH-000242                     -3622.0                       -2434.0  \n",
       "ACH-000327                     -3416.0                        -998.5  \n",
       "ACH-000461                     -3930.0                       -1972.0  \n",
       "ACH-000792                     -4096.0                       -1965.0  \n",
       "\n",
       "[5 rows x 3284 columns]"
      ]
     },
     "execution_count": 18,
     "metadata": {},
     "output_type": "execute_result"
    }
   ],
   "source": [
    "# filter valid ID\n",
    "validSet = set()\n",
    "for name in trainData['Name']:\n",
    "    if CCLEidToCTRPNameDict[name] in cclToAUCdict:\n",
    "        validSet.add(name)\n",
    "trainData = trainData.loc[trainData['Name'].isin(validSet)]\n",
    "trainData = trainData.reset_index(drop = True)\n",
    "trainData = trainData.set_index(['Name'])\n",
    "trainData = trainData.apply(pd.to_numeric)\n",
    "trainData = trainData.astype('float16')\n",
    "trainData.head()"
   ]
  },
  {
   "cell_type": "code",
   "execution_count": 19,
   "id": "c5f3e869",
   "metadata": {
    "ExecuteTime": {
     "end_time": "2023-09-19T11:24:02.374965Z",
     "start_time": "2023-09-19T11:24:02.328451Z"
    },
    "scrolled": true
   },
   "outputs": [
    {
     "name": "stdout",
     "output_type": "stream",
     "text": [
      "<class 'pandas.core.frame.DataFrame'>\n",
      "Index: 636 entries, ACH-001113 to ACH-000052\n",
      "Columns: 3284 entries, BIOCARTA_GRANULOCYTES_PATHWAY to HALLMARK_PANCREAS_BETA_CELLS\n",
      "dtypes: float16(3284)\n",
      "memory usage: 4.0 MB\n"
     ]
    }
   ],
   "source": [
    "trainData.info(memory_usage = 'deep')"
   ]
  },
  {
   "cell_type": "code",
   "execution_count": 20,
   "id": "90ce4112",
   "metadata": {
    "ExecuteTime": {
     "end_time": "2023-09-19T11:24:02.390964Z",
     "start_time": "2023-09-19T11:24:02.375965Z"
    }
   },
   "outputs": [],
   "source": [
    "if not all(trainData.columns == predictData.columns):\n",
    "    raise Exception(\"Column do not match!\")"
   ]
  },
  {
   "cell_type": "code",
   "execution_count": 21,
   "id": "da4c8b21",
   "metadata": {
    "ExecuteTime": {
     "end_time": "2023-09-19T11:24:02.406965Z",
     "start_time": "2023-09-19T11:24:02.391964Z"
    }
   },
   "outputs": [],
   "source": [
    "###new\n",
    "trainData['Age'] = trainData.index.map(lambda x: metaDataDict[x][0])\n",
    "trainData['Sex'] = trainData.index.map(lambda x: metaDataDict[x][1])"
   ]
  },
  {
   "cell_type": "code",
   "execution_count": 22,
   "id": "18ed8251",
   "metadata": {
    "ExecuteTime": {
     "end_time": "2023-09-19T11:24:02.437967Z",
     "start_time": "2023-09-19T11:24:02.408964Z"
    }
   },
   "outputs": [],
   "source": [
    "#counts matter\n",
    "for geneName in candidateKeyList:\n",
    "    trainData[geneName] = trainData.index.map(lambda x: 1 if x in mutationDataDict else 0)"
   ]
  },
  {
   "cell_type": "code",
   "execution_count": 23,
   "id": "5770b06f",
   "metadata": {
    "ExecuteTime": {
     "end_time": "2023-09-19T11:24:04.902903Z",
     "start_time": "2023-09-19T11:24:02.440964Z"
    }
   },
   "outputs": [],
   "source": [
    "trainData = normalize(trainData)"
   ]
  },
  {
   "cell_type": "code",
   "execution_count": 24,
   "id": "794fb296",
   "metadata": {
    "ExecuteTime": {
     "end_time": "2023-09-19T11:24:05.124906Z",
     "start_time": "2023-09-19T11:24:04.904905Z"
    }
   },
   "outputs": [
    {
     "name": "stdout",
     "output_type": "stream",
     "text": [
      "<class 'pandas.core.frame.DataFrame'>\n",
      "Index: 636 entries, ACH-001113 to ACH-000052\n",
      "Columns: 3323 entries, BIOCARTA_GRANULOCYTES_PATHWAY to MYC\n",
      "dtypes: float16(3323)\n",
      "memory usage: 4.1 MB\n"
     ]
    }
   ],
   "source": [
    "trainData = trainData.astype('float16')\n",
    "trainData.info(memory_usage = 'deep')"
   ]
  },
  {
   "cell_type": "code",
   "execution_count": 25,
   "id": "258d3930",
   "metadata": {
    "ExecuteTime": {
     "end_time": "2023-09-19T11:24:05.139907Z",
     "start_time": "2023-09-19T11:24:05.125906Z"
    }
   },
   "outputs": [],
   "source": [
    "### new end"
   ]
  },
  {
   "cell_type": "code",
   "execution_count": 26,
   "id": "53f9ca95",
   "metadata": {
    "ExecuteTime": {
     "end_time": "2023-09-19T11:24:05.586929Z",
     "start_time": "2023-09-19T11:24:05.140908Z"
    },
    "scrolled": false
   },
   "outputs": [],
   "source": [
    "#labels data\n",
    "labelsDataOriginal = pd.DataFrame(columns = [sub[1] for sub in CTRPCCLAUC[7:]])\n",
    "for name in trainData.index:\n",
    "    labelsDataOriginal.loc[len(labelsDataOriginal.index)] = cclToAUCdict[CCLEidToCTRPNameDict[name]]\n",
    "labelsDataOriginal = labelsDataOriginal.set_index(trainData.index)\n",
    "labelsDataOriginal = labelsDataOriginal.astype('float16')"
   ]
  },
  {
   "cell_type": "code",
   "execution_count": 27,
   "id": "77d19250",
   "metadata": {
    "ExecuteTime": {
     "end_time": "2023-09-19T11:24:05.602930Z",
     "start_time": "2023-09-19T11:24:05.587930Z"
    }
   },
   "outputs": [
    {
     "name": "stdout",
     "output_type": "stream",
     "text": [
      "<class 'pandas.core.frame.DataFrame'>\n",
      "Index: 636 entries, ACH-001113 to ACH-000052\n",
      "Columns: 481 entries, zebularine to GSK-J4\n",
      "dtypes: float16(481)\n",
      "memory usage: 639.1 KB\n"
     ]
    }
   ],
   "source": [
    "labelsDataOriginal.info(memory_usage = 'deep')"
   ]
  },
  {
   "cell_type": "code",
   "execution_count": 28,
   "id": "651b49a8",
   "metadata": {
    "ExecuteTime": {
     "end_time": "2023-09-19T11:24:05.634930Z",
     "start_time": "2023-09-19T11:24:05.604930Z"
    }
   },
   "outputs": [],
   "source": [
    "#add high priority at the begining. e.g dasatinib\n",
    "labels = list(labelsDataOriginal.columns)"
   ]
  },
  {
   "cell_type": "code",
   "execution_count": 29,
   "id": "062064dc",
   "metadata": {
    "ExecuteTime": {
     "end_time": "2023-09-19T11:24:05.650931Z",
     "start_time": "2023-09-19T11:24:05.635931Z"
    }
   },
   "outputs": [],
   "source": [
    "#constants\n",
    "problem_types = ['regression'] \n",
    "eval_metrics = ['mean_squared_error']\n",
    "time_limit = 60 * 60 * 24\n",
    "tops = [100,300,600]"
   ]
  },
  {
   "cell_type": "code",
   "execution_count": 33,
   "id": "a029b871",
   "metadata": {
    "ExecuteTime": {
     "end_time": "2023-09-19T11:40:04.997510Z",
     "start_time": "2023-09-19T11:28:16.854634Z"
    }
   },
   "outputs": [
    {
     "name": "stderr",
     "output_type": "stream",
     "text": [
      "Warning: path already exists! This predictor may overwrite an existing predictor! path=\"erismodegib/GiloML_predictDrugAUC_Full_Feature_Medium_Quality_Model_erismodegib\\Predictor_erismodegib\"\n",
      "Presets specified: ['medium_quality']\n",
      "Beginning AutoGluon training ... Time limit = 86400s\n",
      "AutoGluon will save models to \"erismodegib/GiloML_predictDrugAUC_Full_Feature_Medium_Quality_Model_erismodegib\\Predictor_erismodegib\\\"\n",
      "AutoGluon Version:  0.8.0\n",
      "Python Version:     3.9.0\n",
      "Operating System:   Windows\n",
      "Platform Machine:   AMD64\n",
      "Platform Version:   10.0.22000\n",
      "Disk Space Avail:   583.14 GB / 785.12 GB (74.3%)\n",
      "Train Data Rows:    603\n",
      "Train Data Columns: 3323\n",
      "Label Column: erismodegib\n",
      "Preprocessing data ...\n",
      "Using Feature Generators to preprocess the data ...\n",
      "Fitting AutoMLPipelineFeatureGenerator...\n"
     ]
    },
    {
     "name": "stdout",
     "output_type": "stream",
     "text": [
      "Fitting TabularPredictor for label: erismodegib ...0.0%\n",
      "8.347431818644206e-05 minutes\n"
     ]
    },
    {
     "name": "stderr",
     "output_type": "stream",
     "text": [
      "\tAvailable Memory:                    58674.15 MB\n",
      "\tTrain Data (Original)  Memory Usage: 4.01 MB (0.0% of available memory)\n",
      "\tInferring data type of each feature based on column values. Set feature_metadata_in to manually specify special dtypes of the features.\n",
      "\tStage 1 Generators:\n",
      "\t\tFitting AsTypeFeatureGenerator...\n",
      "\t\t\tNote: Converting 37 features to boolean dtype as they only contain 2 unique values.\n",
      "\tStage 2 Generators:\n",
      "\t\tFitting FillNaFeatureGenerator...\n",
      "\tStage 3 Generators:\n",
      "\t\tFitting IdentityFeatureGenerator...\n",
      "\tStage 4 Generators:\n",
      "\t\tFitting DropUniqueFeatureGenerator...\n",
      "\tStage 5 Generators:\n",
      "\t\tFitting DropDuplicatesFeatureGenerator...\n",
      "\tUnused Original Features (Count: 41): ['WP_INSULIN_SIGNALING_IN_ADIPOCYTES_DIABETIC_CONDITION', 'WP_CELLS_AND_MOLECULES_INVOLVED_IN_LOCAL_ACUTE_INFLAMMATORY_RESPONSE', 'WP_PATHOGENIC_ESCHERICHIA_COLI_INFECTION', 'WP_ARRHYTHMOGENIC_RIGHT_VENTRICULAR_CARDIOMYOPATHY', 'WP_ENDOCHONDRAL_OSSIFICATION', 'IDH1', 'IDH2', 'EGFR', 'TTN', 'MAPRE3', 'TP53', 'PIK3C2B', 'CIC', 'LRP2', 'LRP1', 'NRXN2', 'TEAD2', 'MYH3', 'NOTCH1', 'TFE3', 'PIK3R1', 'FRMD4A', 'PRCC', 'CHD3', 'BAG6', 'GLYR1', 'ADAM23', 'MSH6', 'ATRX', 'MUC16', 'PTEN', 'NF1', 'OBSN', 'FLG', 'RYR2', 'MUC17', 'BRAF', 'CDKN2A', 'CDKN2B', 'TERT', 'MYC']\n",
      "\t\tThese features were not used to generate any of the output features. Add a feature generator compatible with these features to utilize them.\n",
      "\t\tFeatures can also be unused if they carry very little information, such as being categorical but having almost entirely unique values or being duplicates of other features.\n",
      "\t\tThese features do not need to be present at inference time.\n",
      "\t\t('float', []) : 41 | ['WP_INSULIN_SIGNALING_IN_ADIPOCYTES_DIABETIC_CONDITION', 'WP_CELLS_AND_MOLECULES_INVOLVED_IN_LOCAL_ACUTE_INFLAMMATORY_RESPONSE', 'WP_PATHOGENIC_ESCHERICHIA_COLI_INFECTION', 'WP_ARRHYTHMOGENIC_RIGHT_VENTRICULAR_CARDIOMYOPATHY', 'WP_ENDOCHONDRAL_OSSIFICATION', ...]\n",
      "\tTypes of features in original data (raw dtype, special dtypes):\n",
      "\t\t('float', []) : 3282 | ['BIOCARTA_GRANULOCYTES_PATHWAY', 'BIOCARTA_LYM_PATHWAY', 'BIOCARTA_BLYMPHOCYTE_PATHWAY', 'BIOCARTA_CARM_ER_PATHWAY', 'BIOCARTA_LAIR_PATHWAY', ...]\n",
      "\tTypes of features in processed data (raw dtype, special dtypes):\n",
      "\t\t('float', [])     : 3281 | ['BIOCARTA_GRANULOCYTES_PATHWAY', 'BIOCARTA_LYM_PATHWAY', 'BIOCARTA_BLYMPHOCYTE_PATHWAY', 'BIOCARTA_CARM_ER_PATHWAY', 'BIOCARTA_LAIR_PATHWAY', ...]\n",
      "\t\t('int', ['bool']) :    1 | ['MGMT']\n",
      "\t14.8s = Fit runtime\n",
      "\t3282 features in original data used to generate 3282 features in processed data.\n",
      "\tTrain Data (Processed) Memory Usage: 3.96 MB (0.0% of available memory)\n",
      "Data preprocessing and feature engineering runtime = 14.92s ...\n",
      "AutoGluon will gauge predictive performance using evaluation metric: 'mean_squared_error'\n",
      "\tThis metric's sign has been flipped to adhere to being higher_is_better. The metric score can be multiplied by -1 to get the metric value.\n",
      "\tTo change this, specify the eval_metric parameter of Predictor()\n",
      "Automatically generating train/validation split with holdout_frac=0.2, Train Rows: 482, Val Rows: 121\n",
      "User-specified model hyperparameters to be fit:\n",
      "{\n",
      "\t'NN_TORCH': {},\n",
      "\t'GBM': [{'extra_trees': True, 'ag_args': {'name_suffix': 'XT'}}, {}, 'GBMLarge'],\n",
      "\t'CAT': {},\n",
      "\t'XGB': {},\n",
      "\t'FASTAI': {},\n",
      "\t'RF': [{'criterion': 'gini', 'ag_args': {'name_suffix': 'Gini', 'problem_types': ['binary', 'multiclass']}}, {'criterion': 'entropy', 'ag_args': {'name_suffix': 'Entr', 'problem_types': ['binary', 'multiclass']}}, {'criterion': 'squared_error', 'ag_args': {'name_suffix': 'MSE', 'problem_types': ['regression', 'quantile']}}],\n",
      "\t'XT': [{'criterion': 'gini', 'ag_args': {'name_suffix': 'Gini', 'problem_types': ['binary', 'multiclass']}}, {'criterion': 'entropy', 'ag_args': {'name_suffix': 'Entr', 'problem_types': ['binary', 'multiclass']}}, {'criterion': 'squared_error', 'ag_args': {'name_suffix': 'MSE', 'problem_types': ['regression', 'quantile']}}],\n",
      "\t'KNN': [{'weights': 'uniform', 'ag_args': {'name_suffix': 'Unif'}}, {'weights': 'distance', 'ag_args': {'name_suffix': 'Dist'}}],\n",
      "}\n",
      "Fitting 11 L1 models ...\n",
      "Fitting model: KNeighborsUnif ... Training model for up to 86385.08s of the 86385.05s of remaining time.\n",
      "\t-0.6077\t = Validation score   (-mean_squared_error)\n",
      "\t0.24s\t = Training   runtime\n",
      "\t0.06s\t = Validation runtime\n",
      "Fitting model: KNeighborsDist ... Training model for up to 86384.73s of the 86384.71s of remaining time.\n",
      "\t-0.6083\t = Validation score   (-mean_squared_error)\n",
      "\t0.24s\t = Training   runtime\n",
      "\t0.07s\t = Validation runtime\n",
      "Fitting model: LightGBMXT ... Training model for up to 86384.39s of the 86384.34s of remaining time.\n",
      "\t-0.5576\t = Validation score   (-mean_squared_error)\n",
      "\t2.22s\t = Training   runtime\n",
      "\t0.01s\t = Validation runtime\n",
      "Fitting model: LightGBM ... Training model for up to 86382.11s of the 86382.05s of remaining time.\n",
      "\t-0.5605\t = Validation score   (-mean_squared_error)\n",
      "\t4.48s\t = Training   runtime\n",
      "\t0.01s\t = Validation runtime\n",
      "Fitting model: RandomForestMSE ... Training model for up to 86377.55s of the 86377.5s of remaining time.\n",
      "\t-0.5718\t = Validation score   (-mean_squared_error)\n",
      "\t30.6s\t = Training   runtime\n",
      "\t0.03s\t = Validation runtime\n",
      "Fitting model: CatBoost ... Training model for up to 86346.85s of the 86346.82s of remaining time.\n",
      "\t-0.5577\t = Validation score   (-mean_squared_error)\n",
      "\t45.96s\t = Training   runtime\n",
      "\t0.06s\t = Validation runtime\n",
      "Fitting model: ExtraTreesMSE ... Training model for up to 86300.79s of the 86300.76s of remaining time.\n",
      "\t-0.5676\t = Validation score   (-mean_squared_error)\n",
      "\t4.27s\t = Training   runtime\n",
      "\t0.03s\t = Validation runtime\n",
      "Fitting model: NeuralNetFastAI ... Training model for up to 86296.43s of the 86296.41s of remaining time.\n",
      "No improvement since epoch 1: early stopping\n",
      "\t-0.5534\t = Validation score   (-mean_squared_error)\n",
      "\t2.13s\t = Training   runtime\n",
      "\t0.02s\t = Validation runtime\n",
      "Fitting model: XGBoost ... Training model for up to 86294.23s of the 86294.2s of remaining time.\n",
      "\t-0.656\t = Validation score   (-mean_squared_error)\n",
      "\t24.45s\t = Training   runtime\n",
      "\t0.02s\t = Validation runtime\n",
      "Fitting model: NeuralNetTorch ... Training model for up to 86269.71s of the 86269.67s of remaining time.\n",
      "\t-0.5949\t = Validation score   (-mean_squared_error)\n",
      "\t2.76s\t = Training   runtime\n",
      "\t0.09s\t = Validation runtime\n",
      "Fitting model: LightGBMLarge ... Training model for up to 86266.8s of the 86266.78s of remaining time.\n",
      "\t-0.5566\t = Validation score   (-mean_squared_error)\n",
      "\t16.92s\t = Training   runtime\n",
      "\t0.01s\t = Validation runtime\n",
      "Fitting model: WeightedEnsemble_L2 ... Training model for up to 8638.51s of the 86249.76s of remaining time.\n",
      "\t-0.542\t = Validation score   (-mean_squared_error)\n",
      "\t0.09s\t = Training   runtime\n",
      "\t0.0s\t = Validation runtime\n",
      "AutoGluon training complete, total runtime = 150.4s ... Best model: \"WeightedEnsemble_L2\"\n",
      "TabularPredictor saved. To load, use: predictor = TabularPredictor.load(\"erismodegib/GiloML_predictDrugAUC_Full_Feature_Medium_Quality_Model_erismodegib\\Predictor_erismodegib\\\")\n",
      "These features in provided data are not utilized by the predictor and will be ignored: ['WP_INSULIN_SIGNALING_IN_ADIPOCYTES_DIABETIC_CONDITION', 'WP_CELLS_AND_MOLECULES_INVOLVED_IN_LOCAL_ACUTE_INFLAMMATORY_RESPONSE', 'WP_PATHOGENIC_ESCHERICHIA_COLI_INFECTION', 'WP_ARRHYTHMOGENIC_RIGHT_VENTRICULAR_CARDIOMYOPATHY', 'WP_ENDOCHONDRAL_OSSIFICATION', 'IDH1', 'IDH2', 'EGFR', 'TTN', 'MAPRE3', 'TP53', 'PIK3C2B', 'CIC', 'LRP2', 'LRP1', 'NRXN2', 'TEAD2', 'MYH3', 'NOTCH1', 'TFE3', 'PIK3R1', 'FRMD4A', 'PRCC', 'CHD3', 'BAG6', 'GLYR1', 'ADAM23', 'MSH6', 'ATRX', 'MUC16', 'PTEN', 'NF1', 'OBSN', 'FLG', 'RYR2', 'MUC17', 'BRAF', 'CDKN2A', 'CDKN2B', 'TERT', 'MYC']\n",
      "Computing feature importance via permutation shuffling for 3282 features using 603 rows with 3 shuffle sets...\n"
     ]
    },
    {
     "name": "stdout",
     "output_type": "stream",
     "text": [
      "MultilabelPredictor saved to disk. Load with: MultilabelPredictor.load('erismodegib/GiloML_predictDrugAUC_Full_Feature_Medium_Quality_Model_erismodegib\\')\n"
     ]
    },
    {
     "name": "stderr",
     "output_type": "stream",
     "text": [
      "\t2413.25s\t= Expected runtime (804.42s per shuffle set)\n"
     ]
    },
    {
     "ename": "MemoryError",
     "evalue": "Unable to allocate 2.95 GiB for an array with shape (120600, 3282) and data type float64",
     "output_type": "error",
     "traceback": [
      "\u001b[1;31m---------------------------------------------------------------------------\u001b[0m",
      "\u001b[1;31mMemoryError\u001b[0m                               Traceback (most recent call last)",
      "Cell \u001b[1;32mIn[33], line 21\u001b[0m\n\u001b[0;32m     15\u001b[0m \u001b[38;5;66;03m#multi_predictor = MultilabelPredictor.load(save_path)\u001b[39;00m\n\u001b[0;32m     16\u001b[0m \u001b[38;5;66;03m#result = multi_predictor.predict(predictData)\u001b[39;00m\n\u001b[0;32m     17\u001b[0m \u001b[38;5;66;03m#result.to_csv(label + '/' + 'GiloML_predictDrugAUC_Full_Feature_Medium_Quality_Result_' + label+ '.csv')\u001b[39;00m\n\u001b[0;32m     18\u001b[0m \n\u001b[0;32m     19\u001b[0m \u001b[38;5;66;03m#get feature importance\u001b[39;00m\n\u001b[0;32m     20\u001b[0m predictor \u001b[38;5;241m=\u001b[39m multi_predictor\u001b[38;5;241m.\u001b[39mget_predictor(label)\n\u001b[1;32m---> 21\u001b[0m feature_importance \u001b[38;5;241m=\u001b[39m \u001b[43mpredictor\u001b[49m\u001b[38;5;241;43m.\u001b[39;49m\u001b[43mfeature_importance\u001b[49m\u001b[43m(\u001b[49m\u001b[43mtrainDataSet\u001b[49m\u001b[43m[\u001b[49m\u001b[43mtrainDataSet\u001b[49m\u001b[43m[\u001b[49m\u001b[43mlabel\u001b[49m\u001b[43m]\u001b[49m\u001b[43m \u001b[49m\u001b[38;5;241;43m>\u001b[39;49m\u001b[43m \u001b[49m\u001b[38;5;28;43mfloat\u001b[39;49m\u001b[43m(\u001b[49m\u001b[38;5;124;43m'\u001b[39;49m\u001b[38;5;124;43m-inf\u001b[39;49m\u001b[38;5;124;43m'\u001b[39;49m\u001b[43m)\u001b[49m\u001b[43m]\u001b[49m\u001b[43m,\u001b[49m\u001b[43m \u001b[49m\u001b[43mnum_shuffle_sets\u001b[49m\u001b[43m \u001b[49m\u001b[38;5;241;43m=\u001b[39;49m\u001b[43m \u001b[49m\u001b[38;5;241;43m3\u001b[39;49m\u001b[43m)\u001b[49m\n\u001b[0;32m     22\u001b[0m feature_importance\u001b[38;5;241m.\u001b[39mto_csv(label \u001b[38;5;241m+\u001b[39m \u001b[38;5;124m'\u001b[39m\u001b[38;5;124m/\u001b[39m\u001b[38;5;124m'\u001b[39m \u001b[38;5;241m+\u001b[39m \u001b[38;5;124m\"\u001b[39m\u001b[38;5;124mGlioML_feature_importance_\u001b[39m\u001b[38;5;124m\"\u001b[39m \u001b[38;5;241m+\u001b[39m label \u001b[38;5;241m+\u001b[39m \u001b[38;5;124m\"\u001b[39m\u001b[38;5;124m.csv\u001b[39m\u001b[38;5;124m\"\u001b[39m)\n\u001b[0;32m     24\u001b[0m \u001b[38;5;66;03m#only consider feature has positive contribution\u001b[39;00m\n",
      "File \u001b[1;32mD:\\miniconda3\\envs\\py39\\lib\\site-packages\\autogluon\\tabular\\predictor\\predictor.py:2297\u001b[0m, in \u001b[0;36mTabularPredictor.feature_importance\u001b[1;34m(self, data, model, features, feature_stage, subsample_size, time_limit, num_shuffle_sets, include_confidence_band, confidence_level, silent)\u001b[0m\n\u001b[0;32m   2294\u001b[0m \u001b[38;5;28;01mif\u001b[39;00m num_shuffle_sets \u001b[38;5;129;01mis\u001b[39;00m \u001b[38;5;28;01mNone\u001b[39;00m:\n\u001b[0;32m   2295\u001b[0m     num_shuffle_sets \u001b[38;5;241m=\u001b[39m \u001b[38;5;241m10\u001b[39m \u001b[38;5;28;01mif\u001b[39;00m time_limit \u001b[38;5;28;01melse\u001b[39;00m \u001b[38;5;241m5\u001b[39m\n\u001b[1;32m-> 2297\u001b[0m fi_df \u001b[38;5;241m=\u001b[39m \u001b[38;5;28;43mself\u001b[39;49m\u001b[38;5;241;43m.\u001b[39;49m\u001b[43m_learner\u001b[49m\u001b[38;5;241;43m.\u001b[39;49m\u001b[43mget_feature_importance\u001b[49m\u001b[43m(\u001b[49m\u001b[43mmodel\u001b[49m\u001b[38;5;241;43m=\u001b[39;49m\u001b[43mmodel\u001b[49m\u001b[43m,\u001b[49m\u001b[43m \u001b[49m\u001b[43mX\u001b[49m\u001b[38;5;241;43m=\u001b[39;49m\u001b[43mdata\u001b[49m\u001b[43m,\u001b[49m\u001b[43m \u001b[49m\u001b[43mfeatures\u001b[49m\u001b[38;5;241;43m=\u001b[39;49m\u001b[43mfeatures\u001b[49m\u001b[43m,\u001b[49m\n\u001b[0;32m   2298\u001b[0m \u001b[43m                                             \u001b[49m\u001b[43mfeature_stage\u001b[49m\u001b[38;5;241;43m=\u001b[39;49m\u001b[43mfeature_stage\u001b[49m\u001b[43m,\u001b[49m\n\u001b[0;32m   2299\u001b[0m \u001b[43m                                             \u001b[49m\u001b[43msubsample_size\u001b[49m\u001b[38;5;241;43m=\u001b[39;49m\u001b[43msubsample_size\u001b[49m\u001b[43m,\u001b[49m\u001b[43m \u001b[49m\u001b[43mtime_limit\u001b[49m\u001b[38;5;241;43m=\u001b[39;49m\u001b[43mtime_limit\u001b[49m\u001b[43m,\u001b[49m\n\u001b[0;32m   2300\u001b[0m \u001b[43m                                             \u001b[49m\u001b[43mnum_shuffle_sets\u001b[49m\u001b[38;5;241;43m=\u001b[39;49m\u001b[43mnum_shuffle_sets\u001b[49m\u001b[43m,\u001b[49m\u001b[43m \u001b[49m\u001b[43msilent\u001b[49m\u001b[38;5;241;43m=\u001b[39;49m\u001b[43msilent\u001b[49m\u001b[43m)\u001b[49m\n\u001b[0;32m   2302\u001b[0m \u001b[38;5;28;01mif\u001b[39;00m include_confidence_band:\n\u001b[0;32m   2303\u001b[0m     \u001b[38;5;28;01mif\u001b[39;00m confidence_level \u001b[38;5;241m<\u001b[39m\u001b[38;5;241m=\u001b[39m \u001b[38;5;241m0.5\u001b[39m \u001b[38;5;129;01mor\u001b[39;00m confidence_level \u001b[38;5;241m>\u001b[39m\u001b[38;5;241m=\u001b[39m \u001b[38;5;241m1.0\u001b[39m:\n",
      "File \u001b[1;32mD:\\miniconda3\\envs\\py39\\lib\\site-packages\\autogluon\\tabular\\learner\\abstract_learner.py:863\u001b[0m, in \u001b[0;36mAbstractTabularLearner.get_feature_importance\u001b[1;34m(self, model, X, y, features, feature_stage, subsample_size, silent, **kwargs)\u001b[0m\n\u001b[0;32m    860\u001b[0m         X \u001b[38;5;241m=\u001b[39m X\u001b[38;5;241m.\u001b[39mdrop(columns\u001b[38;5;241m=\u001b[39munused_features)\n\u001b[0;32m    862\u001b[0m     \u001b[38;5;28;01mif\u001b[39;00m feature_stage \u001b[38;5;241m==\u001b[39m \u001b[38;5;124m'\u001b[39m\u001b[38;5;124moriginal\u001b[39m\u001b[38;5;124m'\u001b[39m:\n\u001b[1;32m--> 863\u001b[0m         \u001b[38;5;28;01mreturn\u001b[39;00m trainer\u001b[38;5;241m.\u001b[39m_get_feature_importance_raw(model\u001b[38;5;241m=\u001b[39mmodel, X\u001b[38;5;241m=\u001b[39mX, y\u001b[38;5;241m=\u001b[39my, features\u001b[38;5;241m=\u001b[39mfeatures, subsample_size\u001b[38;5;241m=\u001b[39msubsample_size, transform_func\u001b[38;5;241m=\u001b[39m\u001b[38;5;28mself\u001b[39m\u001b[38;5;241m.\u001b[39mtransform_features, silent\u001b[38;5;241m=\u001b[39msilent, \u001b[38;5;241m*\u001b[39m\u001b[38;5;241m*\u001b[39mkwargs)\n\u001b[0;32m    864\u001b[0m     X \u001b[38;5;241m=\u001b[39m \u001b[38;5;28mself\u001b[39m\u001b[38;5;241m.\u001b[39mtransform_features(X)\n\u001b[0;32m    865\u001b[0m \u001b[38;5;28;01melse\u001b[39;00m:\n",
      "File \u001b[1;32mD:\\miniconda3\\envs\\py39\\lib\\site-packages\\autogluon\\core\\trainer\\abstract_trainer.py:2275\u001b[0m, in \u001b[0;36mAbstractTrainer._get_feature_importance_raw\u001b[1;34m(self, X, y, model, eval_metric, **kwargs)\u001b[0m\n\u001b[0;32m   2273\u001b[0m model: AbstractModel \u001b[38;5;241m=\u001b[39m \u001b[38;5;28mself\u001b[39m\u001b[38;5;241m.\u001b[39mload_model(model)\n\u001b[0;32m   2274\u001b[0m predict_func_kwargs \u001b[38;5;241m=\u001b[39m \u001b[38;5;28mdict\u001b[39m(model\u001b[38;5;241m=\u001b[39mmodel)\n\u001b[1;32m-> 2275\u001b[0m \u001b[38;5;28;01mreturn\u001b[39;00m compute_permutation_feature_importance(\n\u001b[0;32m   2276\u001b[0m     X\u001b[38;5;241m=\u001b[39mX, y\u001b[38;5;241m=\u001b[39my, predict_func\u001b[38;5;241m=\u001b[39mpredict_func, predict_func_kwargs\u001b[38;5;241m=\u001b[39mpredict_func_kwargs, eval_metric\u001b[38;5;241m=\u001b[39meval_metric, quantile_levels\u001b[38;5;241m=\u001b[39m\u001b[38;5;28mself\u001b[39m\u001b[38;5;241m.\u001b[39mquantile_levels, \u001b[38;5;241m*\u001b[39m\u001b[38;5;241m*\u001b[39mkwargs\n\u001b[0;32m   2277\u001b[0m )\n",
      "File \u001b[1;32mD:\\miniconda3\\envs\\py39\\lib\\site-packages\\autogluon\\core\\utils\\utils.py:867\u001b[0m, in \u001b[0;36mcompute_permutation_feature_importance\u001b[1;34m(X, y, predict_func, eval_metric, features, subsample_size, num_shuffle_sets, predict_func_kwargs, transform_func, transform_func_kwargs, time_limit, silent, log_prefix, importance_as_list, random_state, **kwargs)\u001b[0m\n\u001b[0;32m    865\u001b[0m \u001b[38;5;28;01melse\u001b[39;00m:\n\u001b[0;32m    866\u001b[0m     X_raw_transformed \u001b[38;5;241m=\u001b[39m X_raw \u001b[38;5;28;01mif\u001b[39;00m transform_func \u001b[38;5;129;01mis\u001b[39;00m \u001b[38;5;28;01mNone\u001b[39;00m \u001b[38;5;28;01melse\u001b[39;00m transform_func(X_raw, \u001b[38;5;241m*\u001b[39m\u001b[38;5;241m*\u001b[39mtransform_func_kwargs)\n\u001b[1;32m--> 867\u001b[0m y_pred \u001b[38;5;241m=\u001b[39m predict_func(X_raw_transformed, \u001b[38;5;241m*\u001b[39m\u001b[38;5;241m*\u001b[39mpredict_func_kwargs)\n\u001b[0;32m    869\u001b[0m row_index \u001b[38;5;241m=\u001b[39m \u001b[38;5;241m0\u001b[39m\n\u001b[0;32m    870\u001b[0m \u001b[38;5;28;01mfor\u001b[39;00m feature \u001b[38;5;129;01min\u001b[39;00m parallel_computed_features:\n",
      "File \u001b[1;32mD:\\miniconda3\\envs\\py39\\lib\\site-packages\\autogluon\\core\\trainer\\abstract_trainer.py:589\u001b[0m, in \u001b[0;36mAbstractTrainer.predict\u001b[1;34m(self, X, model)\u001b[0m\n\u001b[0;32m    587\u001b[0m     model \u001b[38;5;241m=\u001b[39m \u001b[38;5;28mself\u001b[39m\u001b[38;5;241m.\u001b[39m_get_best()\n\u001b[0;32m    588\u001b[0m cascade \u001b[38;5;241m=\u001b[39m \u001b[38;5;28misinstance\u001b[39m(model, \u001b[38;5;28mlist\u001b[39m)\n\u001b[1;32m--> 589\u001b[0m \u001b[38;5;28;01mreturn\u001b[39;00m \u001b[38;5;28;43mself\u001b[39;49m\u001b[38;5;241;43m.\u001b[39;49m\u001b[43m_predict_model\u001b[49m\u001b[43m(\u001b[49m\u001b[43mX\u001b[49m\u001b[43m,\u001b[49m\u001b[43m \u001b[49m\u001b[43mmodel\u001b[49m\u001b[43m,\u001b[49m\u001b[43m \u001b[49m\u001b[43mcascade\u001b[49m\u001b[38;5;241;43m=\u001b[39;49m\u001b[43mcascade\u001b[49m\u001b[43m)\u001b[49m\n",
      "File \u001b[1;32mD:\\miniconda3\\envs\\py39\\lib\\site-packages\\autogluon\\core\\trainer\\abstract_trainer.py:2100\u001b[0m, in \u001b[0;36mAbstractTrainer._predict_model\u001b[1;34m(self, X, model, model_pred_proba_dict, cascade)\u001b[0m\n\u001b[0;32m   2099\u001b[0m \u001b[38;5;28;01mdef\u001b[39;00m \u001b[38;5;21m_predict_model\u001b[39m(\u001b[38;5;28mself\u001b[39m, X, model, model_pred_proba_dict\u001b[38;5;241m=\u001b[39m\u001b[38;5;28;01mNone\u001b[39;00m, cascade\u001b[38;5;241m=\u001b[39m\u001b[38;5;28;01mFalse\u001b[39;00m):\n\u001b[1;32m-> 2100\u001b[0m     y_pred_proba \u001b[38;5;241m=\u001b[39m \u001b[38;5;28;43mself\u001b[39;49m\u001b[38;5;241;43m.\u001b[39;49m\u001b[43m_predict_proba_model\u001b[49m\u001b[43m(\u001b[49m\u001b[43mX\u001b[49m\u001b[38;5;241;43m=\u001b[39;49m\u001b[43mX\u001b[49m\u001b[43m,\u001b[49m\u001b[43m \u001b[49m\u001b[43mmodel\u001b[49m\u001b[38;5;241;43m=\u001b[39;49m\u001b[43mmodel\u001b[49m\u001b[43m,\u001b[49m\u001b[43m \u001b[49m\u001b[43mmodel_pred_proba_dict\u001b[49m\u001b[38;5;241;43m=\u001b[39;49m\u001b[43mmodel_pred_proba_dict\u001b[49m\u001b[43m,\u001b[49m\u001b[43m \u001b[49m\u001b[43mcascade\u001b[49m\u001b[38;5;241;43m=\u001b[39;49m\u001b[43mcascade\u001b[49m\u001b[43m)\u001b[49m\n\u001b[0;32m   2101\u001b[0m     \u001b[38;5;28;01mreturn\u001b[39;00m get_pred_from_proba(y_pred_proba\u001b[38;5;241m=\u001b[39my_pred_proba, problem_type\u001b[38;5;241m=\u001b[39m\u001b[38;5;28mself\u001b[39m\u001b[38;5;241m.\u001b[39mproblem_type)\n",
      "File \u001b[1;32mD:\\miniconda3\\envs\\py39\\lib\\site-packages\\autogluon\\core\\trainer\\abstract_trainer.py:2104\u001b[0m, in \u001b[0;36mAbstractTrainer._predict_proba_model\u001b[1;34m(self, X, model, model_pred_proba_dict, cascade)\u001b[0m\n\u001b[0;32m   2103\u001b[0m \u001b[38;5;28;01mdef\u001b[39;00m \u001b[38;5;21m_predict_proba_model\u001b[39m(\u001b[38;5;28mself\u001b[39m, X, model, model_pred_proba_dict\u001b[38;5;241m=\u001b[39m\u001b[38;5;28;01mNone\u001b[39;00m, cascade\u001b[38;5;241m=\u001b[39m\u001b[38;5;28;01mFalse\u001b[39;00m):\n\u001b[1;32m-> 2104\u001b[0m     \u001b[38;5;28;01mreturn\u001b[39;00m \u001b[38;5;28;43mself\u001b[39;49m\u001b[38;5;241;43m.\u001b[39;49m\u001b[43mget_pred_proba_from_model\u001b[49m\u001b[43m(\u001b[49m\u001b[43mmodel\u001b[49m\u001b[38;5;241;43m=\u001b[39;49m\u001b[43mmodel\u001b[49m\u001b[43m,\u001b[49m\u001b[43m \u001b[49m\u001b[43mX\u001b[49m\u001b[38;5;241;43m=\u001b[39;49m\u001b[43mX\u001b[49m\u001b[43m,\u001b[49m\u001b[43m \u001b[49m\u001b[43mmodel_pred_proba_dict\u001b[49m\u001b[38;5;241;43m=\u001b[39;49m\u001b[43mmodel_pred_proba_dict\u001b[49m\u001b[43m,\u001b[49m\u001b[43m \u001b[49m\u001b[43mcascade\u001b[49m\u001b[38;5;241;43m=\u001b[39;49m\u001b[43mcascade\u001b[49m\u001b[43m)\u001b[49m\n",
      "File \u001b[1;32mD:\\miniconda3\\envs\\py39\\lib\\site-packages\\autogluon\\core\\trainer\\abstract_trainer.py:609\u001b[0m, in \u001b[0;36mAbstractTrainer.get_pred_proba_from_model\u001b[1;34m(self, model, X, model_pred_proba_dict, cascade)\u001b[0m\n\u001b[0;32m    607\u001b[0m \u001b[38;5;28;01melse\u001b[39;00m:\n\u001b[0;32m    608\u001b[0m     models \u001b[38;5;241m=\u001b[39m [model]\n\u001b[1;32m--> 609\u001b[0m model_pred_proba_dict \u001b[38;5;241m=\u001b[39m \u001b[38;5;28;43mself\u001b[39;49m\u001b[38;5;241;43m.\u001b[39;49m\u001b[43mget_model_pred_proba_dict\u001b[49m\u001b[43m(\u001b[49m\u001b[43mX\u001b[49m\u001b[38;5;241;43m=\u001b[39;49m\u001b[43mX\u001b[49m\u001b[43m,\u001b[49m\u001b[43m \u001b[49m\u001b[43mmodels\u001b[49m\u001b[38;5;241;43m=\u001b[39;49m\u001b[43mmodels\u001b[49m\u001b[43m,\u001b[49m\u001b[43m \u001b[49m\u001b[43mmodel_pred_proba_dict\u001b[49m\u001b[38;5;241;43m=\u001b[39;49m\u001b[43mmodel_pred_proba_dict\u001b[49m\u001b[43m,\u001b[49m\u001b[43m \u001b[49m\u001b[43mcascade\u001b[49m\u001b[38;5;241;43m=\u001b[39;49m\u001b[43mcascade\u001b[49m\u001b[43m)\u001b[49m\n\u001b[0;32m    610\u001b[0m \u001b[38;5;28;01mif\u001b[39;00m \u001b[38;5;129;01mnot\u001b[39;00m \u001b[38;5;28misinstance\u001b[39m(model, \u001b[38;5;28mstr\u001b[39m):\n\u001b[0;32m    611\u001b[0m     model \u001b[38;5;241m=\u001b[39m model\u001b[38;5;241m.\u001b[39mname\n",
      "File \u001b[1;32mD:\\miniconda3\\envs\\py39\\lib\\site-packages\\autogluon\\core\\trainer\\abstract_trainer.py:857\u001b[0m, in \u001b[0;36mAbstractTrainer.get_model_pred_proba_dict\u001b[1;34m(self, X, models, model_pred_proba_dict, model_pred_time_dict, record_pred_time, use_val_cache, cascade, cascade_threshold)\u001b[0m\n\u001b[0;32m    855\u001b[0m     model_pred_proba_dict[model_name] \u001b[38;5;241m=\u001b[39m model\u001b[38;5;241m.\u001b[39mpredict_proba(X, \u001b[38;5;241m*\u001b[39m\u001b[38;5;241m*\u001b[39mpreprocess_kwargs)\n\u001b[0;32m    856\u001b[0m \u001b[38;5;28;01melse\u001b[39;00m:\n\u001b[1;32m--> 857\u001b[0m     model_pred_proba_dict[model_name] \u001b[38;5;241m=\u001b[39m \u001b[43mmodel\u001b[49m\u001b[38;5;241;43m.\u001b[39;49m\u001b[43mpredict_proba\u001b[49m\u001b[43m(\u001b[49m\u001b[43mX\u001b[49m\u001b[43m)\u001b[49m\n\u001b[0;32m    859\u001b[0m \u001b[38;5;28;01mif\u001b[39;00m record_pred_time:\n\u001b[0;32m    860\u001b[0m     time_end \u001b[38;5;241m=\u001b[39m time\u001b[38;5;241m.\u001b[39mtime()\n",
      "File \u001b[1;32mD:\\miniconda3\\envs\\py39\\lib\\site-packages\\autogluon\\core\\models\\abstract\\abstract_model.py:911\u001b[0m, in \u001b[0;36mAbstractModel.predict_proba\u001b[1;34m(self, X, normalize, **kwargs)\u001b[0m\n\u001b[0;32m    909\u001b[0m \u001b[38;5;28;01mif\u001b[39;00m normalize \u001b[38;5;129;01mis\u001b[39;00m \u001b[38;5;28;01mNone\u001b[39;00m:\n\u001b[0;32m    910\u001b[0m     normalize \u001b[38;5;241m=\u001b[39m \u001b[38;5;28mself\u001b[39m\u001b[38;5;241m.\u001b[39mnormalize_pred_probas\n\u001b[1;32m--> 911\u001b[0m y_pred_proba \u001b[38;5;241m=\u001b[39m \u001b[38;5;28mself\u001b[39m\u001b[38;5;241m.\u001b[39m_predict_proba(X\u001b[38;5;241m=\u001b[39mX, \u001b[38;5;241m*\u001b[39m\u001b[38;5;241m*\u001b[39mkwargs)\n\u001b[0;32m    912\u001b[0m \u001b[38;5;28;01mif\u001b[39;00m normalize:\n\u001b[0;32m    913\u001b[0m     y_pred_proba \u001b[38;5;241m=\u001b[39m normalize_pred_probas(y_pred_proba, \u001b[38;5;28mself\u001b[39m\u001b[38;5;241m.\u001b[39mproblem_type)\n",
      "File \u001b[1;32mD:\\miniconda3\\envs\\py39\\lib\\site-packages\\autogluon\\tabular\\models\\fastainn\\tabular_nn_fastai.py:406\u001b[0m, in \u001b[0;36mNNFastAiTabularModel._predict_proba\u001b[1;34m(self, X, **kwargs)\u001b[0m\n\u001b[0;32m    405\u001b[0m \u001b[38;5;28;01mdef\u001b[39;00m \u001b[38;5;21m_predict_proba\u001b[39m(\u001b[38;5;28mself\u001b[39m, X, \u001b[38;5;241m*\u001b[39m\u001b[38;5;241m*\u001b[39mkwargs):\n\u001b[1;32m--> 406\u001b[0m     X \u001b[38;5;241m=\u001b[39m \u001b[38;5;28mself\u001b[39m\u001b[38;5;241m.\u001b[39mpreprocess(X, \u001b[38;5;241m*\u001b[39m\u001b[38;5;241m*\u001b[39mkwargs)\n\u001b[0;32m    408\u001b[0m     single_row \u001b[38;5;241m=\u001b[39m \u001b[38;5;28mlen\u001b[39m(X) \u001b[38;5;241m==\u001b[39m \u001b[38;5;241m1\u001b[39m\n\u001b[0;32m    409\u001b[0m     \u001b[38;5;66;03m# fastai has issues predicting on a single row, duplicating the row as a workaround\u001b[39;00m\n",
      "File \u001b[1;32mD:\\miniconda3\\envs\\py39\\lib\\site-packages\\autogluon\\core\\models\\abstract\\abstract_model.py:373\u001b[0m, in \u001b[0;36mAbstractModel.preprocess\u001b[1;34m(self, X, preprocess_nonadaptive, preprocess_stateful, **kwargs)\u001b[0m\n\u001b[0;32m    371\u001b[0m     X \u001b[38;5;241m=\u001b[39m \u001b[38;5;28mself\u001b[39m\u001b[38;5;241m.\u001b[39m_preprocess_nonadaptive(X, \u001b[38;5;241m*\u001b[39m\u001b[38;5;241m*\u001b[39mkwargs)\n\u001b[0;32m    372\u001b[0m \u001b[38;5;28;01mif\u001b[39;00m preprocess_stateful:\n\u001b[1;32m--> 373\u001b[0m     X \u001b[38;5;241m=\u001b[39m \u001b[38;5;28mself\u001b[39m\u001b[38;5;241m.\u001b[39m_preprocess(X, \u001b[38;5;241m*\u001b[39m\u001b[38;5;241m*\u001b[39mkwargs)\n\u001b[0;32m    374\u001b[0m \u001b[38;5;28;01mreturn\u001b[39;00m X\n",
      "File \u001b[1;32mD:\\miniconda3\\envs\\py39\\lib\\site-packages\\autogluon\\tabular\\models\\fastainn\\tabular_nn_fastai.py:155\u001b[0m, in \u001b[0;36mNNFastAiTabularModel._preprocess\u001b[1;34m(self, X, fit, **kwargs)\u001b[0m\n\u001b[0;32m    152\u001b[0m cont_mean, cont_std \u001b[38;5;241m=\u001b[39m \u001b[38;5;28mself\u001b[39m\u001b[38;5;241m.\u001b[39m_cont_normalization\n\u001b[0;32m    153\u001b[0m \u001b[38;5;66;03m# Creating a new DataFrame is 10x+ faster than assigning results to X[self.cont_columns]\u001b[39;00m\n\u001b[0;32m    154\u001b[0m X_cont \u001b[38;5;241m=\u001b[39m pd\u001b[38;5;241m.\u001b[39mDataFrame(\n\u001b[1;32m--> 155\u001b[0m     \u001b[43m(\u001b[49m\u001b[43mX\u001b[49m\u001b[43m[\u001b[49m\u001b[38;5;28;43mself\u001b[39;49m\u001b[38;5;241;43m.\u001b[39;49m\u001b[43mcont_columns\u001b[49m\u001b[43m]\u001b[49m\u001b[38;5;241;43m.\u001b[39;49m\u001b[43mvalues\u001b[49m\u001b[43m \u001b[49m\u001b[38;5;241;43m-\u001b[39;49m\u001b[43m \u001b[49m\u001b[43mcont_mean\u001b[49m\u001b[43m)\u001b[49m\u001b[43m \u001b[49m\u001b[38;5;241;43m/\u001b[39;49m\u001b[43m \u001b[49m\u001b[43mcont_std\u001b[49m,\n\u001b[0;32m    156\u001b[0m     columns\u001b[38;5;241m=\u001b[39m\u001b[38;5;28mself\u001b[39m\u001b[38;5;241m.\u001b[39mcont_columns,\n\u001b[0;32m    157\u001b[0m     index\u001b[38;5;241m=\u001b[39mX\u001b[38;5;241m.\u001b[39mindex,\n\u001b[0;32m    158\u001b[0m )\n\u001b[0;32m    159\u001b[0m \u001b[38;5;28;01mif\u001b[39;00m \u001b[38;5;28mself\u001b[39m\u001b[38;5;241m.\u001b[39mcat_columns:\n\u001b[0;32m    160\u001b[0m     \u001b[38;5;66;03m# Creating a new DataFrame via concatenation is faster than editing values in-place\u001b[39;00m\n\u001b[0;32m    161\u001b[0m     X \u001b[38;5;241m=\u001b[39m pd\u001b[38;5;241m.\u001b[39mconcat([X_cont, X[\u001b[38;5;28mself\u001b[39m\u001b[38;5;241m.\u001b[39mcat_columns]], axis\u001b[38;5;241m=\u001b[39m\u001b[38;5;241m1\u001b[39m)\n",
      "\u001b[1;31mMemoryError\u001b[0m: Unable to allocate 2.95 GiB for an array with shape (120600, 3282) and data type float64"
     ]
    }
   ],
   "source": [
    "for label in labels:\n",
    "    try:\n",
    "        if len(os.listdir(label)) > 1:\n",
    "             continue\n",
    "    except:\n",
    "        print('Working on' + label)\n",
    "    \n",
    "    labelData = labelsDataOriginal[[label]]    \n",
    "    trainDataSet = pd.concat([trainData, labelData], axis = 1)\n",
    "    \n",
    "    #first time training \n",
    "    save_path = label + '/' + 'GiloML_predictDrugAUC_Full_Feature_Medium_Quality_Model_' + label \n",
    "    multi_predictor = MultilabelPredictor(labels=[label], problem_types=problem_types, eval_metrics=eval_metrics, path=save_path)\n",
    "    multi_predictor.fit(trainDataSet, time_limit=time_limit)\n",
    "    #multi_predictor = MultilabelPredictor.load(save_path)\n",
    "    #result = multi_predictor.predict(predictData)\n",
    "    #result.to_csv(label + '/' + 'GiloML_predictDrugAUC_Full_Feature_Medium_Quality_Result_' + label+ '.csv')\n",
    "    \n",
    "    #get feature importance\n",
    "    predictor = multi_predictor.get_predictor(label)\n",
    "    feature_importance = predictor.feature_importance(trainDataSet[trainDataSet[label] > float('-inf')], num_shuffle_sets = 3)\n",
    "    feature_importance.to_csv(label + '/' + \"GlioML_feature_importance_\" + label + \".csv\")\n",
    "    \n",
    "    #only consider feature has positive contribution\n",
    "    feature_importance = feature_importance[feature_importance['importance'] > 0]\n",
    "    \n",
    "#     #Evaluation\n",
    "#     evaaluateResult = []\n",
    "#     for top in tops:\n",
    "#         reducedfeatures = list(feature_importance[:top].index)\n",
    "#         trainDataR =  trainData[reducedfeatures]\n",
    "#         trainDataSetR = pd.concat([trainDataR,labelData],axis = 1)\n",
    "#         save_path_R = label + '/' + 'GlioML_ReducedFeature_' + str(top) + '_' + label + '_FeatureEvaluationModel'\n",
    "#         train, evaldata = train_test_split(trainDataSetR,test_size = 0.2,random_state=1112)\n",
    "#         predictor_single = MultilabelPredictor(labels=[label], problem_types=problem_types, eval_metrics=eval_metrics, path=save_path_R)\n",
    "#         predictor_single.fit(train, time_limit=time_limit)\n",
    "#         #predictor_single = MultilabelPredictor.load(save_path_R)\n",
    "#         evaluationData = predictor_single.evaluate(evaldata)\n",
    "#         evaaluateResult.append(evaluationData[label]['mean_squared_error'])\n",
    "#         if(top == 100):\n",
    "#             save_path_final = label + '/' + 'GiloML_predictDrugAUC_Top_100_Features_Best_Quality_Full_Data_Model_' + label\n",
    "#             predictor_single = MultilabelPredictor(labels = [label], problem_types = problem_types, eval_metrics = eval_metrics, path = save_path_final)\n",
    "#             predictor_single.fit(trainDataSetR, final = True, time_limit = time_limit)\n",
    "#             #result_final = predictor_single.predict(predictData[reducedfeatures])\n",
    "#             #result_final.to_csv(save_path_final + \"_Result.csv\")\n",
    "    \n",
    "#     maxPerformanceFeatureCount = tops[evaaluateResult.index(max(evaaluateResult))]\n",
    "#     evaaluateResult = [['Component Name','TOP100','TOP300','TOP600'], [label] + evaaluateResult]\n",
    "#     with open(label + '/' + 'GlioML_ReducedFeature_evalScore_' + label + '.csv', 'w', newline='') as csvfile:\n",
    "#         writer = csv.writer(csvfile)\n",
    "#         writer.writerows(evaaluateResult)\n",
    "    \n",
    "#     if maxPerformanceFeatureCount > 100: \n",
    "#         reducedfeatures = list(feature_importance[:maxPerformanceFeatureCount].index)\n",
    "#         trainDataR =  trainData[reducedfeatures]\n",
    "#         trainDataSetR = pd.concat([trainDataR,labelData],axis = 1)\n",
    "#         save_path_final = label + '/' + 'GiloML_predictDrugAUC_Top_' + str(maxPerformanceFeatureCount) +'_Features_Best_Quality_Full_Data_Model_' + label\n",
    "#         predictor_single = MultilabelPredictor(labels = [label], problem_types = problem_types, eval_metrics = eval_metrics, path = save_path_final)\n",
    "#         predictor_single.fit(trainDataSetR, final = True, time_limit = time_limit)\n",
    "#         #result_final = predictor_single.predict(predictData[reducedfeatures])\n",
    "#         #result_final.to_csv(save_path_final + \"_Result.csv\")\n"
   ]
  },
  {
   "cell_type": "code",
   "execution_count": null,
   "id": "48ffd795",
   "metadata": {},
   "outputs": [],
   "source": []
  },
  {
   "cell_type": "code",
   "execution_count": null,
   "id": "024e7bd4",
   "metadata": {},
   "outputs": [],
   "source": []
  },
  {
   "cell_type": "code",
   "execution_count": null,
   "id": "23eba2f7",
   "metadata": {},
   "outputs": [],
   "source": []
  }
 ],
 "metadata": {
  "kernelspec": {
   "display_name": "Python 3 (ipykernel)",
   "language": "python",
   "name": "python3"
  },
  "language_info": {
   "codemirror_mode": {
    "name": "ipython",
    "version": 3
   },
   "file_extension": ".py",
   "mimetype": "text/x-python",
   "name": "python",
   "nbconvert_exporter": "python",
   "pygments_lexer": "ipython3",
   "version": "3.9.0"
  },
  "toc": {
   "base_numbering": 1,
   "nav_menu": {},
   "number_sections": true,
   "sideBar": true,
   "skip_h1_title": false,
   "title_cell": "Table of Contents",
   "title_sidebar": "Contents",
   "toc_cell": false,
   "toc_position": {},
   "toc_section_display": true,
   "toc_window_display": false
  }
 },
 "nbformat": 4,
 "nbformat_minor": 5
}
