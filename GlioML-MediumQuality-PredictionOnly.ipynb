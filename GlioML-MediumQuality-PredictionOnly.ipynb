{
 "cells": [
  {
   "cell_type": "code",
   "execution_count": 1,
   "id": "aa55bed2",
   "metadata": {
    "ExecuteTime": {
     "end_time": "2023-07-07T02:13:57.679151Z",
     "start_time": "2023-07-07T02:13:57.670150Z"
    }
   },
   "outputs": [],
   "source": [
    "import csv\n",
    "import collections\n",
    "import numpy as np\n",
    "import pandas as pd\n",
    "from autogluon.tabular import TabularDataset, TabularPredictor\n",
    "from autogluon.common.utils.utils import setup_outputdir\n",
    "from autogluon.core.utils.loaders import load_pkl\n",
    "from autogluon.core.utils.savers import save_pkl\n",
    "import os.path\n",
    "from sklearn.model_selection import train_test_split\n",
    "import time\n",
    "import matplotlib.pyplot as plt\n",
    "import seaborn as sns\n",
    "from random import sample"
   ]
  },
  {
   "cell_type": "code",
   "execution_count": 2,
   "id": "41b72ee4",
   "metadata": {
    "ExecuteTime": {
     "end_time": "2023-07-07T02:13:57.710151Z",
     "start_time": "2023-07-07T02:13:57.681151Z"
    }
   },
   "outputs": [],
   "source": [
    "class MultilabelPredictor():\n",
    "    \"\"\" Tabular Predictor for predicting multiple columns in table.\n",
    "        Creates multiple TabularPredictor objects which you can also use individually.\n",
    "        You can access the TabularPredictor for a particular label via: `multilabel_predictor.get_predictor(label_i)`\n",
    "\n",
    "        Parameters\n",
    "        ----------\n",
    "        labels : List[str]\n",
    "            The ith element of this list is the column (i.e. `label`) predicted by the ith TabularPredictor stored in this object.\n",
    "        path : str, default = None\n",
    "            Path to directory where models and intermediate outputs should be saved.\n",
    "            If unspecified, a time-stamped folder called \"AutogluonModels/ag-[TIMESTAMP]\" will be created in the working directory to store all models.\n",
    "            Note: To call `fit()` twice and save all results of each fit, you must specify different `path` locations or don't specify `path` at all.\n",
    "            Otherwise files from first `fit()` will be overwritten by second `fit()`.\n",
    "            Caution: when predicting many labels, this directory may grow large as it needs to store many TabularPredictors.\n",
    "        problem_types : List[str], default = None\n",
    "            The ith element is the `problem_type` for the ith TabularPredictor stored in this object.\n",
    "        eval_metrics : List[str], default = None\n",
    "            The ith element is the `eval_metric` for the ith TabularPredictor stored in this object.\n",
    "        consider_labels_correlation : bool, default = True\n",
    "            Whether the predictions of multiple labels should account for label correlations or predict each label independently of the others.\n",
    "            If True, the ordering of `labels` may affect resulting accuracy as each label is predicted conditional on the previous labels appearing earlier in this list (i.e. in an auto-regressive fashion).\n",
    "            Set to False if during inference you may want to individually use just the ith TabularPredictor without predicting all the other labels.\n",
    "        kwargs :\n",
    "            Arguments passed into the initialization of each TabularPredictor.\n",
    "\n",
    "    \"\"\"\n",
    "\n",
    "    multi_predictor_file = 'multilabel_predictor.pkl'\n",
    "\n",
    "    def __init__(self, labels, path=None, problem_types=None, eval_metrics=None, consider_labels_correlation=False, **kwargs):\n",
    "        if (problem_types is not None) and (len(problem_types) != len(labels)):\n",
    "            raise ValueError(\"If provided, `problem_types` must have same length as `labels`\")\n",
    "        if (eval_metrics is not None) and (len(eval_metrics) != len(labels)):\n",
    "            raise ValueError(\"If provided, `eval_metrics` must have same length as `labels`\")\n",
    "        self.path = setup_outputdir(path, warn_if_exist=False)\n",
    "        self.labels = labels\n",
    "        self.consider_labels_correlation = consider_labels_correlation\n",
    "        self.predictors = {}  # key = label, value = TabularPredictor or str path to the TabularPredictor for this label\n",
    "        if eval_metrics is None:\n",
    "            self.eval_metrics = {}\n",
    "        else:\n",
    "            self.eval_metrics = {labels[i] : eval_metrics[i] for i in range(len(labels))}\n",
    "        problem_type = None\n",
    "        eval_metric = None\n",
    "        for i in range(len(labels)):\n",
    "            label = labels[i]\n",
    "            path_i = self.path + \"Predictor_\" + label\n",
    "            if problem_types is not None:\n",
    "                problem_type = problem_types[i]\n",
    "            if eval_metrics is not None:\n",
    "                eval_metric = eval_metrics[i]\n",
    "            self.predictors[label] = TabularPredictor(label=label, problem_type=problem_type, eval_metric=eval_metric, path=path_i, **kwargs)\n",
    "\n",
    "    def fit(self, train_data, tuning_data=None, final = False, **kwargs):\n",
    "        \"\"\" Fits a separate TabularPredictor to predict each of the labels.\n",
    "\n",
    "            Parameters\n",
    "            ----------\n",
    "            train_data, tuning_data : str or autogluon.tabular.TabularDataset or pd.DataFrame\n",
    "                See documentation for `TabularPredictor.fit()`.\n",
    "            kwargs :\n",
    "                Arguments passed into the `fit()` call for each TabularPredictor.\n",
    "        \"\"\"\n",
    "        if isinstance(train_data, str):\n",
    "            train_data = TabularDataset(train_data)\n",
    "        if tuning_data is not None and isinstance(tuning_data, str):\n",
    "            tuning_data = TabularDataset(tuning_data)\n",
    "        train_data_og = train_data.copy()\n",
    "        if tuning_data is not None:\n",
    "            tuning_data_og = tuning_data.copy()\n",
    "        else:\n",
    "            tuning_data_og = None\n",
    "        save_metrics = len(self.eval_metrics) == 0\n",
    "        start = time.time()\n",
    "        for i in range(len(self.labels)):\n",
    "            label = self.labels[i]\n",
    "            predictor = self.get_predictor(label)\n",
    "            if not self.consider_labels_correlation:\n",
    "                labels_to_drop = [l for l in self.labels if l != label]\n",
    "            else:\n",
    "                labels_to_drop = [self.labels[j] for j in range(i+1, len(self.labels))]\n",
    "            train_data = train_data_og.drop(labels_to_drop, axis=1)\n",
    "            if tuning_data is not None:\n",
    "                tuning_data = tuning_data_og.drop(labels_to_drop, axis=1)\n",
    "            print(f\"Fitting TabularPredictor for label: {label} ...{i / len(self.labels) * 100}%\")\n",
    "            print(f\"{(time.time() - start) / 60} minutes\")\n",
    "            if (final):\n",
    "                predictor.fit(train_data=train_data[train_data[label] > float('-inf')]\n",
    "                              , tuning_data = tuning_data\n",
    "                              ,presets = 'best_quality'\n",
    "                              ,num_bag_folds = 5,num_bag_sets = 2\n",
    "                              , **kwargs)\n",
    "            else:\n",
    "                predictor.fit(train_data=train_data[train_data[label] > float('-inf')]\n",
    "                              , tuning_data = tuning_data\n",
    "                              ,presets = 'medium_quality'\n",
    "                              #,presets = 'best_quality'\n",
    "                              #,num_bag_folds = 5,num_bag_sets = 2\n",
    "                              , **kwargs)\n",
    "            self.predictors[label] = predictor.path\n",
    "            if save_metrics:\n",
    "                self.eval_metrics[label] = predictor.eval_metric\n",
    "        self.save()\n",
    "\n",
    "    def predict(self, data, **kwargs):\n",
    "        \"\"\" Returns DataFrame with label columns containing predictions for each label.\n",
    "\n",
    "            Parameters\n",
    "            ----------\n",
    "            data : str or autogluon.tabular.TabularDataset or pd.DataFrame\n",
    "                Data to make predictions for. If label columns are present in this data, they will be ignored. See documentation for `TabularPredictor.predict()`.\n",
    "            kwargs :\n",
    "                Arguments passed into the predict() call for each TabularPredictor.\n",
    "        \"\"\"\n",
    "        return self._predict(data, as_proba=False, **kwargs)\n",
    "\n",
    "    def predict_proba(self, data, **kwargs):\n",
    "        \"\"\" Returns dict where each key is a label and the corresponding value is the `predict_proba()` output for just that label.\n",
    "\n",
    "            Parameters\n",
    "            ----------\n",
    "            data : str or autogluon.tabular.TabularDataset or pd.DataFrame\n",
    "                Data to make predictions for. See documentation for `TabularPredictor.predict()` and `TabularPredictor.predict_proba()`.\n",
    "            kwargs :\n",
    "                Arguments passed into the `predict_proba()` call for each TabularPredictor (also passed into a `predict()` call).\n",
    "        \"\"\"\n",
    "        return self._predict(data, as_proba=True, **kwargs)\n",
    "\n",
    "    def evaluate(self, data, **kwargs):\n",
    "        \"\"\" Returns dict where each key is a label and the corresponding value is the `evaluate()` output for just that label.\n",
    "\n",
    "            Parameters\n",
    "            ----------\n",
    "            data : str or autogluon.tabular.TabularDataset or pd.DataFrame\n",
    "                Data to evalate predictions of all labels for, must contain all labels as columns. See documentation for `TabularPredictor.evaluate()`.\n",
    "            kwargs :\n",
    "                Arguments passed into the `evaluate()` call for each TabularPredictor (also passed into the `predict()` call).\n",
    "        \"\"\"\n",
    "        data = self._get_data(data)\n",
    "        eval_dict = {}\n",
    "        for label in self.labels:\n",
    "            print(f\"Evaluating TabularPredictor for label: {label} ...\")\n",
    "            predictor = self.get_predictor(label)\n",
    "            \n",
    "            eval_dict[label] = predictor.evaluate(data[data[label] > float('-inf')], **kwargs)\n",
    "            if self.consider_labels_correlation:\n",
    "                data[label] = predictor.predict(data, **kwargs)\n",
    "        return eval_dict\n",
    "\n",
    "    def save(self):\n",
    "        \"\"\" Save MultilabelPredictor to disk. \"\"\"\n",
    "        for label in self.labels:\n",
    "            if not isinstance(self.predictors[label], str):\n",
    "                self.predictors[label] = self.predictors[label].path\n",
    "        save_pkl.save(path=self.path+self.multi_predictor_file, object=self)\n",
    "        print(f\"MultilabelPredictor saved to disk. Load with: MultilabelPredictor.load('{self.path}')\")\n",
    "\n",
    "    @classmethod\n",
    "    def load(cls, path):\n",
    "        \"\"\" Load MultilabelPredictor from disk `path` previously specified when creating this MultilabelPredictor. \"\"\"\n",
    "        path = os.path.expanduser(path)\n",
    "        if path[-1] != os.path.sep:\n",
    "            path = path + os.path.sep\n",
    "        return load_pkl.load(path=path+cls.multi_predictor_file)\n",
    "\n",
    "    def get_predictor(self, label):\n",
    "        \"\"\" Returns TabularPredictor which is used to predict this label. \"\"\"\n",
    "        predictor = self.predictors[label]\n",
    "        if isinstance(predictor, str):\n",
    "            return TabularPredictor.load(path=predictor)\n",
    "        return predictor\n",
    "\n",
    "    def _get_data(self, data):\n",
    "        if isinstance(data, str):\n",
    "            return TabularDataset(data)\n",
    "        return data.copy()\n",
    "\n",
    "    def _predict(self, data, as_proba=False, **kwargs):\n",
    "        data = self._get_data(data)\n",
    "        if as_proba:\n",
    "            predproba_dict = {}\n",
    "        for i,label in enumerate(self.labels):\n",
    "            print(f\"Predicting with TabularPredictor for label: {label} ...{i / len(self.labels) * 100}%\")\n",
    "            predictor = self.get_predictor(label)\n",
    "            if as_proba:\n",
    "                predproba_dict[label] = predictor.predict_proba(data, as_multiclass=True, **kwargs)\n",
    "            data[label] = predictor.predict(data, **kwargs)\n",
    "        if not as_proba:\n",
    "            return data[self.labels]\n",
    "        else:\n",
    "            return predproba_dict"
   ]
  },
  {
   "cell_type": "code",
   "execution_count": 3,
   "id": "d3ae94b9",
   "metadata": {
    "ExecuteTime": {
     "end_time": "2023-07-07T02:13:57.773154Z",
     "start_time": "2023-07-07T02:13:57.711152Z"
    }
   },
   "outputs": [
    {
     "name": "stdout",
     "output_type": "stream",
     "text": [
      "293\n",
      "187\n",
      "197\n",
      "1616\n",
      "665\n",
      "280\n",
      "53\n"
     ]
    }
   ],
   "source": [
    "#1 Load my ccl's ssGSEA signature\n",
    "myCCLSignature = []\n",
    "for name in ['sample.c2.cp.biocarta.gct',\n",
    "             'sample.c2.cp.kegg.gct',\n",
    "             'sample.c2.cp.pid.gct',\n",
    "             'sample.c2.cp.reactome.gct',\n",
    "             'sample.c2.cp.wiki.gct',\n",
    "             'sample.c6.gct',\n",
    "             'sample.hallmark.gct']:    \n",
    "    with open(name, mode ='r')as file:\n",
    "        csvFile = csv.reader(file)\n",
    "        CCLSignature = list(csvFile)[2:]\n",
    "        print(len(CCLSignature))\n",
    "    for i, row in enumerate(CCLSignature):\n",
    "        temp = CCLSignature[i][0].split('\\t')\n",
    "        if i > 0:\n",
    "            CCLSignature[i] = [temp[0]] + [float(d) for d in temp[2:]]\n",
    "        else:\n",
    "            CCLSignature[i] = [temp[0]] + temp[2:]\n",
    "    if not myCCLSignature:\n",
    "        myCCLSignature += CCLSignature\n",
    "    else:\n",
    "        myCCLSignature += CCLSignature[1:]"
   ]
  },
  {
   "cell_type": "code",
   "execution_count": 4,
   "id": "a1ebef18",
   "metadata": {
    "ExecuteTime": {
     "end_time": "2023-07-07T02:13:59.083491Z",
     "start_time": "2023-07-07T02:13:57.775154Z"
    }
   },
   "outputs": [
    {
     "name": "stdout",
     "output_type": "stream",
     "text": [
      "293\n",
      "187\n",
      "197\n",
      "1616\n",
      "665\n",
      "280\n",
      "53\n"
     ]
    }
   ],
   "source": [
    "#2 Load CCLE ssGSEA signature\n",
    "CCLECCLSignature = []\n",
    "for name in ['ccle.c2.cp.biocarta.gct',\n",
    "             'ccle.c2.cp.kegg.gct',\n",
    "             'ccle.c2.cp.pid.gct',\n",
    "             'ccle.c2.cp.reactome.gct',\n",
    "             'ccle.c2.cp.wiki.gct',\n",
    "             'ccle.c6.gct',\n",
    "             'ccle.hallmark.gct']:\n",
    "    with open(name, mode ='r')as file:\n",
    "        csvFile = csv.reader(file)\n",
    "        CCLSignature = list(csvFile)[2:]\n",
    "        print(len(CCLSignature))\n",
    "    for i, row in enumerate(CCLSignature):\n",
    "        temp = CCLSignature[i][0].split('\\t')\n",
    "        CCLSignature[i] = [temp[0]] + temp[2:]\n",
    "    if not CCLECCLSignature:\n",
    "        CCLECCLSignature += CCLSignature\n",
    "    else:\n",
    "        CCLECCLSignature += CCLSignature[1:]"
   ]
  },
  {
   "cell_type": "code",
   "execution_count": 5,
   "id": "ce386d0b",
   "metadata": {
    "ExecuteTime": {
     "end_time": "2023-07-07T02:13:59.242568Z",
     "start_time": "2023-07-07T02:13:59.084491Z"
    }
   },
   "outputs": [],
   "source": [
    "#3 Load CTRP cclName to AUC map\n",
    "cclToAUCdict = collections.defaultdict(list)\n",
    "with open('CTRP_CCL_AUC.gct', mode ='r') as file:\n",
    "    csvFile = csv.reader(file)\n",
    "    CTRPCCLAUC = list(csvFile)\n",
    "    CTRPCCLAUC = [''.join(sub).split('\\t') for sub in CTRPCCLAUC]\n",
    "    cclNames = CTRPCCLAUC[3][4:]\n",
    "\n",
    "for i,cclName in enumerate(cclNames):\n",
    "    cclToAUCdict[cclName] = [float( '-inf' if sub[4+i] == 'NaN' else sub[4+i]) for sub in CTRPCCLAUC[7:]]"
   ]
  },
  {
   "cell_type": "code",
   "execution_count": 6,
   "id": "dfc80f9d",
   "metadata": {
    "ExecuteTime": {
     "end_time": "2023-07-07T02:13:59.306571Z",
     "start_time": "2023-07-07T02:13:59.244569Z"
    }
   },
   "outputs": [],
   "source": [
    "#4 Load ccleID to ctrpName map\n",
    "CCLEidToCTRPNameDict = collections.defaultdict(str)\n",
    "CCLEidToDiseaseName = collections.defaultdict(str)\n",
    "with open('sample_info.csv', mode ='r') as file:\n",
    "    csvFile = csv.reader(file)\n",
    "    mapInfos = list(csvFile)\n",
    "    for mapInfo in mapInfos[1:]:\n",
    "        CCLEidToCTRPNameDict[mapInfo[0]] = mapInfo[2]  \n",
    "        CCLEidToDiseaseName[mapInfo[0]] = mapInfo[12]"
   ]
  },
  {
   "cell_type": "code",
   "execution_count": 7,
   "id": "8996ddbc",
   "metadata": {
    "ExecuteTime": {
     "end_time": "2023-07-07T02:13:59.322571Z",
     "start_time": "2023-07-07T02:13:59.308571Z"
    }
   },
   "outputs": [],
   "source": [
    "def normalize(df):\n",
    "    result = df.copy()\n",
    "    for feature_name in df.columns:\n",
    "        max_value = df[feature_name].max()\n",
    "        min_value = df[feature_name].min()\n",
    "        result[feature_name] = (df[feature_name] - min_value) / (max_value - min_value)\n",
    "    return result"
   ]
  },
  {
   "cell_type": "code",
   "execution_count": 8,
   "id": "cc53a03e",
   "metadata": {
    "ExecuteTime": {
     "end_time": "2023-07-07T02:14:01.535625Z",
     "start_time": "2023-07-07T02:13:59.324571Z"
    }
   },
   "outputs": [
    {
     "data": {
      "text/html": [
       "<div>\n",
       "<style scoped>\n",
       "    .dataframe tbody tr th:only-of-type {\n",
       "        vertical-align: middle;\n",
       "    }\n",
       "\n",
       "    .dataframe tbody tr th {\n",
       "        vertical-align: top;\n",
       "    }\n",
       "\n",
       "    .dataframe thead th {\n",
       "        text-align: right;\n",
       "    }\n",
       "</style>\n",
       "<table border=\"1\" class=\"dataframe\">\n",
       "  <thead>\n",
       "    <tr style=\"text-align: right;\">\n",
       "      <th></th>\n",
       "      <th>BIOCARTA_GRANULOCYTES_PATHWAY</th>\n",
       "      <th>BIOCARTA_LYM_PATHWAY</th>\n",
       "      <th>BIOCARTA_BLYMPHOCYTE_PATHWAY</th>\n",
       "      <th>BIOCARTA_CARM_ER_PATHWAY</th>\n",
       "      <th>BIOCARTA_LAIR_PATHWAY</th>\n",
       "      <th>BIOCARTA_VDR_PATHWAY</th>\n",
       "      <th>BIOCARTA_MTA3_PATHWAY</th>\n",
       "      <th>BIOCARTA_GABA_PATHWAY</th>\n",
       "      <th>BIOCARTA_EGFR_SMRTE_PATHWAY</th>\n",
       "      <th>BIOCARTA_MONOCYTE_PATHWAY</th>\n",
       "      <th>...</th>\n",
       "      <th>HALLMARK_COAGULATION</th>\n",
       "      <th>HALLMARK_IL2_STAT5_SIGNALING</th>\n",
       "      <th>HALLMARK_BILE_ACID_METABOLISM</th>\n",
       "      <th>HALLMARK_PEROXISOME</th>\n",
       "      <th>HALLMARK_ALLOGRAFT_REJECTION</th>\n",
       "      <th>HALLMARK_SPERMATOGENESIS</th>\n",
       "      <th>HALLMARK_KRAS_SIGNALING</th>\n",
       "      <th>HALLMARK_KRAS_SIGNALING_UP</th>\n",
       "      <th>HALLMARK_KRAS_SIGNALING_DN</th>\n",
       "      <th>HALLMARK_PANCREAS_BETA_CELLS</th>\n",
       "    </tr>\n",
       "    <tr>\n",
       "      <th>Name</th>\n",
       "      <th></th>\n",
       "      <th></th>\n",
       "      <th></th>\n",
       "      <th></th>\n",
       "      <th></th>\n",
       "      <th></th>\n",
       "      <th></th>\n",
       "      <th></th>\n",
       "      <th></th>\n",
       "      <th></th>\n",
       "      <th></th>\n",
       "      <th></th>\n",
       "      <th></th>\n",
       "      <th></th>\n",
       "      <th></th>\n",
       "      <th></th>\n",
       "      <th></th>\n",
       "      <th></th>\n",
       "      <th></th>\n",
       "      <th></th>\n",
       "      <th></th>\n",
       "    </tr>\n",
       "  </thead>\n",
       "  <tbody>\n",
       "    <tr>\n",
       "      <th>ctr1</th>\n",
       "      <td>0.158195</td>\n",
       "      <td>0.388701</td>\n",
       "      <td>0.440945</td>\n",
       "      <td>0.092605</td>\n",
       "      <td>0.475311</td>\n",
       "      <td>0.057111</td>\n",
       "      <td>0.257026</td>\n",
       "      <td>0.251736</td>\n",
       "      <td>1.000000</td>\n",
       "      <td>0.480868</td>\n",
       "      <td>...</td>\n",
       "      <td>0.357012</td>\n",
       "      <td>0.250343</td>\n",
       "      <td>0.513151</td>\n",
       "      <td>0.307908</td>\n",
       "      <td>0.265062</td>\n",
       "      <td>0.129048</td>\n",
       "      <td>0.927842</td>\n",
       "      <td>0.841591</td>\n",
       "      <td>0.099294</td>\n",
       "      <td>0.139303</td>\n",
       "    </tr>\n",
       "    <tr>\n",
       "      <th>ctr10</th>\n",
       "      <td>0.406135</td>\n",
       "      <td>0.854409</td>\n",
       "      <td>0.743052</td>\n",
       "      <td>0.188057</td>\n",
       "      <td>0.689825</td>\n",
       "      <td>0.175659</td>\n",
       "      <td>0.348090</td>\n",
       "      <td>0.397075</td>\n",
       "      <td>0.535934</td>\n",
       "      <td>0.724258</td>\n",
       "      <td>...</td>\n",
       "      <td>1.000000</td>\n",
       "      <td>0.410361</td>\n",
       "      <td>0.000000</td>\n",
       "      <td>0.000000</td>\n",
       "      <td>0.421731</td>\n",
       "      <td>0.000000</td>\n",
       "      <td>0.729792</td>\n",
       "      <td>0.265253</td>\n",
       "      <td>0.019189</td>\n",
       "      <td>0.396208</td>\n",
       "    </tr>\n",
       "    <tr>\n",
       "      <th>ctr2</th>\n",
       "      <td>1.000000</td>\n",
       "      <td>1.000000</td>\n",
       "      <td>0.930957</td>\n",
       "      <td>0.054732</td>\n",
       "      <td>1.000000</td>\n",
       "      <td>0.037862</td>\n",
       "      <td>0.519293</td>\n",
       "      <td>0.497520</td>\n",
       "      <td>0.344985</td>\n",
       "      <td>0.743417</td>\n",
       "      <td>...</td>\n",
       "      <td>0.765723</td>\n",
       "      <td>0.755719</td>\n",
       "      <td>1.000000</td>\n",
       "      <td>0.733138</td>\n",
       "      <td>0.649858</td>\n",
       "      <td>0.608512</td>\n",
       "      <td>0.820108</td>\n",
       "      <td>0.734392</td>\n",
       "      <td>0.158411</td>\n",
       "      <td>0.406434</td>\n",
       "    </tr>\n",
       "    <tr>\n",
       "      <th>ctr3</th>\n",
       "      <td>0.244473</td>\n",
       "      <td>0.218444</td>\n",
       "      <td>0.408271</td>\n",
       "      <td>0.200129</td>\n",
       "      <td>0.402652</td>\n",
       "      <td>0.234265</td>\n",
       "      <td>0.666184</td>\n",
       "      <td>0.190454</td>\n",
       "      <td>0.586170</td>\n",
       "      <td>0.370261</td>\n",
       "      <td>...</td>\n",
       "      <td>0.500288</td>\n",
       "      <td>0.619002</td>\n",
       "      <td>0.616995</td>\n",
       "      <td>0.568109</td>\n",
       "      <td>0.301221</td>\n",
       "      <td>0.314559</td>\n",
       "      <td>0.000000</td>\n",
       "      <td>0.705033</td>\n",
       "      <td>1.000000</td>\n",
       "      <td>0.000000</td>\n",
       "    </tr>\n",
       "    <tr>\n",
       "      <th>ctr4</th>\n",
       "      <td>0.392815</td>\n",
       "      <td>0.677545</td>\n",
       "      <td>0.821413</td>\n",
       "      <td>0.150668</td>\n",
       "      <td>0.683873</td>\n",
       "      <td>0.062795</td>\n",
       "      <td>0.285577</td>\n",
       "      <td>0.292547</td>\n",
       "      <td>0.863297</td>\n",
       "      <td>0.753464</td>\n",
       "      <td>...</td>\n",
       "      <td>0.613284</td>\n",
       "      <td>0.273471</td>\n",
       "      <td>0.532409</td>\n",
       "      <td>0.337062</td>\n",
       "      <td>0.495286</td>\n",
       "      <td>0.069245</td>\n",
       "      <td>0.878660</td>\n",
       "      <td>0.892029</td>\n",
       "      <td>0.175745</td>\n",
       "      <td>0.267894</td>\n",
       "    </tr>\n",
       "  </tbody>\n",
       "</table>\n",
       "<p>5 rows × 3284 columns</p>\n",
       "</div>"
      ],
      "text/plain": [
       "0      BIOCARTA_GRANULOCYTES_PATHWAY  BIOCARTA_LYM_PATHWAY  \\\n",
       "Name                                                         \n",
       "ctr1                        0.158195              0.388701   \n",
       "ctr10                       0.406135              0.854409   \n",
       "ctr2                        1.000000              1.000000   \n",
       "ctr3                        0.244473              0.218444   \n",
       "ctr4                        0.392815              0.677545   \n",
       "\n",
       "0      BIOCARTA_BLYMPHOCYTE_PATHWAY  BIOCARTA_CARM_ER_PATHWAY  \\\n",
       "Name                                                            \n",
       "ctr1                       0.440945                  0.092605   \n",
       "ctr10                      0.743052                  0.188057   \n",
       "ctr2                       0.930957                  0.054732   \n",
       "ctr3                       0.408271                  0.200129   \n",
       "ctr4                       0.821413                  0.150668   \n",
       "\n",
       "0      BIOCARTA_LAIR_PATHWAY  BIOCARTA_VDR_PATHWAY  BIOCARTA_MTA3_PATHWAY  \\\n",
       "Name                                                                        \n",
       "ctr1                0.475311              0.057111               0.257026   \n",
       "ctr10               0.689825              0.175659               0.348090   \n",
       "ctr2                1.000000              0.037862               0.519293   \n",
       "ctr3                0.402652              0.234265               0.666184   \n",
       "ctr4                0.683873              0.062795               0.285577   \n",
       "\n",
       "0      BIOCARTA_GABA_PATHWAY  BIOCARTA_EGFR_SMRTE_PATHWAY  \\\n",
       "Name                                                        \n",
       "ctr1                0.251736                     1.000000   \n",
       "ctr10               0.397075                     0.535934   \n",
       "ctr2                0.497520                     0.344985   \n",
       "ctr3                0.190454                     0.586170   \n",
       "ctr4                0.292547                     0.863297   \n",
       "\n",
       "0      BIOCARTA_MONOCYTE_PATHWAY  ...  HALLMARK_COAGULATION  \\\n",
       "Name                              ...                         \n",
       "ctr1                    0.480868  ...              0.357012   \n",
       "ctr10                   0.724258  ...              1.000000   \n",
       "ctr2                    0.743417  ...              0.765723   \n",
       "ctr3                    0.370261  ...              0.500288   \n",
       "ctr4                    0.753464  ...              0.613284   \n",
       "\n",
       "0      HALLMARK_IL2_STAT5_SIGNALING  HALLMARK_BILE_ACID_METABOLISM  \\\n",
       "Name                                                                 \n",
       "ctr1                       0.250343                       0.513151   \n",
       "ctr10                      0.410361                       0.000000   \n",
       "ctr2                       0.755719                       1.000000   \n",
       "ctr3                       0.619002                       0.616995   \n",
       "ctr4                       0.273471                       0.532409   \n",
       "\n",
       "0      HALLMARK_PEROXISOME  HALLMARK_ALLOGRAFT_REJECTION  \\\n",
       "Name                                                       \n",
       "ctr1              0.307908                      0.265062   \n",
       "ctr10             0.000000                      0.421731   \n",
       "ctr2              0.733138                      0.649858   \n",
       "ctr3              0.568109                      0.301221   \n",
       "ctr4              0.337062                      0.495286   \n",
       "\n",
       "0      HALLMARK_SPERMATOGENESIS  HALLMARK_KRAS_SIGNALING  \\\n",
       "Name                                                       \n",
       "ctr1                   0.129048                 0.927842   \n",
       "ctr10                  0.000000                 0.729792   \n",
       "ctr2                   0.608512                 0.820108   \n",
       "ctr3                   0.314559                 0.000000   \n",
       "ctr4                   0.069245                 0.878660   \n",
       "\n",
       "0      HALLMARK_KRAS_SIGNALING_UP  HALLMARK_KRAS_SIGNALING_DN  \\\n",
       "Name                                                            \n",
       "ctr1                     0.841591                    0.099294   \n",
       "ctr10                    0.265253                    0.019189   \n",
       "ctr2                     0.734392                    0.158411   \n",
       "ctr3                     0.705033                    1.000000   \n",
       "ctr4                     0.892029                    0.175745   \n",
       "\n",
       "0      HALLMARK_PANCREAS_BETA_CELLS  \n",
       "Name                                 \n",
       "ctr1                       0.139303  \n",
       "ctr10                      0.396208  \n",
       "ctr2                       0.406434  \n",
       "ctr3                       0.000000  \n",
       "ctr4                       0.267894  \n",
       "\n",
       "[5 rows x 3284 columns]"
      ]
     },
     "execution_count": 8,
     "metadata": {},
     "output_type": "execute_result"
    }
   ],
   "source": [
    "# prediction data \n",
    "predictData = pd.DataFrame(data = myCCLSignature).transpose()\n",
    "new_header = predictData.iloc[0] \n",
    "predictData = predictData[1:] \n",
    "predictData.columns = new_header \n",
    "predictData = predictData.apply(pd.to_numeric, errors='ignore')\n",
    "predictData = predictData.set_index(['Name'])\n",
    "predictData = normalize(predictData)\n",
    "predictData.head()"
   ]
  },
  {
   "cell_type": "code",
   "execution_count": 9,
   "id": "c6935a1a",
   "metadata": {
    "ExecuteTime": {
     "end_time": "2023-07-07T02:14:01.821073Z",
     "start_time": "2023-07-07T02:14:01.535625Z"
    }
   },
   "outputs": [],
   "source": [
    "# Prepare train set\n",
    "trainData = pd.DataFrame(data = CCLECCLSignature).transpose()\n",
    "new_header = trainData.iloc[0] \n",
    "trainData = trainData[1:] \n",
    "trainData.columns = new_header "
   ]
  },
  {
   "cell_type": "code",
   "execution_count": 10,
   "id": "52014506",
   "metadata": {
    "ExecuteTime": {
     "end_time": "2023-07-07T02:14:15.669565Z",
     "start_time": "2023-07-07T02:14:01.823073Z"
    }
   },
   "outputs": [
    {
     "data": {
      "text/html": [
       "<div>\n",
       "<style scoped>\n",
       "    .dataframe tbody tr th:only-of-type {\n",
       "        vertical-align: middle;\n",
       "    }\n",
       "\n",
       "    .dataframe tbody tr th {\n",
       "        vertical-align: top;\n",
       "    }\n",
       "\n",
       "    .dataframe thead th {\n",
       "        text-align: right;\n",
       "    }\n",
       "</style>\n",
       "<table border=\"1\" class=\"dataframe\">\n",
       "  <thead>\n",
       "    <tr style=\"text-align: right;\">\n",
       "      <th></th>\n",
       "      <th>BIOCARTA_GRANULOCYTES_PATHWAY</th>\n",
       "      <th>BIOCARTA_LYM_PATHWAY</th>\n",
       "      <th>BIOCARTA_BLYMPHOCYTE_PATHWAY</th>\n",
       "      <th>BIOCARTA_CARM_ER_PATHWAY</th>\n",
       "      <th>BIOCARTA_LAIR_PATHWAY</th>\n",
       "      <th>BIOCARTA_VDR_PATHWAY</th>\n",
       "      <th>BIOCARTA_MTA3_PATHWAY</th>\n",
       "      <th>BIOCARTA_GABA_PATHWAY</th>\n",
       "      <th>BIOCARTA_EGFR_SMRTE_PATHWAY</th>\n",
       "      <th>BIOCARTA_MONOCYTE_PATHWAY</th>\n",
       "      <th>...</th>\n",
       "      <th>HALLMARK_COAGULATION</th>\n",
       "      <th>HALLMARK_IL2_STAT5_SIGNALING</th>\n",
       "      <th>HALLMARK_BILE_ACID_METABOLISM</th>\n",
       "      <th>HALLMARK_PEROXISOME</th>\n",
       "      <th>HALLMARK_ALLOGRAFT_REJECTION</th>\n",
       "      <th>HALLMARK_SPERMATOGENESIS</th>\n",
       "      <th>HALLMARK_KRAS_SIGNALING</th>\n",
       "      <th>HALLMARK_KRAS_SIGNALING_UP</th>\n",
       "      <th>HALLMARK_KRAS_SIGNALING_DN</th>\n",
       "      <th>HALLMARK_PANCREAS_BETA_CELLS</th>\n",
       "    </tr>\n",
       "    <tr>\n",
       "      <th>Name</th>\n",
       "      <th></th>\n",
       "      <th></th>\n",
       "      <th></th>\n",
       "      <th></th>\n",
       "      <th></th>\n",
       "      <th></th>\n",
       "      <th></th>\n",
       "      <th></th>\n",
       "      <th></th>\n",
       "      <th></th>\n",
       "      <th></th>\n",
       "      <th></th>\n",
       "      <th></th>\n",
       "      <th></th>\n",
       "      <th></th>\n",
       "      <th></th>\n",
       "      <th></th>\n",
       "      <th></th>\n",
       "      <th></th>\n",
       "      <th></th>\n",
       "      <th></th>\n",
       "    </tr>\n",
       "  </thead>\n",
       "  <tbody>\n",
       "    <tr>\n",
       "      <th>ACH-001113</th>\n",
       "      <td>0.201899</td>\n",
       "      <td>0.214778</td>\n",
       "      <td>0.107506</td>\n",
       "      <td>0.436254</td>\n",
       "      <td>0.251323</td>\n",
       "      <td>0.543866</td>\n",
       "      <td>0.402230</td>\n",
       "      <td>0.446239</td>\n",
       "      <td>0.692287</td>\n",
       "      <td>0.299681</td>\n",
       "      <td>...</td>\n",
       "      <td>0.369956</td>\n",
       "      <td>0.589361</td>\n",
       "      <td>0.231132</td>\n",
       "      <td>0.508302</td>\n",
       "      <td>0.178205</td>\n",
       "      <td>0.653705</td>\n",
       "      <td>0.345327</td>\n",
       "      <td>0.352541</td>\n",
       "      <td>0.390359</td>\n",
       "      <td>0.232997</td>\n",
       "    </tr>\n",
       "    <tr>\n",
       "      <th>ACH-000242</th>\n",
       "      <td>0.210679</td>\n",
       "      <td>0.195089</td>\n",
       "      <td>0.137566</td>\n",
       "      <td>0.598515</td>\n",
       "      <td>0.192437</td>\n",
       "      <td>0.888515</td>\n",
       "      <td>0.381405</td>\n",
       "      <td>0.108177</td>\n",
       "      <td>0.679700</td>\n",
       "      <td>0.285389</td>\n",
       "      <td>...</td>\n",
       "      <td>0.448744</td>\n",
       "      <td>0.651476</td>\n",
       "      <td>0.461799</td>\n",
       "      <td>0.710828</td>\n",
       "      <td>0.337337</td>\n",
       "      <td>0.380484</td>\n",
       "      <td>0.503869</td>\n",
       "      <td>0.462545</td>\n",
       "      <td>0.288830</td>\n",
       "      <td>0.128070</td>\n",
       "    </tr>\n",
       "    <tr>\n",
       "      <th>ACH-000327</th>\n",
       "      <td>0.226109</td>\n",
       "      <td>0.228415</td>\n",
       "      <td>0.131664</td>\n",
       "      <td>0.807736</td>\n",
       "      <td>0.214956</td>\n",
       "      <td>0.105343</td>\n",
       "      <td>0.366447</td>\n",
       "      <td>0.534534</td>\n",
       "      <td>0.508604</td>\n",
       "      <td>0.279435</td>\n",
       "      <td>...</td>\n",
       "      <td>0.377387</td>\n",
       "      <td>0.627130</td>\n",
       "      <td>0.639671</td>\n",
       "      <td>0.951057</td>\n",
       "      <td>0.237352</td>\n",
       "      <td>0.491974</td>\n",
       "      <td>0.441105</td>\n",
       "      <td>0.435839</td>\n",
       "      <td>0.353783</td>\n",
       "      <td>0.339955</td>\n",
       "    </tr>\n",
       "    <tr>\n",
       "      <th>ACH-000461</th>\n",
       "      <td>0.230496</td>\n",
       "      <td>0.359472</td>\n",
       "      <td>0.087643</td>\n",
       "      <td>0.529038</td>\n",
       "      <td>0.244749</td>\n",
       "      <td>0.476536</td>\n",
       "      <td>0.201961</td>\n",
       "      <td>0.313338</td>\n",
       "      <td>0.724363</td>\n",
       "      <td>0.298408</td>\n",
       "      <td>...</td>\n",
       "      <td>0.475189</td>\n",
       "      <td>0.725638</td>\n",
       "      <td>0.126653</td>\n",
       "      <td>0.531472</td>\n",
       "      <td>0.348210</td>\n",
       "      <td>0.451362</td>\n",
       "      <td>0.611400</td>\n",
       "      <td>0.517533</td>\n",
       "      <td>0.191123</td>\n",
       "      <td>0.196242</td>\n",
       "    </tr>\n",
       "    <tr>\n",
       "      <th>ACH-000792</th>\n",
       "      <td>0.394568</td>\n",
       "      <td>0.663835</td>\n",
       "      <td>0.308974</td>\n",
       "      <td>0.400182</td>\n",
       "      <td>0.578346</td>\n",
       "      <td>0.287388</td>\n",
       "      <td>0.289313</td>\n",
       "      <td>0.165095</td>\n",
       "      <td>0.557640</td>\n",
       "      <td>0.630891</td>\n",
       "      <td>...</td>\n",
       "      <td>0.624730</td>\n",
       "      <td>0.829904</td>\n",
       "      <td>0.180853</td>\n",
       "      <td>0.480622</td>\n",
       "      <td>0.450919</td>\n",
       "      <td>0.481082</td>\n",
       "      <td>0.591145</td>\n",
       "      <td>0.458782</td>\n",
       "      <td>0.138390</td>\n",
       "      <td>0.197292</td>\n",
       "    </tr>\n",
       "  </tbody>\n",
       "</table>\n",
       "<p>5 rows × 3284 columns</p>\n",
       "</div>"
      ],
      "text/plain": [
       "0           BIOCARTA_GRANULOCYTES_PATHWAY  BIOCARTA_LYM_PATHWAY  \\\n",
       "Name                                                              \n",
       "ACH-001113                       0.201899              0.214778   \n",
       "ACH-000242                       0.210679              0.195089   \n",
       "ACH-000327                       0.226109              0.228415   \n",
       "ACH-000461                       0.230496              0.359472   \n",
       "ACH-000792                       0.394568              0.663835   \n",
       "\n",
       "0           BIOCARTA_BLYMPHOCYTE_PATHWAY  BIOCARTA_CARM_ER_PATHWAY  \\\n",
       "Name                                                                 \n",
       "ACH-001113                      0.107506                  0.436254   \n",
       "ACH-000242                      0.137566                  0.598515   \n",
       "ACH-000327                      0.131664                  0.807736   \n",
       "ACH-000461                      0.087643                  0.529038   \n",
       "ACH-000792                      0.308974                  0.400182   \n",
       "\n",
       "0           BIOCARTA_LAIR_PATHWAY  BIOCARTA_VDR_PATHWAY  \\\n",
       "Name                                                      \n",
       "ACH-001113               0.251323              0.543866   \n",
       "ACH-000242               0.192437              0.888515   \n",
       "ACH-000327               0.214956              0.105343   \n",
       "ACH-000461               0.244749              0.476536   \n",
       "ACH-000792               0.578346              0.287388   \n",
       "\n",
       "0           BIOCARTA_MTA3_PATHWAY  BIOCARTA_GABA_PATHWAY  \\\n",
       "Name                                                       \n",
       "ACH-001113               0.402230               0.446239   \n",
       "ACH-000242               0.381405               0.108177   \n",
       "ACH-000327               0.366447               0.534534   \n",
       "ACH-000461               0.201961               0.313338   \n",
       "ACH-000792               0.289313               0.165095   \n",
       "\n",
       "0           BIOCARTA_EGFR_SMRTE_PATHWAY  BIOCARTA_MONOCYTE_PATHWAY  ...  \\\n",
       "Name                                                                ...   \n",
       "ACH-001113                     0.692287                   0.299681  ...   \n",
       "ACH-000242                     0.679700                   0.285389  ...   \n",
       "ACH-000327                     0.508604                   0.279435  ...   \n",
       "ACH-000461                     0.724363                   0.298408  ...   \n",
       "ACH-000792                     0.557640                   0.630891  ...   \n",
       "\n",
       "0           HALLMARK_COAGULATION  HALLMARK_IL2_STAT5_SIGNALING  \\\n",
       "Name                                                             \n",
       "ACH-001113              0.369956                      0.589361   \n",
       "ACH-000242              0.448744                      0.651476   \n",
       "ACH-000327              0.377387                      0.627130   \n",
       "ACH-000461              0.475189                      0.725638   \n",
       "ACH-000792              0.624730                      0.829904   \n",
       "\n",
       "0           HALLMARK_BILE_ACID_METABOLISM  HALLMARK_PEROXISOME  \\\n",
       "Name                                                             \n",
       "ACH-001113                       0.231132             0.508302   \n",
       "ACH-000242                       0.461799             0.710828   \n",
       "ACH-000327                       0.639671             0.951057   \n",
       "ACH-000461                       0.126653             0.531472   \n",
       "ACH-000792                       0.180853             0.480622   \n",
       "\n",
       "0           HALLMARK_ALLOGRAFT_REJECTION  HALLMARK_SPERMATOGENESIS  \\\n",
       "Name                                                                 \n",
       "ACH-001113                      0.178205                  0.653705   \n",
       "ACH-000242                      0.337337                  0.380484   \n",
       "ACH-000327                      0.237352                  0.491974   \n",
       "ACH-000461                      0.348210                  0.451362   \n",
       "ACH-000792                      0.450919                  0.481082   \n",
       "\n",
       "0           HALLMARK_KRAS_SIGNALING  HALLMARK_KRAS_SIGNALING_UP  \\\n",
       "Name                                                              \n",
       "ACH-001113                 0.345327                    0.352541   \n",
       "ACH-000242                 0.503869                    0.462545   \n",
       "ACH-000327                 0.441105                    0.435839   \n",
       "ACH-000461                 0.611400                    0.517533   \n",
       "ACH-000792                 0.591145                    0.458782   \n",
       "\n",
       "0           HALLMARK_KRAS_SIGNALING_DN  HALLMARK_PANCREAS_BETA_CELLS  \n",
       "Name                                                                  \n",
       "ACH-001113                    0.390359                      0.232997  \n",
       "ACH-000242                    0.288830                      0.128070  \n",
       "ACH-000327                    0.353783                      0.339955  \n",
       "ACH-000461                    0.191123                      0.196242  \n",
       "ACH-000792                    0.138390                      0.197292  \n",
       "\n",
       "[5 rows x 3284 columns]"
      ]
     },
     "execution_count": 10,
     "metadata": {},
     "output_type": "execute_result"
    }
   ],
   "source": [
    "# filter valid ID\n",
    "validSet = set()\n",
    "for name in trainData['Name']:\n",
    "    if CCLEidToCTRPNameDict[name] in cclToAUCdict:\n",
    "        validSet.add(name)\n",
    "trainData = trainData.loc[trainData['Name'].isin(validSet)]\n",
    "trainData = trainData.reset_index(drop = True)\n",
    "trainData = trainData.set_index(['Name'])\n",
    "trainData = trainData.apply(pd.to_numeric)\n",
    "trainData = normalize(trainData)\n",
    "trainData.head()"
   ]
  },
  {
   "cell_type": "code",
   "execution_count": 11,
   "id": "90ce4112",
   "metadata": {
    "ExecuteTime": {
     "end_time": "2023-07-07T02:14:15.685078Z",
     "start_time": "2023-07-07T02:14:15.670566Z"
    }
   },
   "outputs": [],
   "source": [
    "if not all(trainData.columns == predictData.columns):\n",
    "    mismatched_columns = trainData.columns[~np.isin(trainData.columns, predictData.columns)]\n",
    "    raise Exception(\"Columns do not match! Mismatched columns: {}\".format(mismatched_columns))"
   ]
  },
  {
   "cell_type": "code",
   "execution_count": 12,
   "id": "53f9ca95",
   "metadata": {
    "ExecuteTime": {
     "end_time": "2023-07-07T02:14:16.353257Z",
     "start_time": "2023-07-07T02:14:15.687078Z"
    },
    "scrolled": false
   },
   "outputs": [],
   "source": [
    "#labels data\n",
    "labelsDataOriginal = pd.DataFrame(columns = [sub[1] for sub in CTRPCCLAUC[7:]])\n",
    "for name in trainData.index:\n",
    "    labelsDataOriginal.loc[len(labelsDataOriginal.index)] = cclToAUCdict[CCLEidToCTRPNameDict[name]]\n",
    "labelsDataOriginal = labelsDataOriginal.set_index(trainData.index)"
   ]
  },
  {
   "cell_type": "code",
   "execution_count": 13,
   "id": "651b49a8",
   "metadata": {
    "ExecuteTime": {
     "end_time": "2023-07-07T02:14:16.369094Z",
     "start_time": "2023-07-07T02:14:16.353257Z"
    }
   },
   "outputs": [],
   "source": [
    "#add high priority at the begining. e.g dasatinib\n",
    "labels = list(labelsDataOriginal.columns)\n",
    "# labels = ['dasatinib','temozolomide','lovastatin','1S3R-RSL-3'] + labels"
   ]
  },
  {
   "cell_type": "code",
   "execution_count": 14,
   "id": "a2f329e7",
   "metadata": {
    "ExecuteTime": {
     "end_time": "2023-07-07T02:14:16.385095Z",
     "start_time": "2023-07-07T02:14:16.371095Z"
    }
   },
   "outputs": [],
   "source": [
    "visited = set()\n",
    "for entry in os.scandir(os.getcwd()):\n",
    "    if entry.is_dir():\n",
    "        visited.add(entry.name)"
   ]
  },
  {
   "cell_type": "code",
   "execution_count": 15,
   "id": "062064dc",
   "metadata": {
    "ExecuteTime": {
     "end_time": "2023-07-07T02:14:16.401096Z",
     "start_time": "2023-07-07T02:14:16.387097Z"
    }
   },
   "outputs": [],
   "source": [
    "#constants\n",
    "problem_types = ['regression'] \n",
    "eval_metrics = ['mean_squared_error']\n",
    "time_limit = 60 * 60 * 24\n",
    "tops = [100,300,600]"
   ]
  },
  {
   "cell_type": "code",
   "execution_count": 16,
   "id": "e4368cb5",
   "metadata": {},
   "outputs": [
    {
     "name": "stderr",
     "output_type": "stream",
     "text": [
      "Warning: path already exists! This predictor may overwrite an existing predictor! path=\"zebularine/GiloML_predictDrugAUC_Full_Feature_Medium_Quality_Model_zebularine\\Predictor_zebularine\"\n"
     ]
    },
    {
     "name": "stdout",
     "output_type": "stream",
     "text": [
      "Predicting with TabularPredictor for label: zebularine ...0.0%\n"
     ]
    },
    {
     "name": "stderr",
     "output_type": "stream",
     "text": [
      "Warning: path already exists! This predictor may overwrite an existing predictor! path=\"azacitidine/GiloML_predictDrugAUC_Full_Feature_Medium_Quality_Model_azacitidine\\Predictor_azacitidine\"\n",
      "Warning: path already exists! This predictor may overwrite an existing predictor! path=\"nelarabine/GiloML_predictDrugAUC_Full_Feature_Medium_Quality_Model_nelarabine\\Predictor_nelarabine\"\n"
     ]
    },
    {
     "name": "stdout",
     "output_type": "stream",
     "text": [
      "Predicting with TabularPredictor for label: azacitidine ...0.0%\n",
      "Predicting with TabularPredictor for label: nelarabine ...0.0%\n"
     ]
    },
    {
     "name": "stderr",
     "output_type": "stream",
     "text": [
      "Warning: path already exists! This predictor may overwrite an existing predictor! path=\"myricetin/GiloML_predictDrugAUC_Full_Feature_Medium_Quality_Model_myricetin\\Predictor_myricetin\"\n"
     ]
    },
    {
     "name": "stdout",
     "output_type": "stream",
     "text": [
      "Predicting with TabularPredictor for label: myricetin ...0.0%\n"
     ]
    },
    {
     "name": "stderr",
     "output_type": "stream",
     "text": [
      "Warning: path already exists! This predictor may overwrite an existing predictor! path=\"BRD-K64610608/GiloML_predictDrugAUC_Full_Feature_Medium_Quality_Model_BRD-K64610608\\Predictor_BRD-K64610608\"\n",
      "Warning: path already exists! This predictor may overwrite an existing predictor! path=\"ML334 diastereomer/GiloML_predictDrugAUC_Full_Feature_Medium_Quality_Model_ML334 diastereomer\\Predictor_ML334 diastereomer\"\n"
     ]
    },
    {
     "name": "stdout",
     "output_type": "stream",
     "text": [
      "Predicting with TabularPredictor for label: BRD-K64610608 ...0.0%\n",
      "Predicting with TabularPredictor for label: ML334 diastereomer ...0.0%\n"
     ]
    },
    {
     "name": "stderr",
     "output_type": "stream",
     "text": [
      "Warning: path already exists! This predictor may overwrite an existing predictor! path=\"BRD-K09344309/GiloML_predictDrugAUC_Full_Feature_Medium_Quality_Model_BRD-K09344309\\Predictor_BRD-K09344309\"\n"
     ]
    },
    {
     "name": "stdout",
     "output_type": "stream",
     "text": [
      "Predicting with TabularPredictor for label: BRD-K09344309 ...0.0%\n"
     ]
    },
    {
     "name": "stderr",
     "output_type": "stream",
     "text": [
      "Warning: path already exists! This predictor may overwrite an existing predictor! path=\"isonicotinohydroxamic acid/GiloML_predictDrugAUC_Full_Feature_Medium_Quality_Model_isonicotinohydroxamic acid\\Predictor_isonicotinohydroxamic acid\"\n"
     ]
    },
    {
     "name": "stdout",
     "output_type": "stream",
     "text": [
      "Predicting with TabularPredictor for label: isonicotinohydroxamic acid ...0.0%\n"
     ]
    },
    {
     "name": "stderr",
     "output_type": "stream",
     "text": [
      "Warning: path already exists! This predictor may overwrite an existing predictor! path=\"QS-11/GiloML_predictDrugAUC_Full_Feature_Medium_Quality_Model_QS-11\\Predictor_QS-11\"\n",
      "Warning: path already exists! This predictor may overwrite an existing predictor! path=\"brivanib/GiloML_predictDrugAUC_Full_Feature_Medium_Quality_Model_brivanib\\Predictor_brivanib\"\n"
     ]
    },
    {
     "name": "stdout",
     "output_type": "stream",
     "text": [
      "Predicting with TabularPredictor for label: QS-11 ...0.0%\n",
      "Predicting with TabularPredictor for label: brivanib ...0.0%\n"
     ]
    },
    {
     "name": "stderr",
     "output_type": "stream",
     "text": [
      "Warning: path already exists! This predictor may overwrite an existing predictor! path=\"BRD8958/GiloML_predictDrugAUC_Full_Feature_Medium_Quality_Model_BRD8958\\Predictor_BRD8958\"\n"
     ]
    },
    {
     "name": "stdout",
     "output_type": "stream",
     "text": [
      "Predicting with TabularPredictor for label: BRD8958 ...0.0%\n"
     ]
    },
    {
     "name": "stderr",
     "output_type": "stream",
     "text": [
      "Warning: path already exists! This predictor may overwrite an existing predictor! path=\"BRD-K34099515/GiloML_predictDrugAUC_Full_Feature_Medium_Quality_Model_BRD-K34099515\\Predictor_BRD-K34099515\"\n",
      "Warning: path already exists! This predictor may overwrite an existing predictor! path=\"A-804598/GiloML_predictDrugAUC_Full_Feature_Medium_Quality_Model_A-804598\\Predictor_A-804598\"\n"
     ]
    },
    {
     "name": "stdout",
     "output_type": "stream",
     "text": [
      "Predicting with TabularPredictor for label: BRD-K34099515 ...0.0%\n",
      "Predicting with TabularPredictor for label: A-804598 ...0.0%\n"
     ]
    },
    {
     "name": "stderr",
     "output_type": "stream",
     "text": [
      "Warning: path already exists! This predictor may overwrite an existing predictor! path=\"erismodegib/GiloML_predictDrugAUC_Full_Feature_Medium_Quality_Model_erismodegib\\Predictor_erismodegib\"\n",
      "Warning: path already exists! This predictor may overwrite an existing predictor! path=\"abiraterone/GiloML_predictDrugAUC_Full_Feature_Medium_Quality_Model_abiraterone\\Predictor_abiraterone\"\n"
     ]
    },
    {
     "name": "stdout",
     "output_type": "stream",
     "text": [
      "Predicting with TabularPredictor for label: erismodegib ...0.0%\n",
      "Predicting with TabularPredictor for label: abiraterone ...0.0%\n"
     ]
    },
    {
     "name": "stderr",
     "output_type": "stream",
     "text": [
      "Warning: path already exists! This predictor may overwrite an existing predictor! path=\"ifosfamide/GiloML_predictDrugAUC_Full_Feature_Medium_Quality_Model_ifosfamide\\Predictor_ifosfamide\"\n"
     ]
    },
    {
     "name": "stdout",
     "output_type": "stream",
     "text": [
      "Predicting with TabularPredictor for label: ifosfamide ...0.0%\n"
     ]
    },
    {
     "name": "stderr",
     "output_type": "stream",
     "text": [
      "Warning: path already exists! This predictor may overwrite an existing predictor! path=\"temozolomide/GiloML_predictDrugAUC_Full_Feature_Medium_Quality_Model_temozolomide\\Predictor_temozolomide\"\n"
     ]
    },
    {
     "name": "stdout",
     "output_type": "stream",
     "text": [
      "Predicting with TabularPredictor for label: temozolomide ...0.0%\n"
     ]
    },
    {
     "name": "stderr",
     "output_type": "stream",
     "text": [
      "Warning: path already exists! This predictor may overwrite an existing predictor! path=\"BRD-A05715709/GiloML_predictDrugAUC_Full_Feature_Medium_Quality_Model_BRD-A05715709\\Predictor_BRD-A05715709\"\n",
      "Warning: path already exists! This predictor may overwrite an existing predictor! path=\"BRD-K48477130/GiloML_predictDrugAUC_Full_Feature_Medium_Quality_Model_BRD-K48477130\\Predictor_BRD-K48477130\"\n"
     ]
    },
    {
     "name": "stdout",
     "output_type": "stream",
     "text": [
      "Predicting with TabularPredictor for label: BRD-A05715709 ...0.0%\n",
      "Predicting with TabularPredictor for label: BRD-K48477130 ...0.0%\n"
     ]
    },
    {
     "name": "stderr",
     "output_type": "stream",
     "text": [
      "Warning: path already exists! This predictor may overwrite an existing predictor! path=\"CAY10594/GiloML_predictDrugAUC_Full_Feature_Medium_Quality_Model_CAY10594\\Predictor_CAY10594\"\n",
      "Warning: path already exists! This predictor may overwrite an existing predictor! path=\"WP1130/GiloML_predictDrugAUC_Full_Feature_Medium_Quality_Model_WP1130\\Predictor_WP1130\"\n"
     ]
    },
    {
     "name": "stdout",
     "output_type": "stream",
     "text": [
      "Predicting with TabularPredictor for label: CAY10594 ...0.0%\n",
      "Predicting with TabularPredictor for label: WP1130 ...0.0%\n"
     ]
    },
    {
     "name": "stderr",
     "output_type": "stream",
     "text": [
      "Warning: path already exists! This predictor may overwrite an existing predictor! path=\"tamoxifen/GiloML_predictDrugAUC_Full_Feature_Medium_Quality_Model_tamoxifen\\Predictor_tamoxifen\"\n",
      "Warning: path already exists! This predictor may overwrite an existing predictor! path=\"importazole/GiloML_predictDrugAUC_Full_Feature_Medium_Quality_Model_importazole\\Predictor_importazole\"\n"
     ]
    },
    {
     "name": "stdout",
     "output_type": "stream",
     "text": [
      "Predicting with TabularPredictor for label: tamoxifen ...0.0%\n"
     ]
    },
    {
     "name": "stderr",
     "output_type": "stream",
     "text": [
      "Warning: path already exists! This predictor may overwrite an existing predictor! path=\"ML006/GiloML_predictDrugAUC_Full_Feature_Medium_Quality_Model_ML006\\Predictor_ML006\"\n"
     ]
    },
    {
     "name": "stdout",
     "output_type": "stream",
     "text": [
      "Predicting with TabularPredictor for label: importazole ...0.0%\n"
     ]
    },
    {
     "name": "stderr",
     "output_type": "stream",
     "text": [
      "Warning: path already exists! This predictor may overwrite an existing predictor! path=\"AM-580/GiloML_predictDrugAUC_Full_Feature_Medium_Quality_Model_AM-580\\Predictor_AM-580\"\n"
     ]
    },
    {
     "name": "stdout",
     "output_type": "stream",
     "text": [
      "Predicting with TabularPredictor for label: ML006 ...0.0%\n"
     ]
    },
    {
     "name": "stderr",
     "output_type": "stream",
     "text": [
      "Warning: path already exists! This predictor may overwrite an existing predictor! path=\"CD-1530/GiloML_predictDrugAUC_Full_Feature_Medium_Quality_Model_CD-1530\\Predictor_CD-1530\"\n"
     ]
    },
    {
     "name": "stdout",
     "output_type": "stream",
     "text": [
      "Predicting with TabularPredictor for label: AM-580 ...0.0%\n",
      "Predicting with TabularPredictor for label: CD-1530 ...0.0%\n"
     ]
    },
    {
     "name": "stderr",
     "output_type": "stream",
     "text": [
      "Warning: path already exists! This predictor may overwrite an existing predictor! path=\"silmitasertib/GiloML_predictDrugAUC_Full_Feature_Medium_Quality_Model_silmitasertib\\Predictor_silmitasertib\"\n"
     ]
    },
    {
     "name": "stdout",
     "output_type": "stream",
     "text": [
      "Predicting with TabularPredictor for label: silmitasertib ...0.0%\n"
     ]
    },
    {
     "name": "stderr",
     "output_type": "stream",
     "text": [
      "Warning: path already exists! This predictor may overwrite an existing predictor! path=\"PRL-3 inhibitor I/GiloML_predictDrugAUC_Full_Feature_Medium_Quality_Model_PRL-3 inhibitor I\\Predictor_PRL-3 inhibitor I\"\n",
      "Warning: path already exists! This predictor may overwrite an existing predictor! path=\"NPC-26/GiloML_predictDrugAUC_Full_Feature_Medium_Quality_Model_NPC-26\\Predictor_NPC-26\"\n"
     ]
    },
    {
     "name": "stdout",
     "output_type": "stream",
     "text": [
      "Predicting with TabularPredictor for label: PRL-3 inhibitor I ...0.0%\n",
      "Predicting with TabularPredictor for label: NPC-26 ...0.0%\n"
     ]
    },
    {
     "name": "stderr",
     "output_type": "stream",
     "text": [
      "Warning: path already exists! This predictor may overwrite an existing predictor! path=\"betulinic acid/GiloML_predictDrugAUC_Full_Feature_Medium_Quality_Model_betulinic acid\\Predictor_betulinic acid\"\n",
      "Warning: path already exists! This predictor may overwrite an existing predictor! path=\"salermide/GiloML_predictDrugAUC_Full_Feature_Medium_Quality_Model_salermide\\Predictor_salermide\"\n"
     ]
    },
    {
     "name": "stdout",
     "output_type": "stream",
     "text": [
      "Predicting with TabularPredictor for label: betulinic acid ...0.0%\n",
      "Predicting with TabularPredictor for label: salermide ...0.0%\n"
     ]
    },
    {
     "name": "stderr",
     "output_type": "stream",
     "text": [
      "Warning: path already exists! This predictor may overwrite an existing predictor! path=\"BRD-M00053801/GiloML_predictDrugAUC_Full_Feature_Medium_Quality_Model_BRD-M00053801\\Predictor_BRD-M00053801\"\n",
      "Warning: path already exists! This predictor may overwrite an existing predictor! path=\"AA-COCF3/GiloML_predictDrugAUC_Full_Feature_Medium_Quality_Model_AA-COCF3\\Predictor_AA-COCF3\"\n"
     ]
    },
    {
     "name": "stdout",
     "output_type": "stream",
     "text": [
      "Predicting with TabularPredictor for label: BRD-M00053801 ...0.0%\n",
      "Predicting with TabularPredictor for label: AA-COCF3 ...0.0%\n"
     ]
    },
    {
     "name": "stderr",
     "output_type": "stream",
     "text": [
      "Warning: path already exists! This predictor may overwrite an existing predictor! path=\"CI-976/GiloML_predictDrugAUC_Full_Feature_Medium_Quality_Model_CI-976\\Predictor_CI-976\"\n"
     ]
    },
    {
     "name": "stdout",
     "output_type": "stream",
     "text": [
      "Predicting with TabularPredictor for label: CI-976 ...0.0%\n"
     ]
    },
    {
     "name": "stderr",
     "output_type": "stream",
     "text": [
      "Warning: path already exists! This predictor may overwrite an existing predictor! path=\"pifithrin-alpha/GiloML_predictDrugAUC_Full_Feature_Medium_Quality_Model_pifithrin-alpha\\Predictor_pifithrin-alpha\"\n"
     ]
    },
    {
     "name": "stdout",
     "output_type": "stream",
     "text": [
      "Predicting with TabularPredictor for label: pifithrin-alpha ...0.0%\n"
     ]
    },
    {
     "name": "stderr",
     "output_type": "stream",
     "text": [
      "Warning: path already exists! This predictor may overwrite an existing predictor! path=\"purmorphamine/GiloML_predictDrugAUC_Full_Feature_Medium_Quality_Model_purmorphamine\\Predictor_purmorphamine\"\n",
      "Warning: path already exists! This predictor may overwrite an existing predictor! path=\"BIBR-1532/GiloML_predictDrugAUC_Full_Feature_Medium_Quality_Model_BIBR-1532\\Predictor_BIBR-1532\"\n"
     ]
    },
    {
     "name": "stdout",
     "output_type": "stream",
     "text": [
      "Predicting with TabularPredictor for label: purmorphamine ...0.0%\n",
      "Predicting with TabularPredictor for label: BIBR-1532 ...0.0%\n"
     ]
    },
    {
     "name": "stderr",
     "output_type": "stream",
     "text": [
      "Warning: path already exists! This predictor may overwrite an existing predictor! path=\"niclosamide/GiloML_predictDrugAUC_Full_Feature_Medium_Quality_Model_niclosamide\\Predictor_niclosamide\"\n",
      "Warning: path already exists! This predictor may overwrite an existing predictor! path=\"bardoxolone methyl/GiloML_predictDrugAUC_Full_Feature_Medium_Quality_Model_bardoxolone methyl\\Predictor_bardoxolone methyl\"\n"
     ]
    },
    {
     "name": "stdout",
     "output_type": "stream",
     "text": [
      "Predicting with TabularPredictor for label: niclosamide ...0.0%\n",
      "Predicting with TabularPredictor for label: bardoxolone methyl ...0.0%\n"
     ]
    },
    {
     "name": "stderr",
     "output_type": "stream",
     "text": [
      "Warning: path already exists! This predictor may overwrite an existing predictor! path=\"hyperforin/GiloML_predictDrugAUC_Full_Feature_Medium_Quality_Model_hyperforin\\Predictor_hyperforin\"\n"
     ]
    },
    {
     "name": "stdout",
     "output_type": "stream",
     "text": [
      "Predicting with TabularPredictor for label: hyperforin ...0.0%\n"
     ]
    },
    {
     "name": "stderr",
     "output_type": "stream",
     "text": [
      "Warning: path already exists! This predictor may overwrite an existing predictor! path=\"BRD4132/GiloML_predictDrugAUC_Full_Feature_Medium_Quality_Model_BRD4132\\Predictor_BRD4132\"\n"
     ]
    },
    {
     "name": "stdout",
     "output_type": "stream",
     "text": [
      "Predicting with TabularPredictor for label: BRD4132 ...0.0%\n"
     ]
    },
    {
     "name": "stderr",
     "output_type": "stream",
     "text": [
      "Warning: path already exists! This predictor may overwrite an existing predictor! path=\"regorafenib/GiloML_predictDrugAUC_Full_Feature_Medium_Quality_Model_regorafenib\\Predictor_regorafenib\"\n",
      "Warning: path already exists! This predictor may overwrite an existing predictor! path=\"sorafenib/GiloML_predictDrugAUC_Full_Feature_Medium_Quality_Model_sorafenib\\Predictor_sorafenib\"\n"
     ]
    },
    {
     "name": "stdout",
     "output_type": "stream",
     "text": [
      "Predicting with TabularPredictor for label: regorafenib ...0.0%\n",
      "Predicting with TabularPredictor for label: sorafenib ...0.0%\n"
     ]
    },
    {
     "name": "stderr",
     "output_type": "stream",
     "text": [
      "Warning: path already exists! This predictor may overwrite an existing predictor! path=\"BRD-K51490254/GiloML_predictDrugAUC_Full_Feature_Medium_Quality_Model_BRD-K51490254\\Predictor_BRD-K51490254\"\n"
     ]
    },
    {
     "name": "stdout",
     "output_type": "stream",
     "text": [
      "Predicting with TabularPredictor for label: BRD-K51490254 ...0.0%\n"
     ]
    },
    {
     "name": "stderr",
     "output_type": "stream",
     "text": [
      "Warning: path already exists! This predictor may overwrite an existing predictor! path=\"EX-527/GiloML_predictDrugAUC_Full_Feature_Medium_Quality_Model_EX-527\\Predictor_EX-527\"\n",
      "Warning: path already exists! This predictor may overwrite an existing predictor! path=\"bendamustine/GiloML_predictDrugAUC_Full_Feature_Medium_Quality_Model_bendamustine\\Predictor_bendamustine\"\n"
     ]
    },
    {
     "name": "stdout",
     "output_type": "stream",
     "text": [
      "Predicting with TabularPredictor for label: EX-527 ...0.0%\n",
      "Predicting with TabularPredictor for label: bendamustine ...0.0%\n"
     ]
    },
    {
     "name": "stderr",
     "output_type": "stream",
     "text": [
      "Warning: path already exists! This predictor may overwrite an existing predictor! path=\"PYR-41/GiloML_predictDrugAUC_Full_Feature_Medium_Quality_Model_PYR-41\\Predictor_PYR-41\"\n",
      "Warning: path already exists! This predictor may overwrite an existing predictor! path=\"B02/GiloML_predictDrugAUC_Full_Feature_Medium_Quality_Model_B02\\Predictor_B02\"\n"
     ]
    },
    {
     "name": "stdout",
     "output_type": "stream",
     "text": [
      "Predicting with TabularPredictor for label: PYR-41 ...0.0%\n",
      "Predicting with TabularPredictor for label: B02 ...0.0%\n"
     ]
    },
    {
     "name": "stderr",
     "output_type": "stream",
     "text": [
      "Warning: path already exists! This predictor may overwrite an existing predictor! path=\"ML031/GiloML_predictDrugAUC_Full_Feature_Medium_Quality_Model_ML031\\Predictor_ML031\"\n",
      "Warning: path already exists! This predictor may overwrite an existing predictor! path=\"tipifarnib-P1/GiloML_predictDrugAUC_Full_Feature_Medium_Quality_Model_tipifarnib-P1\\Predictor_tipifarnib-P1\"\n"
     ]
    },
    {
     "name": "stdout",
     "output_type": "stream",
     "text": [
      "Predicting with TabularPredictor for label: ML031 ...0.0%\n",
      "Predicting with TabularPredictor for label: tipifarnib-P1 ...0.0%\n"
     ]
    },
    {
     "name": "stderr",
     "output_type": "stream",
     "text": [
      "Warning: path already exists! This predictor may overwrite an existing predictor! path=\"BRD9876/GiloML_predictDrugAUC_Full_Feature_Medium_Quality_Model_BRD9876\\Predictor_BRD9876\"\n"
     ]
    },
    {
     "name": "stdout",
     "output_type": "stream",
     "text": [
      "Predicting with TabularPredictor for label: BRD9876 ...0.0%\n"
     ]
    },
    {
     "name": "stderr",
     "output_type": "stream",
     "text": [
      "Warning: path already exists! This predictor may overwrite an existing predictor! path=\"parthenolide/GiloML_predictDrugAUC_Full_Feature_Medium_Quality_Model_parthenolide\\Predictor_parthenolide\"\n",
      "Warning: path already exists! This predictor may overwrite an existing predictor! path=\"tandutinib/GiloML_predictDrugAUC_Full_Feature_Medium_Quality_Model_tandutinib\\Predictor_tandutinib\"\n"
     ]
    },
    {
     "name": "stdout",
     "output_type": "stream",
     "text": [
      "Predicting with TabularPredictor for label: parthenolide ...0.0%\n",
      "Predicting with TabularPredictor for label: tandutinib ...0.0%\n"
     ]
    },
    {
     "name": "stderr",
     "output_type": "stream",
     "text": [
      "Warning: path already exists! This predictor may overwrite an existing predictor! path=\"CID-5951923/GiloML_predictDrugAUC_Full_Feature_Medium_Quality_Model_CID-5951923\\Predictor_CID-5951923\"\n",
      "Warning: path already exists! This predictor may overwrite an existing predictor! path=\"DBeQ/GiloML_predictDrugAUC_Full_Feature_Medium_Quality_Model_DBeQ\\Predictor_DBeQ\"\n"
     ]
    },
    {
     "name": "stdout",
     "output_type": "stream",
     "text": [
      "Predicting with TabularPredictor for label: CID-5951923 ...0.0%\n",
      "Predicting with TabularPredictor for label: DBeQ ...0.0%\n"
     ]
    },
    {
     "name": "stderr",
     "output_type": "stream",
     "text": [
      "Warning: path already exists! This predictor may overwrite an existing predictor! path=\"LE-135/GiloML_predictDrugAUC_Full_Feature_Medium_Quality_Model_LE-135\\Predictor_LE-135\"\n"
     ]
    },
    {
     "name": "stdout",
     "output_type": "stream",
     "text": [
      "Predicting with TabularPredictor for label: LE-135 ...0.0%\n"
     ]
    },
    {
     "name": "stderr",
     "output_type": "stream",
     "text": [
      "Warning: path already exists! This predictor may overwrite an existing predictor! path=\"BRD-K24690302/GiloML_predictDrugAUC_Full_Feature_Medium_Quality_Model_BRD-K24690302\\Predictor_BRD-K24690302\"\n",
      "Warning: path already exists! This predictor may overwrite an existing predictor! path=\"ML203/GiloML_predictDrugAUC_Full_Feature_Medium_Quality_Model_ML203\\Predictor_ML203\"\n"
     ]
    },
    {
     "name": "stdout",
     "output_type": "stream",
     "text": [
      "Predicting with TabularPredictor for label: BRD-K24690302 ...0.0%\n",
      "Predicting with TabularPredictor for label: ML203 ...0.0%\n"
     ]
    },
    {
     "name": "stderr",
     "output_type": "stream",
     "text": [
      "Warning: path already exists! This predictor may overwrite an existing predictor! path=\"dexamethasone/GiloML_predictDrugAUC_Full_Feature_Medium_Quality_Model_dexamethasone\\Predictor_dexamethasone\"\n",
      "Warning: path already exists! This predictor may overwrite an existing predictor! path=\"BRD8899/GiloML_predictDrugAUC_Full_Feature_Medium_Quality_Model_BRD8899\\Predictor_BRD8899\"\n"
     ]
    },
    {
     "name": "stdout",
     "output_type": "stream",
     "text": [
      "Predicting with TabularPredictor for label: dexamethasone ...0.0%\n"
     ]
    },
    {
     "name": "stderr",
     "output_type": "stream",
     "text": [
      "Warning: path already exists! This predictor may overwrite an existing predictor! path=\"KH-CB19/GiloML_predictDrugAUC_Full_Feature_Medium_Quality_Model_KH-CB19\\Predictor_KH-CB19\"\n"
     ]
    },
    {
     "name": "stdout",
     "output_type": "stream",
     "text": [
      "Predicting with TabularPredictor for label: BRD8899 ...0.0%\n",
      "Predicting with TabularPredictor for label: KH-CB19 ...0.0%\n"
     ]
    },
    {
     "name": "stderr",
     "output_type": "stream",
     "text": [
      "Warning: path already exists! This predictor may overwrite an existing predictor! path=\"MK-0752/GiloML_predictDrugAUC_Full_Feature_Medium_Quality_Model_MK-0752\\Predictor_MK-0752\"\n"
     ]
    },
    {
     "name": "stdout",
     "output_type": "stream",
     "text": [
      "Predicting with TabularPredictor for label: MK-0752 ...0.0%\n"
     ]
    },
    {
     "name": "stderr",
     "output_type": "stream",
     "text": [
      "Warning: path already exists! This predictor may overwrite an existing predictor! path=\"SB-431542/GiloML_predictDrugAUC_Full_Feature_Medium_Quality_Model_SB-431542\\Predictor_SB-431542\"\n",
      "Warning: path already exists! This predictor may overwrite an existing predictor! path=\"Repligen 136/GiloML_predictDrugAUC_Full_Feature_Medium_Quality_Model_Repligen 136\\Predictor_Repligen 136\"\n"
     ]
    },
    {
     "name": "stdout",
     "output_type": "stream",
     "text": [
      "Predicting with TabularPredictor for label: SB-431542 ...0.0%\n",
      "Predicting with TabularPredictor for label: Repligen 136 ...0.0%\n"
     ]
    },
    {
     "name": "stderr",
     "output_type": "stream",
     "text": [
      "Warning: path already exists! This predictor may overwrite an existing predictor! path=\"OSI-930/GiloML_predictDrugAUC_Full_Feature_Medium_Quality_Model_OSI-930\\Predictor_OSI-930\"\n"
     ]
    },
    {
     "name": "stdout",
     "output_type": "stream",
     "text": [
      "Predicting with TabularPredictor for label: OSI-930 ...0.0%\n"
     ]
    },
    {
     "name": "stderr",
     "output_type": "stream",
     "text": [
      "Warning: path already exists! This predictor may overwrite an existing predictor! path=\"tacrolimus/GiloML_predictDrugAUC_Full_Feature_Medium_Quality_Model_tacrolimus\\Predictor_tacrolimus\"\n",
      "Warning: path already exists! This predictor may overwrite an existing predictor! path=\"cytarabine hydrochloride/GiloML_predictDrugAUC_Full_Feature_Medium_Quality_Model_cytarabine hydrochloride\\Predictor_cytarabine hydrochloride\"\n"
     ]
    },
    {
     "name": "stdout",
     "output_type": "stream",
     "text": [
      "Predicting with TabularPredictor for label: tacrolimus ...0.0%\n",
      "Predicting with TabularPredictor for label: cytarabine hydrochloride ...0.0%\n"
     ]
    },
    {
     "name": "stderr",
     "output_type": "stream",
     "text": [
      "Warning: path already exists! This predictor may overwrite an existing predictor! path=\"clofarabine/GiloML_predictDrugAUC_Full_Feature_Medium_Quality_Model_clofarabine\\Predictor_clofarabine\"\n"
     ]
    },
    {
     "name": "stdout",
     "output_type": "stream",
     "text": [
      "Predicting with TabularPredictor for label: clofarabine ...0.0%\n"
     ]
    },
    {
     "name": "stderr",
     "output_type": "stream",
     "text": [
      "Warning: path already exists! This predictor may overwrite an existing predictor! path=\"3-Cl-AHPC/GiloML_predictDrugAUC_Full_Feature_Medium_Quality_Model_3-Cl-AHPC\\Predictor_3-Cl-AHPC\"\n"
     ]
    },
    {
     "name": "stdout",
     "output_type": "stream",
     "text": [
      "Predicting with TabularPredictor for label: 3-Cl-AHPC ...0.0%\n"
     ]
    },
    {
     "name": "stderr",
     "output_type": "stream",
     "text": [
      "Warning: path already exists! This predictor may overwrite an existing predictor! path=\"CD-437/GiloML_predictDrugAUC_Full_Feature_Medium_Quality_Model_CD-437\\Predictor_CD-437\"\n"
     ]
    },
    {
     "name": "stdout",
     "output_type": "stream",
     "text": [
      "Predicting with TabularPredictor for label: CD-437 ...0.0%\n"
     ]
    },
    {
     "name": "stderr",
     "output_type": "stream",
     "text": [
      "Warning: path already exists! This predictor may overwrite an existing predictor! path=\"gemcitabine/GiloML_predictDrugAUC_Full_Feature_Medium_Quality_Model_gemcitabine\\Predictor_gemcitabine\"\n",
      "Warning: path already exists! This predictor may overwrite an existing predictor! path=\"mitomycin/GiloML_predictDrugAUC_Full_Feature_Medium_Quality_Model_mitomycin\\Predictor_mitomycin\"\n"
     ]
    },
    {
     "name": "stdout",
     "output_type": "stream",
     "text": [
      "Predicting with TabularPredictor for label: gemcitabine ...0.0%\n",
      "Predicting with TabularPredictor for label: mitomycin ...0.0%\n"
     ]
    },
    {
     "name": "stderr",
     "output_type": "stream",
     "text": [
      "Warning: path already exists! This predictor may overwrite an existing predictor! path=\"PF-184/GiloML_predictDrugAUC_Full_Feature_Medium_Quality_Model_PF-184\\Predictor_PF-184\"\n",
      "Warning: path already exists! This predictor may overwrite an existing predictor! path=\"chlorambucil/GiloML_predictDrugAUC_Full_Feature_Medium_Quality_Model_chlorambucil\\Predictor_chlorambucil\"\n"
     ]
    },
    {
     "name": "stdout",
     "output_type": "stream",
     "text": [
      "Predicting with TabularPredictor for label: PF-184 ...0.0%\n",
      "Predicting with TabularPredictor for label: chlorambucil ...0.0%\n"
     ]
    },
    {
     "name": "stderr",
     "output_type": "stream",
     "text": [
      "Warning: path already exists! This predictor may overwrite an existing predictor! path=\"SN-38/GiloML_predictDrugAUC_Full_Feature_Medium_Quality_Model_SN-38\\Predictor_SN-38\"\n"
     ]
    },
    {
     "name": "stdout",
     "output_type": "stream",
     "text": [
      "Predicting with TabularPredictor for label: SN-38 ...0.0%\n"
     ]
    },
    {
     "name": "stderr",
     "output_type": "stream",
     "text": [
      "Warning: path already exists! This predictor may overwrite an existing predictor! path=\"topotecan/GiloML_predictDrugAUC_Full_Feature_Medium_Quality_Model_topotecan\\Predictor_topotecan\"\n",
      "Warning: path already exists! This predictor may overwrite an existing predictor! path=\"indisulam/GiloML_predictDrugAUC_Full_Feature_Medium_Quality_Model_indisulam\\Predictor_indisulam\"\n"
     ]
    },
    {
     "name": "stdout",
     "output_type": "stream",
     "text": [
      "Predicting with TabularPredictor for label: topotecan ...0.0%\n",
      "Predicting with TabularPredictor for label: indisulam ...0.0%\n"
     ]
    },
    {
     "name": "stderr",
     "output_type": "stream",
     "text": [
      "Warning: path already exists! This predictor may overwrite an existing predictor! path=\"barasertib/GiloML_predictDrugAUC_Full_Feature_Medium_Quality_Model_barasertib\\Predictor_barasertib\"\n"
     ]
    },
    {
     "name": "stdout",
     "output_type": "stream",
     "text": [
      "Predicting with TabularPredictor for label: barasertib ...0.0%\n"
     ]
    },
    {
     "name": "stderr",
     "output_type": "stream",
     "text": [
      "Warning: path already exists! This predictor may overwrite an existing predictor! path=\"alisertib/GiloML_predictDrugAUC_Full_Feature_Medium_Quality_Model_alisertib\\Predictor_alisertib\"\n",
      "Warning: path already exists! This predictor may overwrite an existing predictor! path=\"bleomycin A2/GiloML_predictDrugAUC_Full_Feature_Medium_Quality_Model_bleomycin A2\\Predictor_bleomycin A2\"\n"
     ]
    },
    {
     "name": "stdout",
     "output_type": "stream",
     "text": [
      "Predicting with TabularPredictor for label: alisertib ...0.0%\n",
      "Predicting with TabularPredictor for label: bleomycin A2 ...0.0%\n"
     ]
    },
    {
     "name": "stderr",
     "output_type": "stream",
     "text": [
      "Warning: path already exists! This predictor may overwrite an existing predictor! path=\"doxorubicin/GiloML_predictDrugAUC_Full_Feature_Medium_Quality_Model_doxorubicin\\Predictor_doxorubicin\"\n",
      "Warning: path already exists! This predictor may overwrite an existing predictor! path=\"teniposide/GiloML_predictDrugAUC_Full_Feature_Medium_Quality_Model_teniposide\\Predictor_teniposide\"\n"
     ]
    },
    {
     "name": "stdout",
     "output_type": "stream",
     "text": [
      "Predicting with TabularPredictor for label: doxorubicin ...0.0%\n",
      "Predicting with TabularPredictor for label: teniposide ...0.0%\n"
     ]
    },
    {
     "name": "stderr",
     "output_type": "stream",
     "text": [
      "Warning: path already exists! This predictor may overwrite an existing predictor! path=\"etoposide/GiloML_predictDrugAUC_Full_Feature_Medium_Quality_Model_etoposide\\Predictor_etoposide\"\n"
     ]
    },
    {
     "name": "stdout",
     "output_type": "stream",
     "text": [
      "Predicting with TabularPredictor for label: etoposide ...0.0%\n"
     ]
    },
    {
     "name": "stderr",
     "output_type": "stream",
     "text": [
      "Warning: path already exists! This predictor may overwrite an existing predictor! path=\"ruxolitinib/GiloML_predictDrugAUC_Full_Feature_Medium_Quality_Model_ruxolitinib\\Predictor_ruxolitinib\"\n"
     ]
    },
    {
     "name": "stdout",
     "output_type": "stream",
     "text": [
      "Predicting with TabularPredictor for label: ruxolitinib ...0.0%\n"
     ]
    },
    {
     "name": "stderr",
     "output_type": "stream",
     "text": [
      "Warning: path already exists! This predictor may overwrite an existing predictor! path=\"RAF265/GiloML_predictDrugAUC_Full_Feature_Medium_Quality_Model_RAF265\\Predictor_RAF265\"\n"
     ]
    },
    {
     "name": "stdout",
     "output_type": "stream",
     "text": [
      "Predicting with TabularPredictor for label: RAF265 ...0.0%\n"
     ]
    },
    {
     "name": "stderr",
     "output_type": "stream",
     "text": [
      "Warning: path already exists! This predictor may overwrite an existing predictor! path=\"pyrazolanthrone/GiloML_predictDrugAUC_Full_Feature_Medium_Quality_Model_pyrazolanthrone\\Predictor_pyrazolanthrone\"\n",
      "Warning: path already exists! This predictor may overwrite an existing predictor! path=\"TPCA-1/GiloML_predictDrugAUC_Full_Feature_Medium_Quality_Model_TPCA-1\\Predictor_TPCA-1\"\n"
     ]
    },
    {
     "name": "stdout",
     "output_type": "stream",
     "text": [
      "Predicting with TabularPredictor for label: pyrazolanthrone ...0.0%\n",
      "Predicting with TabularPredictor for label: TPCA-1 ...0.0%\n"
     ]
    },
    {
     "name": "stderr",
     "output_type": "stream",
     "text": [
      "Warning: path already exists! This predictor may overwrite an existing predictor! path=\"AZ-3146/GiloML_predictDrugAUC_Full_Feature_Medium_Quality_Model_AZ-3146\\Predictor_AZ-3146\"\n",
      "Warning: path already exists! This predictor may overwrite an existing predictor! path=\"Mdivi-1/GiloML_predictDrugAUC_Full_Feature_Medium_Quality_Model_Mdivi-1\\Predictor_Mdivi-1\"\n"
     ]
    },
    {
     "name": "stdout",
     "output_type": "stream",
     "text": [
      "Predicting with TabularPredictor for label: AZ-3146 ...0.0%\n",
      "Predicting with TabularPredictor for label: Mdivi-1 ...0.0%\n"
     ]
    },
    {
     "name": "stderr",
     "output_type": "stream",
     "text": [
      "Warning: path already exists! This predictor may overwrite an existing predictor! path=\"elocalcitol/GiloML_predictDrugAUC_Full_Feature_Medium_Quality_Model_elocalcitol\\Predictor_elocalcitol\"\n",
      "Warning: path already exists! This predictor may overwrite an existing predictor! path=\"SU11274/GiloML_predictDrugAUC_Full_Feature_Medium_Quality_Model_SU11274\\Predictor_SU11274\"\n"
     ]
    },
    {
     "name": "stdout",
     "output_type": "stream",
     "text": [
      "Predicting with TabularPredictor for label: elocalcitol ...0.0%\n",
      "Predicting with TabularPredictor for label: SU11274 ...0.0%\n"
     ]
    },
    {
     "name": "stderr",
     "output_type": "stream",
     "text": [
      "Warning: path already exists! This predictor may overwrite an existing predictor! path=\"BRD1835/GiloML_predictDrugAUC_Full_Feature_Medium_Quality_Model_BRD1835\\Predictor_BRD1835\"\n"
     ]
    },
    {
     "name": "stdout",
     "output_type": "stream",
     "text": [
      "Predicting with TabularPredictor for label: BRD1835 ...0.0%\n"
     ]
    },
    {
     "name": "stderr",
     "output_type": "stream",
     "text": [
      "Warning: path already exists! This predictor may overwrite an existing predictor! path=\"SID 26681509/GiloML_predictDrugAUC_Full_Feature_Medium_Quality_Model_SID 26681509\\Predictor_SID 26681509\"\n"
     ]
    },
    {
     "name": "stdout",
     "output_type": "stream",
     "text": [
      "Predicting with TabularPredictor for label: SID 26681509 ...0.0%\n"
     ]
    },
    {
     "name": "stderr",
     "output_type": "stream",
     "text": [
      "Warning: path already exists! This predictor may overwrite an existing predictor! path=\"pevonedistat/GiloML_predictDrugAUC_Full_Feature_Medium_Quality_Model_pevonedistat\\Predictor_pevonedistat\"\n"
     ]
    },
    {
     "name": "stdout",
     "output_type": "stream",
     "text": [
      "Predicting with TabularPredictor for label: pevonedistat ...0.0%\n"
     ]
    },
    {
     "name": "stderr",
     "output_type": "stream",
     "text": [
      "Warning: path already exists! This predictor may overwrite an existing predictor! path=\"BRD-K35604418/GiloML_predictDrugAUC_Full_Feature_Medium_Quality_Model_BRD-K35604418\\Predictor_BRD-K35604418\"\n"
     ]
    },
    {
     "name": "stdout",
     "output_type": "stream",
     "text": [
      "Predicting with TabularPredictor for label: BRD-K35604418 ...0.0%\n"
     ]
    },
    {
     "name": "stderr",
     "output_type": "stream",
     "text": [
      "Warning: path already exists! This predictor may overwrite an existing predictor! path=\"ETP-46464/GiloML_predictDrugAUC_Full_Feature_Medium_Quality_Model_ETP-46464\\Predictor_ETP-46464\"\n",
      "Warning: path already exists! This predictor may overwrite an existing predictor! path=\"NSC48300/GiloML_predictDrugAUC_Full_Feature_Medium_Quality_Model_NSC48300\\Predictor_NSC48300\"\n"
     ]
    },
    {
     "name": "stdout",
     "output_type": "stream",
     "text": [
      "Predicting with TabularPredictor for label: ETP-46464 ...0.0%\n",
      "Predicting with TabularPredictor for label: NSC48300 ...0.0%\n"
     ]
    },
    {
     "name": "stderr",
     "output_type": "stream",
     "text": [
      "Warning: path already exists! This predictor may overwrite an existing predictor! path=\"curcumin/GiloML_predictDrugAUC_Full_Feature_Medium_Quality_Model_curcumin\\Predictor_curcumin\"\n",
      "Warning: path already exists! This predictor may overwrite an existing predictor! path=\"sunitinib/GiloML_predictDrugAUC_Full_Feature_Medium_Quality_Model_sunitinib\\Predictor_sunitinib\"\n"
     ]
    },
    {
     "name": "stdout",
     "output_type": "stream",
     "text": [
      "Predicting with TabularPredictor for label: curcumin ...0.0%\n",
      "Predicting with TabularPredictor for label: sunitinib ...0.0%\n"
     ]
    },
    {
     "name": "stderr",
     "output_type": "stream",
     "text": [
      "Warning: path already exists! This predictor may overwrite an existing predictor! path=\"KW-2449/GiloML_predictDrugAUC_Full_Feature_Medium_Quality_Model_KW-2449\\Predictor_KW-2449\"\n"
     ]
    },
    {
     "name": "stdout",
     "output_type": "stream",
     "text": [
      "Predicting with TabularPredictor for label: KW-2449 ...0.0%\n"
     ]
    },
    {
     "name": "stderr",
     "output_type": "stream",
     "text": [
      "Warning: path already exists! This predictor may overwrite an existing predictor! path=\"AZD4547/GiloML_predictDrugAUC_Full_Feature_Medium_Quality_Model_AZD4547\\Predictor_AZD4547\"\n"
     ]
    },
    {
     "name": "stdout",
     "output_type": "stream",
     "text": [
      "Predicting with TabularPredictor for label: AZD4547 ...0.0%\n"
     ]
    },
    {
     "name": "stderr",
     "output_type": "stream",
     "text": [
      "Warning: path already exists! This predictor may overwrite an existing predictor! path=\"lenvatinib/GiloML_predictDrugAUC_Full_Feature_Medium_Quality_Model_lenvatinib\\Predictor_lenvatinib\"\n"
     ]
    },
    {
     "name": "stdout",
     "output_type": "stream",
     "text": [
      "Predicting with TabularPredictor for label: lenvatinib ...0.0%\n"
     ]
    },
    {
     "name": "stderr",
     "output_type": "stream",
     "text": [
      "Warning: path already exists! This predictor may overwrite an existing predictor! path=\"pazopanib/GiloML_predictDrugAUC_Full_Feature_Medium_Quality_Model_pazopanib\\Predictor_pazopanib\"\n",
      "Warning: path already exists! This predictor may overwrite an existing predictor! path=\"tivozanib/GiloML_predictDrugAUC_Full_Feature_Medium_Quality_Model_tivozanib\\Predictor_tivozanib\"\n"
     ]
    },
    {
     "name": "stdout",
     "output_type": "stream",
     "text": [
      "Predicting with TabularPredictor for label: pazopanib ...0.0%\n"
     ]
    },
    {
     "name": "stderr",
     "output_type": "stream",
     "text": [
      "Warning: path already exists! This predictor may overwrite an existing predictor! path=\"axitinib/GiloML_predictDrugAUC_Full_Feature_Medium_Quality_Model_axitinib\\Predictor_axitinib\"\n"
     ]
    },
    {
     "name": "stdout",
     "output_type": "stream",
     "text": [
      "Predicting with TabularPredictor for label: tivozanib ...0.0%\n",
      "Predicting with TabularPredictor for label: axitinib ...0.0%\n"
     ]
    },
    {
     "name": "stderr",
     "output_type": "stream",
     "text": [
      "Warning: path already exists! This predictor may overwrite an existing predictor! path=\"Ki8751/GiloML_predictDrugAUC_Full_Feature_Medium_Quality_Model_Ki8751\\Predictor_Ki8751\"\n"
     ]
    },
    {
     "name": "stdout",
     "output_type": "stream",
     "text": [
      "Predicting with TabularPredictor for label: Ki8751 ...0.0%\n"
     ]
    },
    {
     "name": "stderr",
     "output_type": "stream",
     "text": [
      "Warning: path already exists! This predictor may overwrite an existing predictor! path=\"cediranib/GiloML_predictDrugAUC_Full_Feature_Medium_Quality_Model_cediranib\\Predictor_cediranib\"\n"
     ]
    },
    {
     "name": "stdout",
     "output_type": "stream",
     "text": [
      "Predicting with TabularPredictor for label: cediranib ...0.0%\n"
     ]
    },
    {
     "name": "stderr",
     "output_type": "stream",
     "text": [
      "Warning: path already exists! This predictor may overwrite an existing predictor! path=\"MGCD-265/GiloML_predictDrugAUC_Full_Feature_Medium_Quality_Model_MGCD-265\\Predictor_MGCD-265\"\n"
     ]
    },
    {
     "name": "stdout",
     "output_type": "stream",
     "text": [
      "Predicting with TabularPredictor for label: MGCD-265 ...0.0%\n"
     ]
    },
    {
     "name": "stderr",
     "output_type": "stream",
     "text": [
      "Warning: path already exists! This predictor may overwrite an existing predictor! path=\"foretinib/GiloML_predictDrugAUC_Full_Feature_Medium_Quality_Model_foretinib\\Predictor_foretinib\"\n"
     ]
    },
    {
     "name": "stdout",
     "output_type": "stream",
     "text": [
      "Predicting with TabularPredictor for label: foretinib ...0.0%\n"
     ]
    },
    {
     "name": "stderr",
     "output_type": "stream",
     "text": [
      "Warning: path already exists! This predictor may overwrite an existing predictor! path=\"cabozantinib/GiloML_predictDrugAUC_Full_Feature_Medium_Quality_Model_cabozantinib\\Predictor_cabozantinib\"\n",
      "Warning: path already exists! This predictor may overwrite an existing predictor! path=\"tamatinib/GiloML_predictDrugAUC_Full_Feature_Medium_Quality_Model_tamatinib\\Predictor_tamatinib\"\n"
     ]
    },
    {
     "name": "stdout",
     "output_type": "stream",
     "text": [
      "Predicting with TabularPredictor for label: cabozantinib ...0.0%\n",
      "Predicting with TabularPredictor for label: tamatinib ...0.0%\n"
     ]
    },
    {
     "name": "stderr",
     "output_type": "stream",
     "text": [
      "Warning: path already exists! This predictor may overwrite an existing predictor! path=\"nintedanib/GiloML_predictDrugAUC_Full_Feature_Medium_Quality_Model_nintedanib\\Predictor_nintedanib\"\n"
     ]
    },
    {
     "name": "stdout",
     "output_type": "stream",
     "text": [
      "Predicting with TabularPredictor for label: nintedanib ...0.0%\n"
     ]
    },
    {
     "name": "stderr",
     "output_type": "stream",
     "text": [
      "Warning: path already exists! This predictor may overwrite an existing predictor! path=\"PIK-93/GiloML_predictDrugAUC_Full_Feature_Medium_Quality_Model_PIK-93\\Predictor_PIK-93\"\n",
      "Warning: path already exists! This predictor may overwrite an existing predictor! path=\"KU 0060648/GiloML_predictDrugAUC_Full_Feature_Medium_Quality_Model_KU 0060648\\Predictor_KU 0060648\"\n"
     ]
    },
    {
     "name": "stdout",
     "output_type": "stream",
     "text": [
      "Predicting with TabularPredictor for label: PIK-93 ...0.0%\n",
      "Predicting with TabularPredictor for label: KU 0060648 ...0.0%\n"
     ]
    },
    {
     "name": "stderr",
     "output_type": "stream",
     "text": [
      "Warning: path already exists! This predictor may overwrite an existing predictor! path=\"MK-2206/GiloML_predictDrugAUC_Full_Feature_Medium_Quality_Model_MK-2206\\Predictor_MK-2206\"\n"
     ]
    },
    {
     "name": "stdout",
     "output_type": "stream",
     "text": [
      "Predicting with TabularPredictor for label: MK-2206 ...0.0%\n"
     ]
    },
    {
     "name": "stderr",
     "output_type": "stream",
     "text": [
      "Warning: path already exists! This predictor may overwrite an existing predictor! path=\"GDC-0941/GiloML_predictDrugAUC_Full_Feature_Medium_Quality_Model_GDC-0941\\Predictor_GDC-0941\"\n",
      "Warning: path already exists! This predictor may overwrite an existing predictor! path=\"ZSTK474/GiloML_predictDrugAUC_Full_Feature_Medium_Quality_Model_ZSTK474\\Predictor_ZSTK474\"\n"
     ]
    },
    {
     "name": "stdout",
     "output_type": "stream",
     "text": [
      "Predicting with TabularPredictor for label: GDC-0941 ...0.0%\n",
      "Predicting with TabularPredictor for label: ZSTK474 ...0.0%\n"
     ]
    },
    {
     "name": "stderr",
     "output_type": "stream",
     "text": [
      "Warning: path already exists! This predictor may overwrite an existing predictor! path=\"GSK1059615/GiloML_predictDrugAUC_Full_Feature_Medium_Quality_Model_GSK1059615\\Predictor_GSK1059615\"\n",
      "Warning: path already exists! This predictor may overwrite an existing predictor! path=\"NVP-BEZ235/GiloML_predictDrugAUC_Full_Feature_Medium_Quality_Model_NVP-BEZ235\\Predictor_NVP-BEZ235\"\n",
      "Warning: path already exists! This predictor may overwrite an existing predictor! path=\"BYL-719/GiloML_predictDrugAUC_Full_Feature_Medium_Quality_Model_BYL-719\\Predictor_BYL-719\"\n"
     ]
    },
    {
     "name": "stdout",
     "output_type": "stream",
     "text": [
      "Predicting with TabularPredictor for label: GSK1059615 ...0.0%\n",
      "Predicting with TabularPredictor for label: NVP-BEZ235 ...0.0%\n",
      "Predicting with TabularPredictor for label: BYL-719 ...0.0%\n"
     ]
    },
    {
     "name": "stderr",
     "output_type": "stream",
     "text": [
      "Warning: path already exists! This predictor may overwrite an existing predictor! path=\"temsirolimus/GiloML_predictDrugAUC_Full_Feature_Medium_Quality_Model_temsirolimus\\Predictor_temsirolimus\"\n",
      "Warning: path already exists! This predictor may overwrite an existing predictor! path=\"sirolimus/GiloML_predictDrugAUC_Full_Feature_Medium_Quality_Model_sirolimus\\Predictor_sirolimus\"\n"
     ]
    },
    {
     "name": "stdout",
     "output_type": "stream",
     "text": [
      "Predicting with TabularPredictor for label: temsirolimus ...0.0%\n",
      "Predicting with TabularPredictor for label: sirolimus ...0.0%\n"
     ]
    },
    {
     "name": "stderr",
     "output_type": "stream",
     "text": [
      "Warning: path already exists! This predictor may overwrite an existing predictor! path=\"OSI-027/GiloML_predictDrugAUC_Full_Feature_Medium_Quality_Model_OSI-027\\Predictor_OSI-027\"\n"
     ]
    },
    {
     "name": "stdout",
     "output_type": "stream",
     "text": [
      "Predicting with TabularPredictor for label: OSI-027 ...0.0%\n"
     ]
    },
    {
     "name": "stderr",
     "output_type": "stream",
     "text": [
      "Warning: path already exists! This predictor may overwrite an existing predictor! path=\"KU-0063794/GiloML_predictDrugAUC_Full_Feature_Medium_Quality_Model_KU-0063794\\Predictor_KU-0063794\"\n"
     ]
    },
    {
     "name": "stdout",
     "output_type": "stream",
     "text": [
      "Predicting with TabularPredictor for label: KU-0063794 ...0.0%\n"
     ]
    },
    {
     "name": "stderr",
     "output_type": "stream",
     "text": [
      "Warning: path already exists! This predictor may overwrite an existing predictor! path=\"AZD8055/GiloML_predictDrugAUC_Full_Feature_Medium_Quality_Model_AZD8055\\Predictor_AZD8055\"\n",
      "Warning: path already exists! This predictor may overwrite an existing predictor! path=\"PF-573228/GiloML_predictDrugAUC_Full_Feature_Medium_Quality_Model_PF-573228\\Predictor_PF-573228\"\n"
     ]
    },
    {
     "name": "stdout",
     "output_type": "stream",
     "text": [
      "Predicting with TabularPredictor for label: AZD8055 ...0.0%\n",
      "Predicting with TabularPredictor for label: PF-573228 ...0.0%\n"
     ]
    },
    {
     "name": "stderr",
     "output_type": "stream",
     "text": [
      "Warning: path already exists! This predictor may overwrite an existing predictor! path=\"crizotinib/GiloML_predictDrugAUC_Full_Feature_Medium_Quality_Model_crizotinib\\Predictor_crizotinib\"\n",
      "Warning: path already exists! This predictor may overwrite an existing predictor! path=\"NVP-BSK805/GiloML_predictDrugAUC_Full_Feature_Medium_Quality_Model_NVP-BSK805\\Predictor_NVP-BSK805\"\n"
     ]
    },
    {
     "name": "stdout",
     "output_type": "stream",
     "text": [
      "Predicting with TabularPredictor for label: crizotinib ...0.0%\n",
      "Predicting with TabularPredictor for label: NVP-BSK805 ...0.0%\n"
     ]
    },
    {
     "name": "stderr",
     "output_type": "stream",
     "text": [
      "Warning: path already exists! This predictor may overwrite an existing predictor! path=\"TG-101348/GiloML_predictDrugAUC_Full_Feature_Medium_Quality_Model_TG-101348\\Predictor_TG-101348\"\n",
      "Warning: path already exists! This predictor may overwrite an existing predictor! path=\"AT7867/GiloML_predictDrugAUC_Full_Feature_Medium_Quality_Model_AT7867\\Predictor_AT7867\"\n"
     ]
    },
    {
     "name": "stdout",
     "output_type": "stream",
     "text": [
      "Predicting with TabularPredictor for label: TG-101348 ...0.0%\n",
      "Predicting with TabularPredictor for label: AT7867 ...0.0%\n"
     ]
    },
    {
     "name": "stderr",
     "output_type": "stream",
     "text": [
      "Warning: path already exists! This predictor may overwrite an existing predictor! path=\"cytochalasin B/GiloML_predictDrugAUC_Full_Feature_Medium_Quality_Model_cytochalasin B\\Predictor_cytochalasin B\"\n",
      "Warning: path already exists! This predictor may overwrite an existing predictor! path=\"NVP-TAE684/GiloML_predictDrugAUC_Full_Feature_Medium_Quality_Model_NVP-TAE684\\Predictor_NVP-TAE684\"\n"
     ]
    },
    {
     "name": "stdout",
     "output_type": "stream",
     "text": [
      "Predicting with TabularPredictor for label: cytochalasin B ...0.0%\n",
      "Predicting with TabularPredictor for label: NVP-TAE684 ...0.0%\n"
     ]
    },
    {
     "name": "stderr",
     "output_type": "stream",
     "text": [
      "Warning: path already exists! This predictor may overwrite an existing predictor! path=\"BMS-754807/GiloML_predictDrugAUC_Full_Feature_Medium_Quality_Model_BMS-754807\\Predictor_BMS-754807\"\n"
     ]
    },
    {
     "name": "stdout",
     "output_type": "stream",
     "text": [
      "Predicting with TabularPredictor for label: BMS-754807 ...0.0%\n"
     ]
    },
    {
     "name": "stderr",
     "output_type": "stream",
     "text": [
      "Warning: path already exists! This predictor may overwrite an existing predictor! path=\"BMS-536924/GiloML_predictDrugAUC_Full_Feature_Medium_Quality_Model_BMS-536924\\Predictor_BMS-536924\"\n"
     ]
    },
    {
     "name": "stdout",
     "output_type": "stream",
     "text": [
      "Predicting with TabularPredictor for label: BMS-536924 ...0.0%\n"
     ]
    },
    {
     "name": "stderr",
     "output_type": "stream",
     "text": [
      "Warning: path already exists! This predictor may overwrite an existing predictor! path=\"linsitinib/GiloML_predictDrugAUC_Full_Feature_Medium_Quality_Model_linsitinib\\Predictor_linsitinib\"\n"
     ]
    },
    {
     "name": "stdout",
     "output_type": "stream",
     "text": [
      "Predicting with TabularPredictor for label: linsitinib ...0.0%\n"
     ]
    },
    {
     "name": "stderr",
     "output_type": "stream",
     "text": [
      "Warning: path already exists! This predictor may overwrite an existing predictor! path=\"NVP-ADW742/GiloML_predictDrugAUC_Full_Feature_Medium_Quality_Model_NVP-ADW742\\Predictor_NVP-ADW742\"\n"
     ]
    },
    {
     "name": "stdout",
     "output_type": "stream",
     "text": [
      "Predicting with TabularPredictor for label: NVP-ADW742 ...0.0%\n"
     ]
    },
    {
     "name": "stderr",
     "output_type": "stream",
     "text": [
      "Warning: path already exists! This predictor may overwrite an existing predictor! path=\"cyanoquinoline 11/GiloML_predictDrugAUC_Full_Feature_Medium_Quality_Model_cyanoquinoline 11\\Predictor_cyanoquinoline 11\"\n"
     ]
    },
    {
     "name": "stdout",
     "output_type": "stream",
     "text": [
      "Predicting with TabularPredictor for label: cyanoquinoline 11 ...0.0%\n"
     ]
    },
    {
     "name": "stderr",
     "output_type": "stream",
     "text": [
      "Warning: path already exists! This predictor may overwrite an existing predictor! path=\"austocystin D/GiloML_predictDrugAUC_Full_Feature_Medium_Quality_Model_austocystin D\\Predictor_austocystin D\"\n",
      "Warning: path already exists! This predictor may overwrite an existing predictor! path=\"olaparib/GiloML_predictDrugAUC_Full_Feature_Medium_Quality_Model_olaparib\\Predictor_olaparib\"\n"
     ]
    },
    {
     "name": "stdout",
     "output_type": "stream",
     "text": [
      "Predicting with TabularPredictor for label: austocystin D ...0.0%\n",
      "Predicting with TabularPredictor for label: olaparib ...0.0%\n"
     ]
    },
    {
     "name": "stderr",
     "output_type": "stream",
     "text": [
      "Warning: path already exists! This predictor may overwrite an existing predictor! path=\"PI-103/GiloML_predictDrugAUC_Full_Feature_Medium_Quality_Model_PI-103\\Predictor_PI-103\"\n"
     ]
    },
    {
     "name": "stdout",
     "output_type": "stream",
     "text": [
      "Predicting with TabularPredictor for label: PI-103 ...0.0%\n"
     ]
    },
    {
     "name": "stderr",
     "output_type": "stream",
     "text": [
      "Warning: path already exists! This predictor may overwrite an existing predictor! path=\"triptolide/GiloML_predictDrugAUC_Full_Feature_Medium_Quality_Model_triptolide\\Predictor_triptolide\"\n"
     ]
    },
    {
     "name": "stdout",
     "output_type": "stream",
     "text": [
      "Predicting with TabularPredictor for label: triptolide ...0.0%\n"
     ]
    },
    {
     "name": "stderr",
     "output_type": "stream",
     "text": [
      "Warning: path already exists! This predictor may overwrite an existing predictor! path=\"cucurbitacin I/GiloML_predictDrugAUC_Full_Feature_Medium_Quality_Model_cucurbitacin I\\Predictor_cucurbitacin I\"\n"
     ]
    },
    {
     "name": "stdout",
     "output_type": "stream",
     "text": [
      "Predicting with TabularPredictor for label: cucurbitacin I ...0.0%\n"
     ]
    },
    {
     "name": "stderr",
     "output_type": "stream",
     "text": [
      "Warning: path already exists! This predictor may overwrite an existing predictor! path=\"KPT185/GiloML_predictDrugAUC_Full_Feature_Medium_Quality_Model_KPT185\\Predictor_KPT185\"\n"
     ]
    },
    {
     "name": "stdout",
     "output_type": "stream",
     "text": [
      "Predicting with TabularPredictor for label: KPT185 ...0.0%\n"
     ]
    },
    {
     "name": "stderr",
     "output_type": "stream",
     "text": [
      "Warning: path already exists! This predictor may overwrite an existing predictor! path=\"NSC632839/GiloML_predictDrugAUC_Full_Feature_Medium_Quality_Model_NSC632839\\Predictor_NSC632839\"\n"
     ]
    },
    {
     "name": "stdout",
     "output_type": "stream",
     "text": [
      "Predicting with TabularPredictor for label: NSC632839 ...0.0%\n"
     ]
    },
    {
     "name": "stderr",
     "output_type": "stream",
     "text": [
      "Warning: path already exists! This predictor may overwrite an existing predictor! path=\"LRRK2-IN-1/GiloML_predictDrugAUC_Full_Feature_Medium_Quality_Model_LRRK2-IN-1\\Predictor_LRRK2-IN-1\"\n",
      "Warning: path already exists! This predictor may overwrite an existing predictor! path=\"JQ-1/GiloML_predictDrugAUC_Full_Feature_Medium_Quality_Model_JQ-1\\Predictor_JQ-1\"\n"
     ]
    },
    {
     "name": "stdout",
     "output_type": "stream",
     "text": [
      "Predicting with TabularPredictor for label: LRRK2-IN-1 ...0.0%\n",
      "Predicting with TabularPredictor for label: JQ-1 ...0.0%\n"
     ]
    },
    {
     "name": "stderr",
     "output_type": "stream",
     "text": [
      "Warning: path already exists! This predictor may overwrite an existing predictor! path=\"GSK525762A/GiloML_predictDrugAUC_Full_Feature_Medium_Quality_Model_GSK525762A\\Predictor_GSK525762A\"\n"
     ]
    },
    {
     "name": "stdout",
     "output_type": "stream",
     "text": [
      "Predicting with TabularPredictor for label: GSK525762A ...0.0%\n"
     ]
    },
    {
     "name": "stderr",
     "output_type": "stream",
     "text": [
      "Warning: path already exists! This predictor may overwrite an existing predictor! path=\"I-BET151/GiloML_predictDrugAUC_Full_Feature_Medium_Quality_Model_I-BET151\\Predictor_I-BET151\"\n"
     ]
    },
    {
     "name": "stdout",
     "output_type": "stream",
     "text": [
      "Predicting with TabularPredictor for label: I-BET151 ...0.0%\n"
     ]
    },
    {
     "name": "stderr",
     "output_type": "stream",
     "text": [
      "Warning: path already exists! This predictor may overwrite an existing predictor! path=\"nutlin-3/GiloML_predictDrugAUC_Full_Feature_Medium_Quality_Model_nutlin-3\\Predictor_nutlin-3\"\n",
      "Warning: path already exists! This predictor may overwrite an existing predictor! path=\"HLI 373/GiloML_predictDrugAUC_Full_Feature_Medium_Quality_Model_HLI 373\\Predictor_HLI 373\"\n"
     ]
    },
    {
     "name": "stdout",
     "output_type": "stream",
     "text": [
      "Predicting with TabularPredictor for label: nutlin-3 ...0.0%\n",
      "Predicting with TabularPredictor for label: HLI 373 ...0.0%\n"
     ]
    },
    {
     "name": "stderr",
     "output_type": "stream",
     "text": [
      "Warning: path already exists! This predictor may overwrite an existing predictor! path=\"serdemetan/GiloML_predictDrugAUC_Full_Feature_Medium_Quality_Model_serdemetan\\Predictor_serdemetan\"\n"
     ]
    },
    {
     "name": "stdout",
     "output_type": "stream",
     "text": [
      "Predicting with TabularPredictor for label: serdemetan ...0.0%\n"
     ]
    },
    {
     "name": "stderr",
     "output_type": "stream",
     "text": [
      "Warning: path already exists! This predictor may overwrite an existing predictor! path=\"necrosulfonamide/GiloML_predictDrugAUC_Full_Feature_Medium_Quality_Model_necrosulfonamide\\Predictor_necrosulfonamide\"\n",
      "Warning: path already exists! This predictor may overwrite an existing predictor! path=\"HBX-41108/GiloML_predictDrugAUC_Full_Feature_Medium_Quality_Model_HBX-41108\\Predictor_HBX-41108\"\n"
     ]
    },
    {
     "name": "stdout",
     "output_type": "stream",
     "text": [
      "Predicting with TabularPredictor for label: necrosulfonamide ...0.0%\n",
      "Predicting with TabularPredictor for label: HBX-41108 ...0.0%\n"
     ]
    },
    {
     "name": "stderr",
     "output_type": "stream",
     "text": [
      "Warning: path already exists! This predictor may overwrite an existing predictor! path=\"SMER-3/GiloML_predictDrugAUC_Full_Feature_Medium_Quality_Model_SMER-3\\Predictor_SMER-3\"\n"
     ]
    },
    {
     "name": "stdout",
     "output_type": "stream",
     "text": [
      "Predicting with TabularPredictor for label: SMER-3 ...0.0%\n"
     ]
    },
    {
     "name": "stderr",
     "output_type": "stream",
     "text": [
      "Warning: path already exists! This predictor may overwrite an existing predictor! path=\"BRD-K28456706/GiloML_predictDrugAUC_Full_Feature_Medium_Quality_Model_BRD-K28456706\\Predictor_BRD-K28456706\"\n",
      "Warning: path already exists! This predictor may overwrite an existing predictor! path=\"BRD-K45681478/GiloML_predictDrugAUC_Full_Feature_Medium_Quality_Model_BRD-K45681478\\Predictor_BRD-K45681478\"\n"
     ]
    },
    {
     "name": "stdout",
     "output_type": "stream",
     "text": [
      "Predicting with TabularPredictor for label: BRD-K28456706 ...0.0%\n",
      "Predicting with TabularPredictor for label: BRD-K45681478 ...0.0%\n"
     ]
    },
    {
     "name": "stderr",
     "output_type": "stream",
     "text": [
      "Warning: path already exists! This predictor may overwrite an existing predictor! path=\"methylstat/GiloML_predictDrugAUC_Full_Feature_Medium_Quality_Model_methylstat\\Predictor_methylstat\"\n"
     ]
    },
    {
     "name": "stdout",
     "output_type": "stream",
     "text": [
      "Predicting with TabularPredictor for label: methylstat ...0.0%\n"
     ]
    },
    {
     "name": "stderr",
     "output_type": "stream",
     "text": [
      "Warning: path already exists! This predictor may overwrite an existing predictor! path=\"PL-DI/GiloML_predictDrugAUC_Full_Feature_Medium_Quality_Model_PL-DI\\Predictor_PL-DI\"\n"
     ]
    },
    {
     "name": "stdout",
     "output_type": "stream",
     "text": [
      "Predicting with TabularPredictor for label: PL-DI ...0.0%\n"
     ]
    },
    {
     "name": "stderr",
     "output_type": "stream",
     "text": [
      "Warning: path already exists! This predictor may overwrite an existing predictor! path=\"piperlongumine/GiloML_predictDrugAUC_Full_Feature_Medium_Quality_Model_piperlongumine\\Predictor_piperlongumine\"\n"
     ]
    },
    {
     "name": "stdout",
     "output_type": "stream",
     "text": [
      "Predicting with TabularPredictor for label: piperlongumine ...0.0%\n"
     ]
    },
    {
     "name": "stderr",
     "output_type": "stream",
     "text": [
      "Warning: path already exists! This predictor may overwrite an existing predictor! path=\"BRD-K34222889/GiloML_predictDrugAUC_Full_Feature_Medium_Quality_Model_BRD-K34222889\\Predictor_BRD-K34222889\"\n",
      "Warning: path already exists! This predictor may overwrite an existing predictor! path=\"cerulenin/GiloML_predictDrugAUC_Full_Feature_Medium_Quality_Model_cerulenin\\Predictor_cerulenin\"\n"
     ]
    },
    {
     "name": "stdout",
     "output_type": "stream",
     "text": [
      "Predicting with TabularPredictor for label: BRD-K34222889 ...0.0%\n",
      "Predicting with TabularPredictor for label: cerulenin ...0.0%\n"
     ]
    },
    {
     "name": "stderr",
     "output_type": "stream",
     "text": [
      "Warning: path already exists! This predictor may overwrite an existing predictor! path=\"BRD-K26531177/GiloML_predictDrugAUC_Full_Feature_Medium_Quality_Model_BRD-K26531177\\Predictor_BRD-K26531177\"\n"
     ]
    },
    {
     "name": "stdout",
     "output_type": "stream",
     "text": [
      "Predicting with TabularPredictor for label: BRD-K26531177 ...0.0%\n"
     ]
    },
    {
     "name": "stderr",
     "output_type": "stream",
     "text": [
      "Warning: path already exists! This predictor may overwrite an existing predictor! path=\"NSC95397/GiloML_predictDrugAUC_Full_Feature_Medium_Quality_Model_NSC95397\\Predictor_NSC95397\"\n",
      "Warning: path already exists! This predictor may overwrite an existing predictor! path=\"manumycin A/GiloML_predictDrugAUC_Full_Feature_Medium_Quality_Model_manumycin A\\Predictor_manumycin A\"\n"
     ]
    },
    {
     "name": "stdout",
     "output_type": "stream",
     "text": [
      "Predicting with TabularPredictor for label: NSC95397 ...0.0%\n",
      "Predicting with TabularPredictor for label: manumycin A ...0.0%\n"
     ]
    },
    {
     "name": "stderr",
     "output_type": "stream",
     "text": [
      "Warning: path already exists! This predictor may overwrite an existing predictor! path=\"CCT036477/GiloML_predictDrugAUC_Full_Feature_Medium_Quality_Model_CCT036477\\Predictor_CCT036477\"\n",
      "Warning: path already exists! This predictor may overwrite an existing predictor! path=\"PX-12/GiloML_predictDrugAUC_Full_Feature_Medium_Quality_Model_PX-12\\Predictor_PX-12\"\n"
     ]
    },
    {
     "name": "stdout",
     "output_type": "stream",
     "text": [
      "Predicting with TabularPredictor for label: CCT036477 ...0.0%\n",
      "Predicting with TabularPredictor for label: PX-12 ...0.0%\n"
     ]
    },
    {
     "name": "stderr",
     "output_type": "stream",
     "text": [
      "Warning: path already exists! This predictor may overwrite an existing predictor! path=\"PRIMA-1/GiloML_predictDrugAUC_Full_Feature_Medium_Quality_Model_PRIMA-1\\Predictor_PRIMA-1\"\n"
     ]
    },
    {
     "name": "stdout",
     "output_type": "stream",
     "text": [
      "Predicting with TabularPredictor for label: PRIMA-1 ...0.0%\n"
     ]
    },
    {
     "name": "stderr",
     "output_type": "stream",
     "text": [
      "Warning: path already exists! This predictor may overwrite an existing predictor! path=\"968/GiloML_predictDrugAUC_Full_Feature_Medium_Quality_Model_968\\Predictor_968\"\n",
      "Warning: path already exists! This predictor may overwrite an existing predictor! path=\"ML029/GiloML_predictDrugAUC_Full_Feature_Medium_Quality_Model_ML029\\Predictor_ML029\"\n"
     ]
    },
    {
     "name": "stdout",
     "output_type": "stream",
     "text": [
      "Predicting with TabularPredictor for label: 968 ...0.0%\n",
      "Predicting with TabularPredictor for label: ML029 ...0.0%\n"
     ]
    },
    {
     "name": "stderr",
     "output_type": "stream",
     "text": [
      "Warning: path already exists! This predictor may overwrite an existing predictor! path=\"AZD1480/GiloML_predictDrugAUC_Full_Feature_Medium_Quality_Model_AZD1480\\Predictor_AZD1480\"\n",
      "Warning: path already exists! This predictor may overwrite an existing predictor! path=\"RITA/GiloML_predictDrugAUC_Full_Feature_Medium_Quality_Model_RITA\\Predictor_RITA\"\n"
     ]
    },
    {
     "name": "stdout",
     "output_type": "stream",
     "text": [
      "Predicting with TabularPredictor for label: AZD1480 ...0.0%\n",
      "Predicting with TabularPredictor for label: RITA ...0.0%\n"
     ]
    },
    {
     "name": "stderr",
     "output_type": "stream",
     "text": [
      "Warning: path already exists! This predictor may overwrite an existing predictor! path=\"ABT-199/GiloML_predictDrugAUC_Full_Feature_Medium_Quality_Model_ABT-199\\Predictor_ABT-199\"\n"
     ]
    },
    {
     "name": "stdout",
     "output_type": "stream",
     "text": [
      "Predicting with TabularPredictor for label: ABT-199 ...0.0%\n"
     ]
    },
    {
     "name": "stderr",
     "output_type": "stream",
     "text": [
      "Warning: path already exists! This predictor may overwrite an existing predictor! path=\"ABT-737/GiloML_predictDrugAUC_Full_Feature_Medium_Quality_Model_ABT-737\\Predictor_ABT-737\"\n",
      "Warning: path already exists! This predictor may overwrite an existing predictor! path=\"navitoclax/GiloML_predictDrugAUC_Full_Feature_Medium_Quality_Model_navitoclax\\Predictor_navitoclax\"\n"
     ]
    },
    {
     "name": "stdout",
     "output_type": "stream",
     "text": [
      "Predicting with TabularPredictor for label: ABT-737 ...0.0%\n",
      "Predicting with TabularPredictor for label: navitoclax ...0.0%\n"
     ]
    },
    {
     "name": "stderr",
     "output_type": "stream",
     "text": [
      "Warning: path already exists! This predictor may overwrite an existing predictor! path=\"R428/GiloML_predictDrugAUC_Full_Feature_Medium_Quality_Model_R428\\Predictor_R428\"\n",
      "Warning: path already exists! This predictor may overwrite an existing predictor! path=\"NSC23766/GiloML_predictDrugAUC_Full_Feature_Medium_Quality_Model_NSC23766\\Predictor_NSC23766\"\n"
     ]
    },
    {
     "name": "stdout",
     "output_type": "stream",
     "text": [
      "Predicting with TabularPredictor for label: R428 ...0.0%\n",
      "Predicting with TabularPredictor for label: NSC23766 ...0.0%\n"
     ]
    },
    {
     "name": "stderr",
     "output_type": "stream",
     "text": [
      "Warning: path already exists! This predictor may overwrite an existing predictor! path=\"BIX-01294/GiloML_predictDrugAUC_Full_Feature_Medium_Quality_Model_BIX-01294\\Predictor_BIX-01294\"\n",
      "Warning: path already exists! This predictor may overwrite an existing predictor! path=\"UNC0638/GiloML_predictDrugAUC_Full_Feature_Medium_Quality_Model_UNC0638\\Predictor_UNC0638\"\n"
     ]
    },
    {
     "name": "stdout",
     "output_type": "stream",
     "text": [
      "Predicting with TabularPredictor for label: BIX-01294 ...0.0%\n",
      "Predicting with TabularPredictor for label: UNC0638 ...0.0%\n"
     ]
    },
    {
     "name": "stderr",
     "output_type": "stream",
     "text": [
      "Warning: path already exists! This predictor may overwrite an existing predictor! path=\"PF-543/GiloML_predictDrugAUC_Full_Feature_Medium_Quality_Model_PF-543\\Predictor_PF-543\"\n",
      "Warning: path already exists! This predictor may overwrite an existing predictor! path=\"prochlorperazine/GiloML_predictDrugAUC_Full_Feature_Medium_Quality_Model_prochlorperazine\\Predictor_prochlorperazine\"\n"
     ]
    },
    {
     "name": "stdout",
     "output_type": "stream",
     "text": [
      "Predicting with TabularPredictor for label: PF-543 ...0.0%\n",
      "Predicting with TabularPredictor for label: prochlorperazine ...0.0%\n"
     ]
    },
    {
     "name": "stderr",
     "output_type": "stream",
     "text": [
      "Warning: path already exists! This predictor may overwrite an existing predictor! path=\"trifluoperazine/GiloML_predictDrugAUC_Full_Feature_Medium_Quality_Model_trifluoperazine\\Predictor_trifluoperazine\"\n",
      "Warning: path already exists! This predictor may overwrite an existing predictor! path=\"SCH-529074/GiloML_predictDrugAUC_Full_Feature_Medium_Quality_Model_SCH-529074\\Predictor_SCH-529074\"\n"
     ]
    },
    {
     "name": "stdout",
     "output_type": "stream",
     "text": [
      "Predicting with TabularPredictor for label: trifluoperazine ...0.0%\n",
      "Predicting with TabularPredictor for label: SCH-529074 ...0.0%\n"
     ]
    },
    {
     "name": "stderr",
     "output_type": "stream",
     "text": [
      "Warning: path already exists! This predictor may overwrite an existing predictor! path=\"fingolimod/GiloML_predictDrugAUC_Full_Feature_Medium_Quality_Model_fingolimod\\Predictor_fingolimod\"\n"
     ]
    },
    {
     "name": "stdout",
     "output_type": "stream",
     "text": [
      "Predicting with TabularPredictor for label: fingolimod ...0.0%\n"
     ]
    },
    {
     "name": "stderr",
     "output_type": "stream",
     "text": [
      "Warning: path already exists! This predictor may overwrite an existing predictor! path=\"GW-405833/GiloML_predictDrugAUC_Full_Feature_Medium_Quality_Model_GW-405833\\Predictor_GW-405833\"\n",
      "Warning: path already exists! This predictor may overwrite an existing predictor! path=\"StemRegenin 1/GiloML_predictDrugAUC_Full_Feature_Medium_Quality_Model_StemRegenin 1\\Predictor_StemRegenin 1\"\n"
     ]
    },
    {
     "name": "stdout",
     "output_type": "stream",
     "text": [
      "Predicting with TabularPredictor for label: GW-405833 ...0.0%\n",
      "Predicting with TabularPredictor for label: StemRegenin 1 ...0.0%\n"
     ]
    },
    {
     "name": "stderr",
     "output_type": "stream",
     "text": [
      "Warning: path already exists! This predictor may overwrite an existing predictor! path=\"Bax channel blocker/GiloML_predictDrugAUC_Full_Feature_Medium_Quality_Model_Bax channel blocker\\Predictor_Bax channel blocker\"\n",
      "Warning: path already exists! This predictor may overwrite an existing predictor! path=\"Compound 23 citrate/GiloML_predictDrugAUC_Full_Feature_Medium_Quality_Model_Compound 23 citrate\\Predictor_Compound 23 citrate\"\n"
     ]
    },
    {
     "name": "stdout",
     "output_type": "stream",
     "text": [
      "Predicting with TabularPredictor for label: Bax channel blocker ...0.0%\n",
      "Predicting with TabularPredictor for label: Compound 23 citrate ...0.0%\n"
     ]
    },
    {
     "name": "stderr",
     "output_type": "stream",
     "text": [
      "Warning: path already exists! This predictor may overwrite an existing predictor! path=\"nilotinib/GiloML_predictDrugAUC_Full_Feature_Medium_Quality_Model_nilotinib\\Predictor_nilotinib\"\n",
      "Warning: path already exists! This predictor may overwrite an existing predictor! path=\"masitinib/GiloML_predictDrugAUC_Full_Feature_Medium_Quality_Model_masitinib\\Predictor_masitinib\"\n"
     ]
    },
    {
     "name": "stdout",
     "output_type": "stream",
     "text": [
      "Predicting with TabularPredictor for label: nilotinib ...0.0%\n"
     ]
    },
    {
     "name": "stderr",
     "output_type": "stream",
     "text": [
      "Warning: path already exists! This predictor may overwrite an existing predictor! path=\"imatinib/GiloML_predictDrugAUC_Full_Feature_Medium_Quality_Model_imatinib\\Predictor_imatinib\"\n"
     ]
    },
    {
     "name": "stdout",
     "output_type": "stream",
     "text": [
      "Predicting with TabularPredictor for label: masitinib ...0.0%\n",
      "Predicting with TabularPredictor for label: imatinib ...0.0%\n"
     ]
    },
    {
     "name": "stderr",
     "output_type": "stream",
     "text": [
      "Warning: path already exists! This predictor may overwrite an existing predictor! path=\"GANT-61/GiloML_predictDrugAUC_Full_Feature_Medium_Quality_Model_GANT-61\\Predictor_GANT-61\"\n",
      "Warning: path already exists! This predictor may overwrite an existing predictor! path=\"KU-55933/GiloML_predictDrugAUC_Full_Feature_Medium_Quality_Model_KU-55933\\Predictor_KU-55933\"\n"
     ]
    },
    {
     "name": "stdout",
     "output_type": "stream",
     "text": [
      "Predicting with TabularPredictor for label: GANT-61 ...0.0%\n",
      "Predicting with TabularPredictor for label: KU-55933 ...0.0%\n"
     ]
    },
    {
     "name": "stderr",
     "output_type": "stream",
     "text": [
      "Warning: path already exists! This predictor may overwrite an existing predictor! path=\"KU-60019/GiloML_predictDrugAUC_Full_Feature_Medium_Quality_Model_KU-60019\\Predictor_KU-60019\"\n",
      "Warning: path already exists! This predictor may overwrite an existing predictor! path=\"BRD-K11533227/GiloML_predictDrugAUC_Full_Feature_Medium_Quality_Model_BRD-K11533227\\Predictor_BRD-K11533227\"\n"
     ]
    },
    {
     "name": "stdout",
     "output_type": "stream",
     "text": [
      "Predicting with TabularPredictor for label: KU-60019 ...0.0%\n",
      "Predicting with TabularPredictor for label: BRD-K11533227 ...0.0%\n"
     ]
    },
    {
     "name": "stderr",
     "output_type": "stream",
     "text": [
      "Warning: path already exists! This predictor may overwrite an existing predictor! path=\"BRD-K66532283/GiloML_predictDrugAUC_Full_Feature_Medium_Quality_Model_BRD-K66532283\\Predictor_BRD-K66532283\"\n"
     ]
    },
    {
     "name": "stdout",
     "output_type": "stream",
     "text": [
      "Predicting with TabularPredictor for label: BRD-K66532283 ...0.0%\n"
     ]
    },
    {
     "name": "stderr",
     "output_type": "stream",
     "text": [
      "Warning: path already exists! This predictor may overwrite an existing predictor! path=\"BRD-K80183349/GiloML_predictDrugAUC_Full_Feature_Medium_Quality_Model_BRD-K80183349\\Predictor_BRD-K80183349\"\n"
     ]
    },
    {
     "name": "stdout",
     "output_type": "stream",
     "text": [
      "Predicting with TabularPredictor for label: BRD-K80183349 ...0.0%\n"
     ]
    },
    {
     "name": "stderr",
     "output_type": "stream",
     "text": [
      "Warning: path already exists! This predictor may overwrite an existing predictor! path=\"tacedinaline/GiloML_predictDrugAUC_Full_Feature_Medium_Quality_Model_tacedinaline\\Predictor_tacedinaline\"\n"
     ]
    },
    {
     "name": "stdout",
     "output_type": "stream",
     "text": [
      "Predicting with TabularPredictor for label: tacedinaline ...0.0%\n"
     ]
    },
    {
     "name": "stderr",
     "output_type": "stream",
     "text": [
      "Warning: path already exists! This predictor may overwrite an existing predictor! path=\"LBH-589/GiloML_predictDrugAUC_Full_Feature_Medium_Quality_Model_LBH-589\\Predictor_LBH-589\"\n",
      "Warning: path already exists! This predictor may overwrite an existing predictor! path=\"belinostat/GiloML_predictDrugAUC_Full_Feature_Medium_Quality_Model_belinostat\\Predictor_belinostat\"\n"
     ]
    },
    {
     "name": "stdout",
     "output_type": "stream",
     "text": [
      "Predicting with TabularPredictor for label: LBH-589 ...0.0%\n",
      "Predicting with TabularPredictor for label: belinostat ...0.0%\n"
     ]
    },
    {
     "name": "stderr",
     "output_type": "stream",
     "text": [
      "Warning: path already exists! This predictor may overwrite an existing predictor! path=\"vorinostat/GiloML_predictDrugAUC_Full_Feature_Medium_Quality_Model_vorinostat\\Predictor_vorinostat\"\n"
     ]
    },
    {
     "name": "stdout",
     "output_type": "stream",
     "text": [
      "Predicting with TabularPredictor for label: vorinostat ...0.0%\n"
     ]
    },
    {
     "name": "stderr",
     "output_type": "stream",
     "text": [
      "Warning: path already exists! This predictor may overwrite an existing predictor! path=\"apicidin/GiloML_predictDrugAUC_Full_Feature_Medium_Quality_Model_apicidin\\Predictor_apicidin\"\n",
      "Warning: path already exists! This predictor may overwrite an existing predictor! path=\"ISOX/GiloML_predictDrugAUC_Full_Feature_Medium_Quality_Model_ISOX\\Predictor_ISOX\"\n"
     ]
    },
    {
     "name": "stdout",
     "output_type": "stream",
     "text": [
      "Predicting with TabularPredictor for label: apicidin ...0.0%\n",
      "Predicting with TabularPredictor for label: ISOX ...0.0%\n"
     ]
    },
    {
     "name": "stderr",
     "output_type": "stream",
     "text": [
      "Warning: path already exists! This predictor may overwrite an existing predictor! path=\"entinostat/GiloML_predictDrugAUC_Full_Feature_Medium_Quality_Model_entinostat\\Predictor_entinostat\"\n"
     ]
    },
    {
     "name": "stdout",
     "output_type": "stream",
     "text": [
      "Predicting with TabularPredictor for label: entinostat ...0.0%\n"
     ]
    },
    {
     "name": "stderr",
     "output_type": "stream",
     "text": [
      "Warning: path already exists! This predictor may overwrite an existing predictor! path=\"Merck60/GiloML_predictDrugAUC_Full_Feature_Medium_Quality_Model_Merck60\\Predictor_Merck60\"\n",
      "Warning: path already exists! This predictor may overwrite an existing predictor! path=\"BRD-K61166597/GiloML_predictDrugAUC_Full_Feature_Medium_Quality_Model_BRD-K61166597\\Predictor_BRD-K61166597\"\n"
     ]
    },
    {
     "name": "stdout",
     "output_type": "stream",
     "text": [
      "Predicting with TabularPredictor for label: Merck60 ...0.0%\n",
      "Predicting with TabularPredictor for label: BRD-K61166597 ...0.0%\n"
     ]
    },
    {
     "name": "stderr",
     "output_type": "stream",
     "text": [
      "Warning: path already exists! This predictor may overwrite an existing predictor! path=\"BRD-A86708339/GiloML_predictDrugAUC_Full_Feature_Medium_Quality_Model_BRD-A86708339\\Predictor_BRD-A86708339\"\n",
      "Warning: path already exists! This predictor may overwrite an existing predictor! path=\"ciclopirox/GiloML_predictDrugAUC_Full_Feature_Medium_Quality_Model_ciclopirox\\Predictor_ciclopirox\"\n"
     ]
    },
    {
     "name": "stdout",
     "output_type": "stream",
     "text": [
      "Predicting with TabularPredictor for label: BRD-A86708339 ...0.0%\n",
      "Predicting with TabularPredictor for label: ciclopirox ...0.0%\n"
     ]
    },
    {
     "name": "stderr",
     "output_type": "stream",
     "text": [
      "Warning: path already exists! This predictor may overwrite an existing predictor! path=\"PAC-1/GiloML_predictDrugAUC_Full_Feature_Medium_Quality_Model_PAC-1\\Predictor_PAC-1\"\n",
      "Warning: path already exists! This predictor may overwrite an existing predictor! path=\"obatoclax/GiloML_predictDrugAUC_Full_Feature_Medium_Quality_Model_obatoclax\\Predictor_obatoclax\"\n"
     ]
    },
    {
     "name": "stdout",
     "output_type": "stream",
     "text": [
      "Predicting with TabularPredictor for label: PAC-1 ...0.0%\n",
      "Predicting with TabularPredictor for label: obatoclax ...0.0%\n"
     ]
    },
    {
     "name": "stderr",
     "output_type": "stream",
     "text": [
      "Warning: path already exists! This predictor may overwrite an existing predictor! path=\"BRD-K63431240/GiloML_predictDrugAUC_Full_Feature_Medium_Quality_Model_BRD-K63431240\\Predictor_BRD-K63431240\"\n",
      "Warning: path already exists! This predictor may overwrite an existing predictor! path=\"sotrastaurin/GiloML_predictDrugAUC_Full_Feature_Medium_Quality_Model_sotrastaurin\\Predictor_sotrastaurin\"\n"
     ]
    },
    {
     "name": "stdout",
     "output_type": "stream",
     "text": [
      "Predicting with TabularPredictor for label: BRD-K63431240 ...0.0%\n",
      "Predicting with TabularPredictor for label: sotrastaurin ...0.0%\n"
     ]
    },
    {
     "name": "stderr",
     "output_type": "stream",
     "text": [
      "Warning: path already exists! This predictor may overwrite an existing predictor! path=\"NSC19630/GiloML_predictDrugAUC_Full_Feature_Medium_Quality_Model_NSC19630\\Predictor_NSC19630\"\n"
     ]
    },
    {
     "name": "stdout",
     "output_type": "stream",
     "text": [
      "Predicting with TabularPredictor for label: NSC19630 ...0.0%\n"
     ]
    },
    {
     "name": "stderr",
     "output_type": "stream",
     "text": [
      "Warning: path already exists! This predictor may overwrite an existing predictor! path=\"PDMP/GiloML_predictDrugAUC_Full_Feature_Medium_Quality_Model_PDMP\\Predictor_PDMP\"\n"
     ]
    },
    {
     "name": "stdout",
     "output_type": "stream",
     "text": [
      "Predicting with TabularPredictor for label: PDMP ...0.0%\n"
     ]
    },
    {
     "name": "stderr",
     "output_type": "stream",
     "text": [
      "Warning: path already exists! This predictor may overwrite an existing predictor! path=\"marinopyrrole A/GiloML_predictDrugAUC_Full_Feature_Medium_Quality_Model_marinopyrrole A\\Predictor_marinopyrrole A\"\n"
     ]
    },
    {
     "name": "stdout",
     "output_type": "stream",
     "text": [
      "Predicting with TabularPredictor for label: marinopyrrole A ...0.0%\n"
     ]
    },
    {
     "name": "stderr",
     "output_type": "stream",
     "text": [
      "Warning: path already exists! This predictor may overwrite an existing predictor! path=\"bafilomycin A1/GiloML_predictDrugAUC_Full_Feature_Medium_Quality_Model_bafilomycin A1\\Predictor_bafilomycin A1\"\n",
      "Warning: path already exists! This predictor may overwrite an existing predictor! path=\"BRD-K33514849/GiloML_predictDrugAUC_Full_Feature_Medium_Quality_Model_BRD-K33514849\\Predictor_BRD-K33514849\"\n"
     ]
    },
    {
     "name": "stdout",
     "output_type": "stream",
     "text": [
      "Predicting with TabularPredictor for label: bafilomycin A1 ...0.0%\n",
      "Predicting with TabularPredictor for label: BRD-K33514849 ...0.0%\n"
     ]
    },
    {
     "name": "stderr",
     "output_type": "stream",
     "text": [
      "Warning: path already exists! This predictor may overwrite an existing predictor! path=\"BRD-K04800985/GiloML_predictDrugAUC_Full_Feature_Medium_Quality_Model_BRD-K04800985\\Predictor_BRD-K04800985\"\n",
      "Warning: path already exists! This predictor may overwrite an existing predictor! path=\"BRD-K02251932/GiloML_predictDrugAUC_Full_Feature_Medium_Quality_Model_BRD-K02251932\\Predictor_BRD-K02251932\"\n"
     ]
    },
    {
     "name": "stdout",
     "output_type": "stream",
     "text": [
      "Predicting with TabularPredictor for label: BRD-K04800985 ...0.0%\n",
      "Predicting with TabularPredictor for label: BRD-K02251932 ...0.0%\n"
     ]
    },
    {
     "name": "stderr",
     "output_type": "stream",
     "text": [
      "Warning: path already exists! This predictor may overwrite an existing predictor! path=\"BRD-K14844214/GiloML_predictDrugAUC_Full_Feature_Medium_Quality_Model_BRD-K14844214\\Predictor_BRD-K14844214\"\n",
      "Warning: path already exists! This predictor may overwrite an existing predictor! path=\"istradefylline/GiloML_predictDrugAUC_Full_Feature_Medium_Quality_Model_istradefylline\\Predictor_istradefylline\"\n"
     ]
    },
    {
     "name": "stdout",
     "output_type": "stream",
     "text": [
      "Predicting with TabularPredictor for label: BRD-K14844214 ...0.0%\n",
      "Predicting with TabularPredictor for label: istradefylline ...0.0%\n"
     ]
    },
    {
     "name": "stderr",
     "output_type": "stream",
     "text": [
      "Warning: path already exists! This predictor may overwrite an existing predictor! path=\"BIRB-796/GiloML_predictDrugAUC_Full_Feature_Medium_Quality_Model_BIRB-796\\Predictor_BIRB-796\"\n",
      "Warning: path already exists! This predictor may overwrite an existing predictor! path=\"WAY-362450/GiloML_predictDrugAUC_Full_Feature_Medium_Quality_Model_WAY-362450\\Predictor_WAY-362450\"\n"
     ]
    },
    {
     "name": "stdout",
     "output_type": "stream",
     "text": [
      "Predicting with TabularPredictor for label: BIRB-796 ...0.0%\n",
      "Predicting with TabularPredictor for label: WAY-362450 ...0.0%\n"
     ]
    },
    {
     "name": "stderr",
     "output_type": "stream",
     "text": [
      "Warning: path already exists! This predictor may overwrite an existing predictor! path=\"veliparib/GiloML_predictDrugAUC_Full_Feature_Medium_Quality_Model_veliparib\\Predictor_veliparib\"\n",
      "Warning: path already exists! This predictor may overwrite an existing predictor! path=\"BRD-K90370028/GiloML_predictDrugAUC_Full_Feature_Medium_Quality_Model_BRD-K90370028\\Predictor_BRD-K90370028\"\n"
     ]
    },
    {
     "name": "stdout",
     "output_type": "stream",
     "text": [
      "Predicting with TabularPredictor for label: veliparib ...0.0%\n",
      "Predicting with TabularPredictor for label: BRD-K90370028 ...0.0%\n"
     ]
    },
    {
     "name": "stderr",
     "output_type": "stream",
     "text": [
      "Warning: path already exists! This predictor may overwrite an existing predictor! path=\"thalidomide/GiloML_predictDrugAUC_Full_Feature_Medium_Quality_Model_thalidomide\\Predictor_thalidomide\"\n"
     ]
    },
    {
     "name": "stdout",
     "output_type": "stream",
     "text": [
      "Predicting with TabularPredictor for label: thalidomide ...0.0%\n"
     ]
    },
    {
     "name": "stderr",
     "output_type": "stream",
     "text": [
      "Warning: path already exists! This predictor may overwrite an existing predictor! path=\"SZ4TA2/GiloML_predictDrugAUC_Full_Feature_Medium_Quality_Model_SZ4TA2\\Predictor_SZ4TA2\"\n",
      "Warning: path already exists! This predictor may overwrite an existing predictor! path=\"CBB-1007/GiloML_predictDrugAUC_Full_Feature_Medium_Quality_Model_CBB-1007\\Predictor_CBB-1007\"\n"
     ]
    },
    {
     "name": "stdout",
     "output_type": "stream",
     "text": [
      "Predicting with TabularPredictor for label: SZ4TA2 ...0.0%\n",
      "Predicting with TabularPredictor for label: CBB-1007 ...0.0%\n"
     ]
    },
    {
     "name": "stderr",
     "output_type": "stream",
     "text": [
      "Warning: path already exists! This predictor may overwrite an existing predictor! path=\"ML050/GiloML_predictDrugAUC_Full_Feature_Medium_Quality_Model_ML050\\Predictor_ML050\"\n"
     ]
    },
    {
     "name": "stdout",
     "output_type": "stream",
     "text": [
      "Predicting with TabularPredictor for label: ML050 ...0.0%\n"
     ]
    },
    {
     "name": "stderr",
     "output_type": "stream",
     "text": [
      "Warning: path already exists! This predictor may overwrite an existing predictor! path=\"BMS-270394/GiloML_predictDrugAUC_Full_Feature_Medium_Quality_Model_BMS-270394\\Predictor_BMS-270394\"\n"
     ]
    },
    {
     "name": "stdout",
     "output_type": "stream",
     "text": [
      "Predicting with TabularPredictor for label: BMS-270394 ...0.0%\n"
     ]
    },
    {
     "name": "stderr",
     "output_type": "stream",
     "text": [
      "Warning: path already exists! This predictor may overwrite an existing predictor! path=\"skepinone-L/GiloML_predictDrugAUC_Full_Feature_Medium_Quality_Model_skepinone-L\\Predictor_skepinone-L\"\n"
     ]
    },
    {
     "name": "stdout",
     "output_type": "stream",
     "text": [
      "Predicting with TabularPredictor for label: skepinone-L ...0.0%\n"
     ]
    },
    {
     "name": "stderr",
     "output_type": "stream",
     "text": [
      "Warning: path already exists! This predictor may overwrite an existing predictor! path=\"MI-2/GiloML_predictDrugAUC_Full_Feature_Medium_Quality_Model_MI-2\\Predictor_MI-2\"\n"
     ]
    },
    {
     "name": "stdout",
     "output_type": "stream",
     "text": [
      "Predicting with TabularPredictor for label: MI-2 ...0.0%\n"
     ]
    },
    {
     "name": "stderr",
     "output_type": "stream",
     "text": [
      "Warning: path already exists! This predictor may overwrite an existing predictor! path=\"TG-100-115/GiloML_predictDrugAUC_Full_Feature_Medium_Quality_Model_TG-100-115\\Predictor_TG-100-115\"\n",
      "Warning: path already exists! This predictor may overwrite an existing predictor! path=\"AZD6482/GiloML_predictDrugAUC_Full_Feature_Medium_Quality_Model_AZD6482\\Predictor_AZD6482\"\n"
     ]
    },
    {
     "name": "stdout",
     "output_type": "stream",
     "text": [
      "Predicting with TabularPredictor for label: TG-100-115 ...0.0%\n",
      "Predicting with TabularPredictor for label: AZD6482 ...0.0%\n"
     ]
    },
    {
     "name": "stderr",
     "output_type": "stream",
     "text": [
      "Warning: path already exists! This predictor may overwrite an existing predictor! path=\"TGX-221/GiloML_predictDrugAUC_Full_Feature_Medium_Quality_Model_TGX-221\\Predictor_TGX-221\"\n",
      "Warning: path already exists! This predictor may overwrite an existing predictor! path=\"CAL-101/GiloML_predictDrugAUC_Full_Feature_Medium_Quality_Model_CAL-101\\Predictor_CAL-101\"\n"
     ]
    },
    {
     "name": "stdout",
     "output_type": "stream",
     "text": [
      "Predicting with TabularPredictor for label: TGX-221 ...0.0%\n",
      "Predicting with TabularPredictor for label: CAL-101 ...0.0%\n"
     ]
    },
    {
     "name": "stderr",
     "output_type": "stream",
     "text": [
      "Warning: path already exists! This predictor may overwrite an existing predictor! path=\"pluripotin/GiloML_predictDrugAUC_Full_Feature_Medium_Quality_Model_pluripotin\\Predictor_pluripotin\"\n"
     ]
    },
    {
     "name": "stdout",
     "output_type": "stream",
     "text": [
      "Predicting with TabularPredictor for label: pluripotin ...0.0%\n"
     ]
    },
    {
     "name": "stderr",
     "output_type": "stream",
     "text": [
      "Warning: path already exists! This predictor may overwrite an existing predictor! path=\"saracatinib/GiloML_predictDrugAUC_Full_Feature_Medium_Quality_Model_saracatinib\\Predictor_saracatinib\"\n",
      "Warning: path already exists! This predictor may overwrite an existing predictor! path=\"dasatinib/GiloML_predictDrugAUC_Full_Feature_Medium_Quality_Model_dasatinib\\Predictor_dasatinib\"\n"
     ]
    },
    {
     "name": "stdout",
     "output_type": "stream",
     "text": [
      "Predicting with TabularPredictor for label: saracatinib ...0.0%\n"
     ]
    },
    {
     "name": "stderr",
     "output_type": "stream",
     "text": [
      "Warning: path already exists! This predictor may overwrite an existing predictor! path=\"WZ4002/GiloML_predictDrugAUC_Full_Feature_Medium_Quality_Model_WZ4002\\Predictor_WZ4002\"\n"
     ]
    },
    {
     "name": "stdout",
     "output_type": "stream",
     "text": [
      "Predicting with TabularPredictor for label: dasatinib ...0.0%\n"
     ]
    },
    {
     "name": "stderr",
     "output_type": "stream",
     "text": [
      "Warning: path already exists! This predictor may overwrite an existing predictor! path=\"PD 153035/GiloML_predictDrugAUC_Full_Feature_Medium_Quality_Model_PD 153035\\Predictor_PD 153035\"\n"
     ]
    },
    {
     "name": "stdout",
     "output_type": "stream",
     "text": [
      "Predicting with TabularPredictor for label: WZ4002 ...0.0%\n",
      "Predicting with TabularPredictor for label: PD 153035 ...0.0%\n"
     ]
    },
    {
     "name": "stderr",
     "output_type": "stream",
     "text": [
      "Warning: path already exists! This predictor may overwrite an existing predictor! path=\"ibrutinib/GiloML_predictDrugAUC_Full_Feature_Medium_Quality_Model_ibrutinib\\Predictor_ibrutinib\"\n"
     ]
    },
    {
     "name": "stdout",
     "output_type": "stream",
     "text": [
      "Predicting with TabularPredictor for label: ibrutinib ...0.0%\n"
     ]
    },
    {
     "name": "stderr",
     "output_type": "stream",
     "text": [
      "Warning: path already exists! This predictor may overwrite an existing predictor! path=\"WZ8040/GiloML_predictDrugAUC_Full_Feature_Medium_Quality_Model_WZ8040\\Predictor_WZ8040\"\n"
     ]
    },
    {
     "name": "stdout",
     "output_type": "stream",
     "text": [
      "Predicting with TabularPredictor for label: WZ8040 ...0.0%\n"
     ]
    },
    {
     "name": "stderr",
     "output_type": "stream",
     "text": [
      "Warning: path already exists! This predictor may overwrite an existing predictor! path=\"bosutinib/GiloML_predictDrugAUC_Full_Feature_Medium_Quality_Model_bosutinib\\Predictor_bosutinib\"\n",
      "Warning: path already exists! This predictor may overwrite an existing predictor! path=\"gefitinib/GiloML_predictDrugAUC_Full_Feature_Medium_Quality_Model_gefitinib\\Predictor_gefitinib\"\n"
     ]
    },
    {
     "name": "stdout",
     "output_type": "stream",
     "text": [
      "Predicting with TabularPredictor for label: bosutinib ...0.0%\n",
      "Predicting with TabularPredictor for label: gefitinib ...0.0%\n"
     ]
    },
    {
     "name": "stderr",
     "output_type": "stream",
     "text": [
      "Warning: path already exists! This predictor may overwrite an existing predictor! path=\"erlotinib/GiloML_predictDrugAUC_Full_Feature_Medium_Quality_Model_erlotinib\\Predictor_erlotinib\"\n"
     ]
    },
    {
     "name": "stdout",
     "output_type": "stream",
     "text": [
      "Predicting with TabularPredictor for label: erlotinib ...0.0%\n"
     ]
    },
    {
     "name": "stderr",
     "output_type": "stream",
     "text": [
      "Warning: path already exists! This predictor may overwrite an existing predictor! path=\"vandetanib/GiloML_predictDrugAUC_Full_Feature_Medium_Quality_Model_vandetanib\\Predictor_vandetanib\"\n"
     ]
    },
    {
     "name": "stdout",
     "output_type": "stream",
     "text": [
      "Predicting with TabularPredictor for label: vandetanib ...0.0%\n"
     ]
    },
    {
     "name": "stderr",
     "output_type": "stream",
     "text": [
      "Warning: path already exists! This predictor may overwrite an existing predictor! path=\"canertinib/GiloML_predictDrugAUC_Full_Feature_Medium_Quality_Model_canertinib\\Predictor_canertinib\"\n",
      "Warning: path already exists! This predictor may overwrite an existing predictor! path=\"lapatinib/GiloML_predictDrugAUC_Full_Feature_Medium_Quality_Model_lapatinib\\Predictor_lapatinib\"\n"
     ]
    },
    {
     "name": "stdout",
     "output_type": "stream",
     "text": [
      "Predicting with TabularPredictor for label: canertinib ...0.0%\n",
      "Predicting with TabularPredictor for label: lapatinib ...0.0%\n"
     ]
    },
    {
     "name": "stderr",
     "output_type": "stream",
     "text": [
      "Warning: path already exists! This predictor may overwrite an existing predictor! path=\"afatinib/GiloML_predictDrugAUC_Full_Feature_Medium_Quality_Model_afatinib\\Predictor_afatinib\"\n"
     ]
    },
    {
     "name": "stdout",
     "output_type": "stream",
     "text": [
      "Predicting with TabularPredictor for label: afatinib ...0.0%\n"
     ]
    },
    {
     "name": "stderr",
     "output_type": "stream",
     "text": [
      "Warning: path already exists! This predictor may overwrite an existing predictor! path=\"neratinib/GiloML_predictDrugAUC_Full_Feature_Medium_Quality_Model_neratinib\\Predictor_neratinib\"\n"
     ]
    },
    {
     "name": "stdout",
     "output_type": "stream",
     "text": [
      "Predicting with TabularPredictor for label: neratinib ...0.0%\n"
     ]
    },
    {
     "name": "stderr",
     "output_type": "stream",
     "text": [
      "Warning: path already exists! This predictor may overwrite an existing predictor! path=\"BRD-K71935468/GiloML_predictDrugAUC_Full_Feature_Medium_Quality_Model_BRD-K71935468\\Predictor_BRD-K71935468\"\n",
      "Warning: path already exists! This predictor may overwrite an existing predictor! path=\"BRD-K94991378/GiloML_predictDrugAUC_Full_Feature_Medium_Quality_Model_BRD-K94991378\\Predictor_BRD-K94991378\"\n"
     ]
    },
    {
     "name": "stdout",
     "output_type": "stream",
     "text": [
      "Predicting with TabularPredictor for label: BRD-K71935468 ...0.0%\n",
      "Predicting with TabularPredictor for label: BRD-K94991378 ...0.0%\n"
     ]
    },
    {
     "name": "stderr",
     "output_type": "stream",
     "text": [
      "Warning: path already exists! This predictor may overwrite an existing predictor! path=\"VER-155008/GiloML_predictDrugAUC_Full_Feature_Medium_Quality_Model_VER-155008\\Predictor_VER-155008\"\n",
      "Warning: path already exists! This predictor may overwrite an existing predictor! path=\"IPR-456/GiloML_predictDrugAUC_Full_Feature_Medium_Quality_Model_IPR-456\\Predictor_IPR-456\"\n"
     ]
    },
    {
     "name": "stdout",
     "output_type": "stream",
     "text": [
      "Predicting with TabularPredictor for label: VER-155008 ...0.0%\n",
      "Predicting with TabularPredictor for label: IPR-456 ...0.0%\n"
     ]
    },
    {
     "name": "stderr",
     "output_type": "stream",
     "text": [
      "Warning: path already exists! This predictor may overwrite an existing predictor! path=\"BRD9647/GiloML_predictDrugAUC_Full_Feature_Medium_Quality_Model_BRD9647\\Predictor_BRD9647\"\n"
     ]
    },
    {
     "name": "stdout",
     "output_type": "stream",
     "text": [
      "Predicting with TabularPredictor for label: BRD9647 ...0.0%\n"
     ]
    },
    {
     "name": "stderr",
     "output_type": "stream",
     "text": [
      "Warning: path already exists! This predictor may overwrite an existing predictor! path=\"C6-ceramide/GiloML_predictDrugAUC_Full_Feature_Medium_Quality_Model_C6-ceramide\\Predictor_C6-ceramide\"\n",
      "Warning: path already exists! This predictor may overwrite an existing predictor! path=\"VU0155056/GiloML_predictDrugAUC_Full_Feature_Medium_Quality_Model_VU0155056\\Predictor_VU0155056\"\n"
     ]
    },
    {
     "name": "stdout",
     "output_type": "stream",
     "text": [
      "Predicting with TabularPredictor for label: C6-ceramide ...0.0%\n",
      "Predicting with TabularPredictor for label: VU0155056 ...0.0%\n"
     ]
    },
    {
     "name": "stderr",
     "output_type": "stream",
     "text": [
      "Warning: path already exists! This predictor may overwrite an existing predictor! path=\"Ko-143/GiloML_predictDrugAUC_Full_Feature_Medium_Quality_Model_Ko-143\\Predictor_Ko-143\"\n",
      "Warning: path already exists! This predictor may overwrite an existing predictor! path=\"L-685458/GiloML_predictDrugAUC_Full_Feature_Medium_Quality_Model_L-685458\\Predictor_L-685458\"\n"
     ]
    },
    {
     "name": "stdout",
     "output_type": "stream",
     "text": [
      "Predicting with TabularPredictor for label: Ko-143 ...0.0%\n",
      "Predicting with TabularPredictor for label: L-685458 ...0.0%\n"
     ]
    },
    {
     "name": "stderr",
     "output_type": "stream",
     "text": [
      "Warning: path already exists! This predictor may overwrite an existing predictor! path=\"MI-1/GiloML_predictDrugAUC_Full_Feature_Medium_Quality_Model_MI-1\\Predictor_MI-1\"\n"
     ]
    },
    {
     "name": "stdout",
     "output_type": "stream",
     "text": [
      "Predicting with TabularPredictor for label: MI-1 ...0.0%\n"
     ]
    },
    {
     "name": "stderr",
     "output_type": "stream",
     "text": [
      "Warning: path already exists! This predictor may overwrite an existing predictor! path=\"UNC0321/GiloML_predictDrugAUC_Full_Feature_Medium_Quality_Model_UNC0321\\Predictor_UNC0321\"\n",
      "Warning: path already exists! This predictor may overwrite an existing predictor! path=\"fumonisin B1/GiloML_predictDrugAUC_Full_Feature_Medium_Quality_Model_fumonisin B1\\Predictor_fumonisin B1\"\n"
     ]
    },
    {
     "name": "stdout",
     "output_type": "stream",
     "text": [
      "Predicting with TabularPredictor for label: UNC0321 ...0.0%\n"
     ]
    },
    {
     "name": "stderr",
     "output_type": "stream",
     "text": [
      "Warning: path already exists! This predictor may overwrite an existing predictor! path=\"GSK4112/GiloML_predictDrugAUC_Full_Feature_Medium_Quality_Model_GSK4112\\Predictor_GSK4112\"\n"
     ]
    },
    {
     "name": "stdout",
     "output_type": "stream",
     "text": [
      "Predicting with TabularPredictor for label: fumonisin B1 ...0.0%\n",
      "Predicting with TabularPredictor for label: GSK4112 ...0.0%\n"
     ]
    },
    {
     "name": "stderr",
     "output_type": "stream",
     "text": [
      "Warning: path already exists! This predictor may overwrite an existing predictor! path=\"ciclosporin/GiloML_predictDrugAUC_Full_Feature_Medium_Quality_Model_ciclosporin\\Predictor_ciclosporin\"\n",
      "Warning: path already exists! This predictor may overwrite an existing predictor! path=\"HC-067047/GiloML_predictDrugAUC_Full_Feature_Medium_Quality_Model_HC-067047\\Predictor_HC-067047\"\n"
     ]
    },
    {
     "name": "stdout",
     "output_type": "stream",
     "text": [
      "Predicting with TabularPredictor for label: ciclosporin ...0.0%\n",
      "Predicting with TabularPredictor for label: HC-067047 ...0.0%\n"
     ]
    },
    {
     "name": "stderr",
     "output_type": "stream",
     "text": [
      "Warning: path already exists! This predictor may overwrite an existing predictor! path=\"BRD-A71883111/GiloML_predictDrugAUC_Full_Feature_Medium_Quality_Model_BRD-A71883111\\Predictor_BRD-A71883111\"\n",
      "Warning: path already exists! This predictor may overwrite an existing predictor! path=\"tretinoin/GiloML_predictDrugAUC_Full_Feature_Medium_Quality_Model_tretinoin\\Predictor_tretinoin\"\n"
     ]
    },
    {
     "name": "stdout",
     "output_type": "stream",
     "text": [
      "Predicting with TabularPredictor for label: BRD-A71883111 ...0.0%\n",
      "Predicting with TabularPredictor for label: tretinoin ...0.0%\n"
     ]
    },
    {
     "name": "stderr",
     "output_type": "stream",
     "text": [
      "Warning: path already exists! This predictor may overwrite an existing predictor! path=\"Ch-55/GiloML_predictDrugAUC_Full_Feature_Medium_Quality_Model_Ch-55\\Predictor_Ch-55\"\n"
     ]
    },
    {
     "name": "stdout",
     "output_type": "stream",
     "text": [
      "Predicting with TabularPredictor for label: Ch-55 ...0.0%\n"
     ]
    },
    {
     "name": "stderr",
     "output_type": "stream",
     "text": [
      "Warning: path already exists! This predictor may overwrite an existing predictor! path=\"BRD-K29086754/GiloML_predictDrugAUC_Full_Feature_Medium_Quality_Model_BRD-K29086754\\Predictor_BRD-K29086754\"\n",
      "Warning: path already exists! This predictor may overwrite an existing predictor! path=\"AGK-2/GiloML_predictDrugAUC_Full_Feature_Medium_Quality_Model_AGK-2\\Predictor_AGK-2\"\n"
     ]
    },
    {
     "name": "stdout",
     "output_type": "stream",
     "text": [
      "Predicting with TabularPredictor for label: BRD-K29086754 ...0.0%\n",
      "Predicting with TabularPredictor for label: AGK-2 ...0.0%\n"
     ]
    },
    {
     "name": "stderr",
     "output_type": "stream",
     "text": [
      "Warning: path already exists! This predictor may overwrite an existing predictor! path=\"BRD-K33199242/GiloML_predictDrugAUC_Full_Feature_Medium_Quality_Model_BRD-K33199242\\Predictor_BRD-K33199242\"\n",
      "Warning: path already exists! This predictor may overwrite an existing predictor! path=\"BRD-K19103580/GiloML_predictDrugAUC_Full_Feature_Medium_Quality_Model_BRD-K19103580\\Predictor_BRD-K19103580\"\n"
     ]
    },
    {
     "name": "stdout",
     "output_type": "stream",
     "text": [
      "Predicting with TabularPredictor for label: BRD-K33199242 ...0.0%\n",
      "Predicting with TabularPredictor for label: BRD-K19103580 ...0.0%\n"
     ]
    },
    {
     "name": "stderr",
     "output_type": "stream",
     "text": [
      "Warning: path already exists! This predictor may overwrite an existing predictor! path=\"BRD-K41597374/GiloML_predictDrugAUC_Full_Feature_Medium_Quality_Model_BRD-K41597374\\Predictor_BRD-K41597374\"\n"
     ]
    },
    {
     "name": "stdout",
     "output_type": "stream",
     "text": [
      "Predicting with TabularPredictor for label: BRD-K41597374 ...0.0%\n"
     ]
    },
    {
     "name": "stderr",
     "output_type": "stream",
     "text": [
      "Warning: path already exists! This predictor may overwrite an existing predictor! path=\"BRD-K09587429/GiloML_predictDrugAUC_Full_Feature_Medium_Quality_Model_BRD-K09587429\\Predictor_BRD-K09587429\"\n"
     ]
    },
    {
     "name": "stdout",
     "output_type": "stream",
     "text": [
      "Predicting with TabularPredictor for label: BRD-K09587429 ...0.0%\n"
     ]
    },
    {
     "name": "stderr",
     "output_type": "stream",
     "text": [
      "Warning: path already exists! This predictor may overwrite an existing predictor! path=\"BRD-K52037352/GiloML_predictDrugAUC_Full_Feature_Medium_Quality_Model_BRD-K52037352\\Predictor_BRD-K52037352\"\n",
      "Warning: path already exists! This predictor may overwrite an existing predictor! path=\"BRD-K27986637/GiloML_predictDrugAUC_Full_Feature_Medium_Quality_Model_BRD-K27986637\\Predictor_BRD-K27986637\"\n"
     ]
    },
    {
     "name": "stdout",
     "output_type": "stream",
     "text": [
      "Predicting with TabularPredictor for label: BRD-K52037352 ...0.0%\n",
      "Predicting with TabularPredictor for label: BRD-K27986637 ...0.0%\n"
     ]
    },
    {
     "name": "stderr",
     "output_type": "stream",
     "text": [
      "Warning: path already exists! This predictor may overwrite an existing predictor! path=\"BRD-K48334597/GiloML_predictDrugAUC_Full_Feature_Medium_Quality_Model_BRD-K48334597\\Predictor_BRD-K48334597\"\n",
      "Warning: path already exists! This predictor may overwrite an existing predictor! path=\"RO4929097/GiloML_predictDrugAUC_Full_Feature_Medium_Quality_Model_RO4929097\\Predictor_RO4929097\"\n"
     ]
    },
    {
     "name": "stdout",
     "output_type": "stream",
     "text": [
      "Predicting with TabularPredictor for label: BRD-K48334597 ...0.0%\n",
      "Predicting with TabularPredictor for label: RO4929097 ...0.0%\n"
     ]
    },
    {
     "name": "stderr",
     "output_type": "stream",
     "text": [
      "Warning: path already exists! This predictor may overwrite an existing predictor! path=\"trametinib/GiloML_predictDrugAUC_Full_Feature_Medium_Quality_Model_trametinib\\Predictor_trametinib\"\n"
     ]
    },
    {
     "name": "stdout",
     "output_type": "stream",
     "text": [
      "Predicting with TabularPredictor for label: trametinib ...0.0%\n"
     ]
    },
    {
     "name": "stderr",
     "output_type": "stream",
     "text": [
      "Warning: path already exists! This predictor may overwrite an existing predictor! path=\"PD318088/GiloML_predictDrugAUC_Full_Feature_Medium_Quality_Model_PD318088\\Predictor_PD318088\"\n"
     ]
    },
    {
     "name": "stdout",
     "output_type": "stream",
     "text": [
      "Predicting with TabularPredictor for label: PD318088 ...0.0%\n"
     ]
    },
    {
     "name": "stderr",
     "output_type": "stream",
     "text": [
      "Warning: path already exists! This predictor may overwrite an existing predictor! path=\"selumetinib/GiloML_predictDrugAUC_Full_Feature_Medium_Quality_Model_selumetinib\\Predictor_selumetinib\"\n"
     ]
    },
    {
     "name": "stdout",
     "output_type": "stream",
     "text": [
      "Predicting with TabularPredictor for label: selumetinib ...0.0%\n"
     ]
    },
    {
     "name": "stderr",
     "output_type": "stream",
     "text": [
      "Warning: path already exists! This predictor may overwrite an existing predictor! path=\"BRD-K51831558/GiloML_predictDrugAUC_Full_Feature_Medium_Quality_Model_BRD-K51831558\\Predictor_BRD-K51831558\"\n",
      "Warning: path already exists! This predictor may overwrite an existing predictor! path=\"JW-55/GiloML_predictDrugAUC_Full_Feature_Medium_Quality_Model_JW-55\\Predictor_JW-55\"\n"
     ]
    },
    {
     "name": "stdout",
     "output_type": "stream",
     "text": [
      "Predicting with TabularPredictor for label: BRD-K51831558 ...0.0%\n",
      "Predicting with TabularPredictor for label: JW-55 ...0.0%\n"
     ]
    },
    {
     "name": "stderr",
     "output_type": "stream",
     "text": [
      "Warning: path already exists! This predictor may overwrite an existing predictor! path=\"JW-74/GiloML_predictDrugAUC_Full_Feature_Medium_Quality_Model_JW-74\\Predictor_JW-74\"\n"
     ]
    },
    {
     "name": "stdout",
     "output_type": "stream",
     "text": [
      "Predicting with TabularPredictor for label: JW-74 ...0.0%\n"
     ]
    },
    {
     "name": "stderr",
     "output_type": "stream",
     "text": [
      "Warning: path already exists! This predictor may overwrite an existing predictor! path=\"GSK2636771/GiloML_predictDrugAUC_Full_Feature_Medium_Quality_Model_GSK2636771\\Predictor_GSK2636771\"\n",
      "Warning: path already exists! This predictor may overwrite an existing predictor! path=\"PRIMA-1-Met/GiloML_predictDrugAUC_Full_Feature_Medium_Quality_Model_PRIMA-1-Met\\Predictor_PRIMA-1-Met\"\n"
     ]
    },
    {
     "name": "stdout",
     "output_type": "stream",
     "text": [
      "Predicting with TabularPredictor for label: GSK2636771 ...0.0%\n",
      "Predicting with TabularPredictor for label: PRIMA-1-Met ...0.0%\n"
     ]
    },
    {
     "name": "stderr",
     "output_type": "stream",
     "text": [
      "Warning: path already exists! This predictor may overwrite an existing predictor! path=\"ML312/GiloML_predictDrugAUC_Full_Feature_Medium_Quality_Model_ML312\\Predictor_ML312\"\n",
      "Warning: path already exists! This predictor may overwrite an existing predictor! path=\"BRD-K16147474/GiloML_predictDrugAUC_Full_Feature_Medium_Quality_Model_BRD-K16147474\\Predictor_BRD-K16147474\"\n"
     ]
    },
    {
     "name": "stdout",
     "output_type": "stream",
     "text": [
      "Predicting with TabularPredictor for label: ML312 ...0.0%\n",
      "Predicting with TabularPredictor for label: BRD-K16147474 ...0.0%\n"
     ]
    },
    {
     "name": "stderr",
     "output_type": "stream",
     "text": [
      "Warning: path already exists! This predictor may overwrite an existing predictor! path=\"etomoxir/GiloML_predictDrugAUC_Full_Feature_Medium_Quality_Model_etomoxir\\Predictor_etomoxir\"\n",
      "Warning: path already exists! This predictor may overwrite an existing predictor! path=\"BRD-K49290616/GiloML_predictDrugAUC_Full_Feature_Medium_Quality_Model_BRD-K49290616\\Predictor_BRD-K49290616\"\n",
      "Warning: path already exists! This predictor may overwrite an existing predictor! path=\"FGIN-1-27/GiloML_predictDrugAUC_Full_Feature_Medium_Quality_Model_FGIN-1-27\\Predictor_FGIN-1-27\"\n"
     ]
    },
    {
     "name": "stdout",
     "output_type": "stream",
     "text": [
      "Predicting with TabularPredictor for label: etomoxir ...0.0%\n",
      "Predicting with TabularPredictor for label: BRD-K49290616 ...0.0%\n",
      "Predicting with TabularPredictor for label: FGIN-1-27 ...0.0%\n"
     ]
    },
    {
     "name": "stderr",
     "output_type": "stream",
     "text": [
      "Warning: path already exists! This predictor may overwrite an existing predictor! path=\"BRD-K96431673/GiloML_predictDrugAUC_Full_Feature_Medium_Quality_Model_BRD-K96431673\\Predictor_BRD-K96431673\"\n",
      "Warning: path already exists! This predictor may overwrite an existing predictor! path=\"BRD-K96970199/GiloML_predictDrugAUC_Full_Feature_Medium_Quality_Model_BRD-K96970199\\Predictor_BRD-K96970199\"\n"
     ]
    },
    {
     "name": "stdout",
     "output_type": "stream",
     "text": [
      "Predicting with TabularPredictor for label: BRD-K96431673 ...0.0%\n",
      "Predicting with TabularPredictor for label: BRD-K96970199 ...0.0%\n"
     ]
    },
    {
     "name": "stderr",
     "output_type": "stream",
     "text": [
      "Warning: path already exists! This predictor may overwrite an existing predictor! path=\"BRD-K17060750/GiloML_predictDrugAUC_Full_Feature_Medium_Quality_Model_BRD-K17060750\\Predictor_BRD-K17060750\"\n"
     ]
    },
    {
     "name": "stdout",
     "output_type": "stream",
     "text": [
      "Predicting with TabularPredictor for label: BRD-K17060750 ...0.0%\n"
     ]
    },
    {
     "name": "stderr",
     "output_type": "stream",
     "text": [
      "Warning: path already exists! This predictor may overwrite an existing predictor! path=\"BRD-K86535717/GiloML_predictDrugAUC_Full_Feature_Medium_Quality_Model_BRD-K86535717\\Predictor_BRD-K86535717\"\n",
      "Warning: path already exists! This predictor may overwrite an existing predictor! path=\"BRD-K02492147/GiloML_predictDrugAUC_Full_Feature_Medium_Quality_Model_BRD-K02492147\\Predictor_BRD-K02492147\"\n"
     ]
    },
    {
     "name": "stdout",
     "output_type": "stream",
     "text": [
      "Predicting with TabularPredictor for label: BRD-K86535717 ...0.0%\n",
      "Predicting with TabularPredictor for label: BRD-K02492147 ...0.0%\n"
     ]
    },
    {
     "name": "stderr",
     "output_type": "stream",
     "text": [
      "Warning: path already exists! This predictor may overwrite an existing predictor! path=\"BRD-K75293299/GiloML_predictDrugAUC_Full_Feature_Medium_Quality_Model_BRD-K75293299\\Predictor_BRD-K75293299\"\n",
      "Warning: path already exists! This predictor may overwrite an existing predictor! path=\"sitagliptin/GiloML_predictDrugAUC_Full_Feature_Medium_Quality_Model_sitagliptin\\Predictor_sitagliptin\"\n"
     ]
    },
    {
     "name": "stdout",
     "output_type": "stream",
     "text": [
      "Predicting with TabularPredictor for label: BRD-K75293299 ...0.0%\n",
      "Predicting with TabularPredictor for label: sitagliptin ...0.0%\n"
     ]
    },
    {
     "name": "stderr",
     "output_type": "stream",
     "text": [
      "Warning: path already exists! This predictor may overwrite an existing predictor! path=\"SGX-523/GiloML_predictDrugAUC_Full_Feature_Medium_Quality_Model_SGX-523\\Predictor_SGX-523\"\n",
      "Warning: path already exists! This predictor may overwrite an existing predictor! path=\"NSC30930/GiloML_predictDrugAUC_Full_Feature_Medium_Quality_Model_NSC30930\\Predictor_NSC30930\"\n"
     ]
    },
    {
     "name": "stdout",
     "output_type": "stream",
     "text": [
      "Predicting with TabularPredictor for label: SGX-523 ...0.0%\n",
      "Predicting with TabularPredictor for label: NSC30930 ...0.0%\n"
     ]
    },
    {
     "name": "stderr",
     "output_type": "stream",
     "text": [
      "Warning: path already exists! This predictor may overwrite an existing predictor! path=\"quizartinib/GiloML_predictDrugAUC_Full_Feature_Medium_Quality_Model_quizartinib\\Predictor_quizartinib\"\n"
     ]
    },
    {
     "name": "stdout",
     "output_type": "stream",
     "text": [
      "Predicting with TabularPredictor for label: quizartinib ...0.0%\n"
     ]
    },
    {
     "name": "stderr",
     "output_type": "stream",
     "text": [
      "Warning: path already exists! This predictor may overwrite an existing predictor! path=\"XL765/GiloML_predictDrugAUC_Full_Feature_Medium_Quality_Model_XL765\\Predictor_XL765\"\n"
     ]
    },
    {
     "name": "stdout",
     "output_type": "stream",
     "text": [
      "Predicting with TabularPredictor for label: XL765 ...0.0%\n"
     ]
    },
    {
     "name": "stderr",
     "output_type": "stream",
     "text": [
      "Warning: path already exists! This predictor may overwrite an existing predictor! path=\"BRD-K85133207/GiloML_predictDrugAUC_Full_Feature_Medium_Quality_Model_BRD-K85133207\\Predictor_BRD-K85133207\"\n"
     ]
    },
    {
     "name": "stdout",
     "output_type": "stream",
     "text": [
      "Predicting with TabularPredictor for label: BRD-K85133207 ...0.0%\n"
     ]
    },
    {
     "name": "stderr",
     "output_type": "stream",
     "text": [
      "Warning: path already exists! This predictor may overwrite an existing predictor! path=\"16-beta-bromoandrosterone/GiloML_predictDrugAUC_Full_Feature_Medium_Quality_Model_16-beta-bromoandrosterone\\Predictor_16-beta-bromoandrosterone\"\n",
      "Warning: path already exists! This predictor may overwrite an existing predictor! path=\"tosedostat/GiloML_predictDrugAUC_Full_Feature_Medium_Quality_Model_tosedostat\\Predictor_tosedostat\"\n"
     ]
    },
    {
     "name": "stdout",
     "output_type": "stream",
     "text": [
      "Predicting with TabularPredictor for label: 16-beta-bromoandrosterone ...0.0%\n",
      "Predicting with TabularPredictor for label: tosedostat ...0.0%\n"
     ]
    },
    {
     "name": "stderr",
     "output_type": "stream",
     "text": [
      "Warning: path already exists! This predictor may overwrite an existing predictor! path=\"AT-406/GiloML_predictDrugAUC_Full_Feature_Medium_Quality_Model_AT-406\\Predictor_AT-406\"\n",
      "Warning: path already exists! This predictor may overwrite an existing predictor! path=\"birinapant/GiloML_predictDrugAUC_Full_Feature_Medium_Quality_Model_birinapant\\Predictor_birinapant\"\n"
     ]
    },
    {
     "name": "stdout",
     "output_type": "stream",
     "text": [
      "Predicting with TabularPredictor for label: AT-406 ...0.0%\n",
      "Predicting with TabularPredictor for label: birinapant ...0.0%\n"
     ]
    },
    {
     "name": "stderr",
     "output_type": "stream",
     "text": [
      "Warning: path already exists! This predictor may overwrite an existing predictor! path=\"SRT-1720/GiloML_predictDrugAUC_Full_Feature_Medium_Quality_Model_SRT-1720\\Predictor_SRT-1720\"\n"
     ]
    },
    {
     "name": "stdout",
     "output_type": "stream",
     "text": [
      "Predicting with TabularPredictor for label: SRT-1720 ...0.0%\n"
     ]
    },
    {
     "name": "stderr",
     "output_type": "stream",
     "text": [
      "Warning: path already exists! This predictor may overwrite an existing predictor! path=\"epigallocatechin-3-monogallate/GiloML_predictDrugAUC_Full_Feature_Medium_Quality_Model_epigallocatechin-3-monogallate\\Predictor_epigallocatechin-3-monogallate\"\n"
     ]
    },
    {
     "name": "stdout",
     "output_type": "stream",
     "text": [
      "Predicting with TabularPredictor for label: epigallocatechin-3-monogallate ...0.0%\n"
     ]
    },
    {
     "name": "stderr",
     "output_type": "stream",
     "text": [
      "Warning: path already exists! This predictor may overwrite an existing predictor! path=\"BRD-K13999467/GiloML_predictDrugAUC_Full_Feature_Medium_Quality_Model_BRD-K13999467\\Predictor_BRD-K13999467\"\n"
     ]
    },
    {
     "name": "stdout",
     "output_type": "stream",
     "text": [
      "Predicting with TabularPredictor for label: BRD-K13999467 ...0.0%\n"
     ]
    },
    {
     "name": "stderr",
     "output_type": "stream",
     "text": [
      "Warning: path already exists! This predictor may overwrite an existing predictor! path=\"BRD-A94377914/GiloML_predictDrugAUC_Full_Feature_Medium_Quality_Model_BRD-A94377914\\Predictor_BRD-A94377914\"\n",
      "Warning: path already exists! This predictor may overwrite an existing predictor! path=\"Compound 7d-cis/GiloML_predictDrugAUC_Full_Feature_Medium_Quality_Model_Compound 7d-cis\\Predictor_Compound 7d-cis\"\n"
     ]
    },
    {
     "name": "stdout",
     "output_type": "stream",
     "text": [
      "Predicting with TabularPredictor for label: BRD-A94377914 ...0.0%\n",
      "Predicting with TabularPredictor for label: Compound 7d-cis ...0.0%\n"
     ]
    },
    {
     "name": "stderr",
     "output_type": "stream",
     "text": [
      "Warning: path already exists! This predictor may overwrite an existing predictor! path=\"tipifarnib-P2/GiloML_predictDrugAUC_Full_Feature_Medium_Quality_Model_tipifarnib-P2\\Predictor_tipifarnib-P2\"\n",
      "Warning: path already exists! This predictor may overwrite an existing predictor! path=\"myriocin/GiloML_predictDrugAUC_Full_Feature_Medium_Quality_Model_myriocin\\Predictor_myriocin\"\n"
     ]
    },
    {
     "name": "stdout",
     "output_type": "stream",
     "text": [
      "Predicting with TabularPredictor for label: tipifarnib-P2 ...0.0%\n",
      "Predicting with TabularPredictor for label: myriocin ...0.0%\n"
     ]
    },
    {
     "name": "stderr",
     "output_type": "stream",
     "text": [
      "Warning: path already exists! This predictor may overwrite an existing predictor! path=\"avrainvillamide/GiloML_predictDrugAUC_Full_Feature_Medium_Quality_Model_avrainvillamide\\Predictor_avrainvillamide\"\n",
      "Warning: path already exists! This predictor may overwrite an existing predictor! path=\"AC55649/GiloML_predictDrugAUC_Full_Feature_Medium_Quality_Model_AC55649\\Predictor_AC55649\"\n"
     ]
    },
    {
     "name": "stdout",
     "output_type": "stream",
     "text": [
      "Predicting with TabularPredictor for label: avrainvillamide ...0.0%\n",
      "Predicting with TabularPredictor for label: AC55649 ...0.0%\n"
     ]
    },
    {
     "name": "stderr",
     "output_type": "stream",
     "text": [
      "Warning: path already exists! This predictor may overwrite an existing predictor! path=\"lomeguatrib/GiloML_predictDrugAUC_Full_Feature_Medium_Quality_Model_lomeguatrib\\Predictor_lomeguatrib\"\n",
      "Warning: path already exists! This predictor may overwrite an existing predictor! path=\"semagacestat/GiloML_predictDrugAUC_Full_Feature_Medium_Quality_Model_semagacestat\\Predictor_semagacestat\"\n"
     ]
    },
    {
     "name": "stdout",
     "output_type": "stream",
     "text": [
      "Predicting with TabularPredictor for label: lomeguatrib ...0.0%\n",
      "Predicting with TabularPredictor for label: semagacestat ...0.0%\n"
     ]
    },
    {
     "name": "stderr",
     "output_type": "stream",
     "text": [
      "Warning: path already exists! This predictor may overwrite an existing predictor! path=\"SR1001/GiloML_predictDrugAUC_Full_Feature_Medium_Quality_Model_SR1001\\Predictor_SR1001\"\n",
      "Warning: path already exists! This predictor may overwrite an existing predictor! path=\"BMS-195614/GiloML_predictDrugAUC_Full_Feature_Medium_Quality_Model_BMS-195614\\Predictor_BMS-195614\"\n"
     ]
    },
    {
     "name": "stdout",
     "output_type": "stream",
     "text": [
      "Predicting with TabularPredictor for label: SR1001 ...0.0%\n",
      "Predicting with TabularPredictor for label: BMS-195614 ...0.0%\n"
     ]
    },
    {
     "name": "stderr",
     "output_type": "stream",
     "text": [
      "Warning: path already exists! This predictor may overwrite an existing predictor! path=\"vorapaxar/GiloML_predictDrugAUC_Full_Feature_Medium_Quality_Model_vorapaxar\\Predictor_vorapaxar\"\n",
      "Warning: path already exists! This predictor may overwrite an existing predictor! path=\"blebbistatin/GiloML_predictDrugAUC_Full_Feature_Medium_Quality_Model_blebbistatin\\Predictor_blebbistatin\"\n"
     ]
    },
    {
     "name": "stdout",
     "output_type": "stream",
     "text": [
      "Predicting with TabularPredictor for label: vorapaxar ...0.0%\n",
      "Predicting with TabularPredictor for label: blebbistatin ...0.0%\n"
     ]
    },
    {
     "name": "stderr",
     "output_type": "stream",
     "text": [
      "Warning: path already exists! This predictor may overwrite an existing predictor! path=\"FSC231/GiloML_predictDrugAUC_Full_Feature_Medium_Quality_Model_FSC231\\Predictor_FSC231\"\n"
     ]
    },
    {
     "name": "stdout",
     "output_type": "stream",
     "text": [
      "Predicting with TabularPredictor for label: FSC231 ...0.0%\n"
     ]
    },
    {
     "name": "stderr",
     "output_type": "stream",
     "text": [
      "Warning: path already exists! This predictor may overwrite an existing predictor! path=\"ML258/GiloML_predictDrugAUC_Full_Feature_Medium_Quality_Model_ML258\\Predictor_ML258\"\n"
     ]
    },
    {
     "name": "stdout",
     "output_type": "stream",
     "text": [
      "Predicting with TabularPredictor for label: ML258 ...0.0%\n"
     ]
    },
    {
     "name": "stderr",
     "output_type": "stream",
     "text": [
      "Warning: path already exists! This predictor may overwrite an existing predictor! path=\"O-6-benzylguanine/GiloML_predictDrugAUC_Full_Feature_Medium_Quality_Model_O-6-benzylguanine\\Predictor_O-6-benzylguanine\"\n",
      "Warning: path already exists! This predictor may overwrite an existing predictor! path=\"Compound 1541A/GiloML_predictDrugAUC_Full_Feature_Medium_Quality_Model_Compound 1541A\\Predictor_Compound 1541A\"\n"
     ]
    },
    {
     "name": "stdout",
     "output_type": "stream",
     "text": [
      "Predicting with TabularPredictor for label: O-6-benzylguanine ...0.0%\n",
      "Predicting with TabularPredictor for label: Compound 1541A ...0.0%\n"
     ]
    },
    {
     "name": "stderr",
     "output_type": "stream",
     "text": [
      "Warning: path already exists! This predictor may overwrite an existing predictor! path=\"tubastatin A/GiloML_predictDrugAUC_Full_Feature_Medium_Quality_Model_tubastatin A\\Predictor_tubastatin A\"\n",
      "Warning: path already exists! This predictor may overwrite an existing predictor! path=\"CIL55/GiloML_predictDrugAUC_Full_Feature_Medium_Quality_Model_CIL55\\Predictor_CIL55\"\n"
     ]
    },
    {
     "name": "stdout",
     "output_type": "stream",
     "text": [
      "Predicting with TabularPredictor for label: tubastatin A ...0.0%\n",
      "Predicting with TabularPredictor for label: CIL55 ...0.0%\n"
     ]
    },
    {
     "name": "stderr",
     "output_type": "stream",
     "text": [
      "Warning: path already exists! This predictor may overwrite an existing predictor! path=\"CAY10576/GiloML_predictDrugAUC_Full_Feature_Medium_Quality_Model_CAY10576\\Predictor_CAY10576\"\n",
      "Warning: path already exists! This predictor may overwrite an existing predictor! path=\"BRD-K41334119/GiloML_predictDrugAUC_Full_Feature_Medium_Quality_Model_BRD-K41334119\\Predictor_BRD-K41334119\"\n"
     ]
    },
    {
     "name": "stdout",
     "output_type": "stream",
     "text": [
      "Predicting with TabularPredictor for label: CAY10576 ...0.0%\n",
      "Predicting with TabularPredictor for label: BRD-K41334119 ...0.0%\n"
     ]
    },
    {
     "name": "stderr",
     "output_type": "stream",
     "text": [
      "Warning: path already exists! This predictor may overwrite an existing predictor! path=\"BRD-K27224038/GiloML_predictDrugAUC_Full_Feature_Medium_Quality_Model_BRD-K27224038\\Predictor_BRD-K27224038\"\n"
     ]
    },
    {
     "name": "stdout",
     "output_type": "stream",
     "text": [
      "Predicting with TabularPredictor for label: BRD-K27224038 ...0.0%\n"
     ]
    },
    {
     "name": "stderr",
     "output_type": "stream",
     "text": [
      "Warning: path already exists! This predictor may overwrite an existing predictor! path=\"BRD-K84807411/GiloML_predictDrugAUC_Full_Feature_Medium_Quality_Model_BRD-K84807411\\Predictor_BRD-K84807411\"\n",
      "Warning: path already exists! This predictor may overwrite an existing predictor! path=\"BRD-K30019337/GiloML_predictDrugAUC_Full_Feature_Medium_Quality_Model_BRD-K30019337\\Predictor_BRD-K30019337\"\n"
     ]
    },
    {
     "name": "stdout",
     "output_type": "stream",
     "text": [
      "Predicting with TabularPredictor for label: BRD-K84807411 ...0.0%\n",
      "Predicting with TabularPredictor for label: BRD-K30019337 ...0.0%\n"
     ]
    },
    {
     "name": "stderr",
     "output_type": "stream",
     "text": [
      "Warning: path already exists! This predictor may overwrite an existing predictor! path=\"BRD-K78574327/GiloML_predictDrugAUC_Full_Feature_Medium_Quality_Model_BRD-K78574327\\Predictor_BRD-K78574327\"\n"
     ]
    },
    {
     "name": "stdout",
     "output_type": "stream",
     "text": [
      "Predicting with TabularPredictor for label: BRD-K78574327 ...0.0%\n"
     ]
    },
    {
     "name": "stderr",
     "output_type": "stream",
     "text": [
      "Warning: path already exists! This predictor may overwrite an existing predictor! path=\"BRD-K42260513/GiloML_predictDrugAUC_Full_Feature_Medium_Quality_Model_BRD-K42260513\\Predictor_BRD-K42260513\"\n",
      "Warning: path already exists! This predictor may overwrite an existing predictor! path=\"IU1/GiloML_predictDrugAUC_Full_Feature_Medium_Quality_Model_IU1\\Predictor_IU1\"\n"
     ]
    },
    {
     "name": "stdout",
     "output_type": "stream",
     "text": [
      "Predicting with TabularPredictor for label: BRD-K42260513 ...0.0%\n",
      "Predicting with TabularPredictor for label: IU1 ...0.0%\n"
     ]
    },
    {
     "name": "stderr",
     "output_type": "stream",
     "text": [
      "Warning: path already exists! This predictor may overwrite an existing predictor! path=\"LY-2157299/GiloML_predictDrugAUC_Full_Feature_Medium_Quality_Model_LY-2157299\\Predictor_LY-2157299\"\n",
      "Warning: path already exists! This predictor may overwrite an existing predictor! path=\"BCL-LZH-4/GiloML_predictDrugAUC_Full_Feature_Medium_Quality_Model_BCL-LZH-4\\Predictor_BCL-LZH-4\"\n"
     ]
    },
    {
     "name": "stdout",
     "output_type": "stream",
     "text": [
      "Predicting with TabularPredictor for label: LY-2157299 ...0.0%\n",
      "Predicting with TabularPredictor for label: BCL-LZH-4 ...0.0%\n"
     ]
    },
    {
     "name": "stderr",
     "output_type": "stream",
     "text": [
      "Warning: path already exists! This predictor may overwrite an existing predictor! path=\"PF-4800567 hydrochloride/GiloML_predictDrugAUC_Full_Feature_Medium_Quality_Model_PF-4800567 hydrochloride\\Predictor_PF-4800567 hydrochloride\"\n",
      "Warning: path already exists! This predictor may overwrite an existing predictor! path=\"pandacostat/GiloML_predictDrugAUC_Full_Feature_Medium_Quality_Model_pandacostat\\Predictor_pandacostat\"\n"
     ]
    },
    {
     "name": "stdout",
     "output_type": "stream",
     "text": [
      "Predicting with TabularPredictor for label: PF-4800567 hydrochloride ...0.0%\n",
      "Predicting with TabularPredictor for label: pandacostat ...0.0%\n"
     ]
    },
    {
     "name": "stderr",
     "output_type": "stream",
     "text": [
      "Warning: path already exists! This predictor may overwrite an existing predictor! path=\"BRD6340/GiloML_predictDrugAUC_Full_Feature_Medium_Quality_Model_BRD6340\\Predictor_BRD6340\"\n"
     ]
    },
    {
     "name": "stdout",
     "output_type": "stream",
     "text": [
      "Predicting with TabularPredictor for label: BRD6340 ...0.0%\n"
     ]
    },
    {
     "name": "stderr",
     "output_type": "stream",
     "text": [
      "Warning: path already exists! This predictor may overwrite an existing predictor! path=\"BEC/GiloML_predictDrugAUC_Full_Feature_Medium_Quality_Model_BEC\\Predictor_BEC\"\n",
      "Warning: path already exists! This predictor may overwrite an existing predictor! path=\"VAF-347/GiloML_predictDrugAUC_Full_Feature_Medium_Quality_Model_VAF-347\\Predictor_VAF-347\"\n"
     ]
    },
    {
     "name": "stdout",
     "output_type": "stream",
     "text": [
      "Predicting with TabularPredictor for label: BEC ...0.0%\n",
      "Predicting with TabularPredictor for label: VAF-347 ...0.0%\n"
     ]
    },
    {
     "name": "stderr",
     "output_type": "stream",
     "text": [
      "Warning: path already exists! This predictor may overwrite an existing predictor! path=\"BRD-K34485477/GiloML_predictDrugAUC_Full_Feature_Medium_Quality_Model_BRD-K34485477\\Predictor_BRD-K34485477\"\n",
      "Warning: path already exists! This predictor may overwrite an existing predictor! path=\"BRD-K37390332/GiloML_predictDrugAUC_Full_Feature_Medium_Quality_Model_BRD-K37390332\\Predictor_BRD-K37390332\"\n"
     ]
    },
    {
     "name": "stdout",
     "output_type": "stream",
     "text": [
      "Predicting with TabularPredictor for label: BRD-K34485477 ...0.0%\n",
      "Predicting with TabularPredictor for label: BRD-K37390332 ...0.0%\n"
     ]
    },
    {
     "name": "stderr",
     "output_type": "stream",
     "text": [
      "Warning: path already exists! This predictor may overwrite an existing predictor! path=\"BRD-K44224150/GiloML_predictDrugAUC_Full_Feature_Medium_Quality_Model_BRD-K44224150\\Predictor_BRD-K44224150\"\n",
      "Warning: path already exists! This predictor may overwrite an existing predictor! path=\"procarbazine/GiloML_predictDrugAUC_Full_Feature_Medium_Quality_Model_procarbazine\\Predictor_procarbazine\"\n"
     ]
    },
    {
     "name": "stdout",
     "output_type": "stream",
     "text": [
      "Predicting with TabularPredictor for label: BRD-K44224150 ...0.0%\n",
      "Predicting with TabularPredictor for label: procarbazine ...0.0%\n"
     ]
    },
    {
     "name": "stderr",
     "output_type": "stream",
     "text": [
      "Warning: path already exists! This predictor may overwrite an existing predictor! path=\"necrostatin-1/GiloML_predictDrugAUC_Full_Feature_Medium_Quality_Model_necrostatin-1\\Predictor_necrostatin-1\"\n"
     ]
    },
    {
     "name": "stdout",
     "output_type": "stream",
     "text": [
      "Predicting with TabularPredictor for label: necrostatin-1 ...0.0%\n"
     ]
    },
    {
     "name": "stderr",
     "output_type": "stream",
     "text": [
      "Warning: path already exists! This predictor may overwrite an existing predictor! path=\"sildenafil/GiloML_predictDrugAUC_Full_Feature_Medium_Quality_Model_sildenafil\\Predictor_sildenafil\"\n"
     ]
    },
    {
     "name": "stdout",
     "output_type": "stream",
     "text": [
      "Predicting with TabularPredictor for label: sildenafil ...0.0%\n"
     ]
    },
    {
     "name": "stderr",
     "output_type": "stream",
     "text": [
      "Warning: path already exists! This predictor may overwrite an existing predictor! path=\"cyclophosphamide/GiloML_predictDrugAUC_Full_Feature_Medium_Quality_Model_cyclophosphamide\\Predictor_cyclophosphamide\"\n"
     ]
    },
    {
     "name": "stdout",
     "output_type": "stream",
     "text": [
      "Predicting with TabularPredictor for label: cyclophosphamide ...0.0%\n"
     ]
    },
    {
     "name": "stderr",
     "output_type": "stream",
     "text": [
      "Warning: path already exists! This predictor may overwrite an existing predictor! path=\"ML083/GiloML_predictDrugAUC_Full_Feature_Medium_Quality_Model_ML083\\Predictor_ML083\"\n"
     ]
    },
    {
     "name": "stdout",
     "output_type": "stream",
     "text": [
      "Predicting with TabularPredictor for label: ML083 ...0.0%\n"
     ]
    },
    {
     "name": "stderr",
     "output_type": "stream",
     "text": [
      "Warning: path already exists! This predictor may overwrite an existing predictor! path=\"necrostatin-7/GiloML_predictDrugAUC_Full_Feature_Medium_Quality_Model_necrostatin-7\\Predictor_necrostatin-7\"\n",
      "Warning: path already exists! This predictor may overwrite an existing predictor! path=\"bexarotene/GiloML_predictDrugAUC_Full_Feature_Medium_Quality_Model_bexarotene\\Predictor_bexarotene\"\n"
     ]
    },
    {
     "name": "stdout",
     "output_type": "stream",
     "text": [
      "Predicting with TabularPredictor for label: necrostatin-7 ...0.0%\n",
      "Predicting with TabularPredictor for label: bexarotene ...0.0%\n"
     ]
    },
    {
     "name": "stderr",
     "output_type": "stream",
     "text": [
      "Warning: path already exists! This predictor may overwrite an existing predictor! path=\"SCH-79797/GiloML_predictDrugAUC_Full_Feature_Medium_Quality_Model_SCH-79797\\Predictor_SCH-79797\"\n"
     ]
    },
    {
     "name": "stdout",
     "output_type": "stream",
     "text": [
      "Predicting with TabularPredictor for label: SCH-79797 ...0.0%\n"
     ]
    },
    {
     "name": "stderr",
     "output_type": "stream",
     "text": [
      "Warning: path already exists! This predictor may overwrite an existing predictor! path=\"methotrexate/GiloML_predictDrugAUC_Full_Feature_Medium_Quality_Model_methotrexate\\Predictor_methotrexate\"\n"
     ]
    },
    {
     "name": "stdout",
     "output_type": "stream",
     "text": [
      "Predicting with TabularPredictor for label: methotrexate ...0.0%\n"
     ]
    },
    {
     "name": "stderr",
     "output_type": "stream",
     "text": [
      "Warning: path already exists! This predictor may overwrite an existing predictor! path=\"RG-108/GiloML_predictDrugAUC_Full_Feature_Medium_Quality_Model_RG-108\\Predictor_RG-108\"\n"
     ]
    },
    {
     "name": "stdout",
     "output_type": "stream",
     "text": [
      "Predicting with TabularPredictor for label: RG-108 ...0.0%\n"
     ]
    },
    {
     "name": "stderr",
     "output_type": "stream",
     "text": [
      "Warning: path already exists! This predictor may overwrite an existing predictor! path=\"GMX-1778/GiloML_predictDrugAUC_Full_Feature_Medium_Quality_Model_GMX-1778\\Predictor_GMX-1778\"\n"
     ]
    },
    {
     "name": "stdout",
     "output_type": "stream",
     "text": [
      "Predicting with TabularPredictor for label: GMX-1778 ...0.0%\n"
     ]
    },
    {
     "name": "stderr",
     "output_type": "stream",
     "text": [
      "Warning: path already exists! This predictor may overwrite an existing predictor! path=\"STF-31/GiloML_predictDrugAUC_Full_Feature_Medium_Quality_Model_STF-31\\Predictor_STF-31\"\n",
      "Warning: path already exists! This predictor may overwrite an existing predictor! path=\"daporinad/GiloML_predictDrugAUC_Full_Feature_Medium_Quality_Model_daporinad\\Predictor_daporinad\"\n"
     ]
    },
    {
     "name": "stdout",
     "output_type": "stream",
     "text": [
      "Predicting with TabularPredictor for label: STF-31 ...0.0%\n",
      "Predicting with TabularPredictor for label: daporinad ...0.0%\n"
     ]
    },
    {
     "name": "stderr",
     "output_type": "stream",
     "text": [
      "Warning: path already exists! This predictor may overwrite an existing predictor! path=\"CAY10618/GiloML_predictDrugAUC_Full_Feature_Medium_Quality_Model_CAY10618\\Predictor_CAY10618\"\n"
     ]
    },
    {
     "name": "stdout",
     "output_type": "stream",
     "text": [
      "Predicting with TabularPredictor for label: CAY10618 ...0.0%\n"
     ]
    },
    {
     "name": "stderr",
     "output_type": "stream",
     "text": [
      "Warning: path already exists! This predictor may overwrite an existing predictor! path=\"dacarbazine/GiloML_predictDrugAUC_Full_Feature_Medium_Quality_Model_dacarbazine\\Predictor_dacarbazine\"\n"
     ]
    },
    {
     "name": "stdout",
     "output_type": "stream",
     "text": [
      "Predicting with TabularPredictor for label: dacarbazine ...0.0%\n"
     ]
    },
    {
     "name": "stderr",
     "output_type": "stream",
     "text": [
      "Warning: path already exists! This predictor may overwrite an existing predictor! path=\"fluorouracil/GiloML_predictDrugAUC_Full_Feature_Medium_Quality_Model_fluorouracil\\Predictor_fluorouracil\"\n",
      "Warning: path already exists! This predictor may overwrite an existing predictor! path=\"decitabine/GiloML_predictDrugAUC_Full_Feature_Medium_Quality_Model_decitabine\\Predictor_decitabine\"\n"
     ]
    },
    {
     "name": "stdout",
     "output_type": "stream",
     "text": [
      "Predicting with TabularPredictor for label: fluorouracil ...0.0%\n"
     ]
    },
    {
     "name": "stderr",
     "output_type": "stream",
     "text": [
      "Warning: path already exists! This predictor may overwrite an existing predictor! path=\"PF-3758309/GiloML_predictDrugAUC_Full_Feature_Medium_Quality_Model_PF-3758309\\Predictor_PF-3758309\"\n"
     ]
    },
    {
     "name": "stdout",
     "output_type": "stream",
     "text": [
      "Predicting with TabularPredictor for label: decitabine ...0.0%\n",
      "Predicting with TabularPredictor for label: PF-3758309 ...0.0%\n"
     ]
    },
    {
     "name": "stderr",
     "output_type": "stream",
     "text": [
      "Warning: path already exists! This predictor may overwrite an existing predictor! path=\"omacetaxine mepesuccinate/GiloML_predictDrugAUC_Full_Feature_Medium_Quality_Model_omacetaxine mepesuccinate\\Predictor_omacetaxine mepesuccinate\"\n"
     ]
    },
    {
     "name": "stdout",
     "output_type": "stream",
     "text": [
      "Predicting with TabularPredictor for label: omacetaxine mepesuccinate ...0.0%\n"
     ]
    },
    {
     "name": "stderr",
     "output_type": "stream",
     "text": [
      "Warning: path already exists! This predictor may overwrite an existing predictor! path=\"SNS-032/GiloML_predictDrugAUC_Full_Feature_Medium_Quality_Model_SNS-032\\Predictor_SNS-032\"\n"
     ]
    },
    {
     "name": "stdout",
     "output_type": "stream",
     "text": [
      "Predicting with TabularPredictor for label: SNS-032 ...0.0%\n"
     ]
    },
    {
     "name": "stderr",
     "output_type": "stream",
     "text": [
      "Warning: path already exists! This predictor may overwrite an existing predictor! path=\"PHA-793887/GiloML_predictDrugAUC_Full_Feature_Medium_Quality_Model_PHA-793887\\Predictor_PHA-793887\"\n",
      "Warning: path already exists! This predictor may overwrite an existing predictor! path=\"leptomycin B/GiloML_predictDrugAUC_Full_Feature_Medium_Quality_Model_leptomycin B\\Predictor_leptomycin B\"\n"
     ]
    },
    {
     "name": "stdout",
     "output_type": "stream",
     "text": [
      "Predicting with TabularPredictor for label: PHA-793887 ...0.0%\n",
      "Predicting with TabularPredictor for label: leptomycin B ...0.0%\n"
     ]
    },
    {
     "name": "stderr",
     "output_type": "stream",
     "text": [
      "Warning: path already exists! This predictor may overwrite an existing predictor! path=\"narciclasine/GiloML_predictDrugAUC_Full_Feature_Medium_Quality_Model_narciclasine\\Predictor_narciclasine\"\n"
     ]
    },
    {
     "name": "stdout",
     "output_type": "stream",
     "text": [
      "Predicting with TabularPredictor for label: narciclasine ...0.0%\n"
     ]
    },
    {
     "name": "stderr",
     "output_type": "stream",
     "text": [
      "Warning: path already exists! This predictor may overwrite an existing predictor! path=\"SR-II-138A/GiloML_predictDrugAUC_Full_Feature_Medium_Quality_Model_SR-II-138A\\Predictor_SR-II-138A\"\n",
      "Warning: path already exists! This predictor may overwrite an existing predictor! path=\"CR-1-31B/GiloML_predictDrugAUC_Full_Feature_Medium_Quality_Model_CR-1-31B\\Predictor_CR-1-31B\"\n"
     ]
    },
    {
     "name": "stdout",
     "output_type": "stream",
     "text": [
      "Predicting with TabularPredictor for label: SR-II-138A ...0.0%\n",
      "Predicting with TabularPredictor for label: CR-1-31B ...0.0%\n"
     ]
    },
    {
     "name": "stderr",
     "output_type": "stream",
     "text": [
      "Warning: path already exists! This predictor may overwrite an existing predictor! path=\"BMS-345541/GiloML_predictDrugAUC_Full_Feature_Medium_Quality_Model_BMS-345541\\Predictor_BMS-345541\"\n"
     ]
    },
    {
     "name": "stdout",
     "output_type": "stream",
     "text": [
      "Predicting with TabularPredictor for label: BMS-345541 ...0.0%\n"
     ]
    },
    {
     "name": "stderr",
     "output_type": "stream",
     "text": [
      "Warning: path already exists! This predictor may overwrite an existing predictor! path=\"dinaciclib/GiloML_predictDrugAUC_Full_Feature_Medium_Quality_Model_dinaciclib\\Predictor_dinaciclib\"\n",
      "Warning: path already exists! This predictor may overwrite an existing predictor! path=\"alvocidib/GiloML_predictDrugAUC_Full_Feature_Medium_Quality_Model_alvocidib\\Predictor_alvocidib\"\n"
     ]
    },
    {
     "name": "stdout",
     "output_type": "stream",
     "text": [
      "Predicting with TabularPredictor for label: dinaciclib ...0.0%\n"
     ]
    },
    {
     "name": "stderr",
     "output_type": "stream",
     "text": [
      "Warning: path already exists! This predictor may overwrite an existing predictor! path=\"linifanib/GiloML_predictDrugAUC_Full_Feature_Medium_Quality_Model_linifanib\\Predictor_linifanib\"\n"
     ]
    },
    {
     "name": "stdout",
     "output_type": "stream",
     "text": [
      "Predicting with TabularPredictor for label: alvocidib ...0.0%\n",
      "Predicting with TabularPredictor for label: linifanib ...0.0%\n"
     ]
    },
    {
     "name": "stderr",
     "output_type": "stream",
     "text": [
      "Warning: path already exists! This predictor may overwrite an existing predictor! path=\"MK-1775/GiloML_predictDrugAUC_Full_Feature_Medium_Quality_Model_MK-1775\\Predictor_MK-1775\"\n"
     ]
    },
    {
     "name": "stdout",
     "output_type": "stream",
     "text": [
      "Predicting with TabularPredictor for label: MK-1775 ...0.0%\n"
     ]
    },
    {
     "name": "stderr",
     "output_type": "stream",
     "text": [
      "Warning: path already exists! This predictor may overwrite an existing predictor! path=\"AZD7762/GiloML_predictDrugAUC_Full_Feature_Medium_Quality_Model_AZD7762\\Predictor_AZD7762\"\n",
      "Warning: path already exists! This predictor may overwrite an existing predictor! path=\"N9-isopropylolomoucine/GiloML_predictDrugAUC_Full_Feature_Medium_Quality_Model_N9-isopropylolomoucine\\Predictor_N9-isopropylolomoucine\"\n"
     ]
    },
    {
     "name": "stdout",
     "output_type": "stream",
     "text": [
      "Predicting with TabularPredictor for label: AZD7762 ...0.0%\n",
      "Predicting with TabularPredictor for label: N9-isopropylolomoucine ...0.0%\n"
     ]
    },
    {
     "name": "stderr",
     "output_type": "stream",
     "text": [
      "Warning: path already exists! This predictor may overwrite an existing predictor! path=\"momelotinib/GiloML_predictDrugAUC_Full_Feature_Medium_Quality_Model_momelotinib\\Predictor_momelotinib\"\n"
     ]
    },
    {
     "name": "stdout",
     "output_type": "stream",
     "text": [
      "Predicting with TabularPredictor for label: momelotinib ...0.0%\n"
     ]
    },
    {
     "name": "stderr",
     "output_type": "stream",
     "text": [
      "Warning: path already exists! This predictor may overwrite an existing predictor! path=\"AT13387/GiloML_predictDrugAUC_Full_Feature_Medium_Quality_Model_AT13387\\Predictor_AT13387\"\n"
     ]
    },
    {
     "name": "stdout",
     "output_type": "stream",
     "text": [
      "Predicting with TabularPredictor for label: AT13387 ...0.0%\n"
     ]
    },
    {
     "name": "stderr",
     "output_type": "stream",
     "text": [
      "Warning: path already exists! This predictor may overwrite an existing predictor! path=\"SNX-2112/GiloML_predictDrugAUC_Full_Feature_Medium_Quality_Model_SNX-2112\\Predictor_SNX-2112\"\n",
      "Warning: path already exists! This predictor may overwrite an existing predictor! path=\"tanespimycin/GiloML_predictDrugAUC_Full_Feature_Medium_Quality_Model_tanespimycin\\Predictor_tanespimycin\"\n"
     ]
    },
    {
     "name": "stdout",
     "output_type": "stream",
     "text": [
      "Predicting with TabularPredictor for label: SNX-2112 ...0.0%\n",
      "Predicting with TabularPredictor for label: tanespimycin ...0.0%\n"
     ]
    },
    {
     "name": "stderr",
     "output_type": "stream",
     "text": [
      "Warning: path already exists! This predictor may overwrite an existing predictor! path=\"NVP-231/GiloML_predictDrugAUC_Full_Feature_Medium_Quality_Model_NVP-231\\Predictor_NVP-231\"\n"
     ]
    },
    {
     "name": "stdout",
     "output_type": "stream",
     "text": [
      "Predicting with TabularPredictor for label: NVP-231 ...0.0%\n"
     ]
    },
    {
     "name": "stderr",
     "output_type": "stream",
     "text": [
      "Warning: path already exists! This predictor may overwrite an existing predictor! path=\"ML311/GiloML_predictDrugAUC_Full_Feature_Medium_Quality_Model_ML311\\Predictor_ML311\"\n"
     ]
    },
    {
     "name": "stdout",
     "output_type": "stream",
     "text": [
      "Predicting with TabularPredictor for label: ML311 ...0.0%\n"
     ]
    },
    {
     "name": "stderr",
     "output_type": "stream",
     "text": [
      "Warning: path already exists! This predictor may overwrite an existing predictor! path=\"GW-843682X/GiloML_predictDrugAUC_Full_Feature_Medium_Quality_Model_GW-843682X\\Predictor_GW-843682X\"\n",
      "Warning: path already exists! This predictor may overwrite an existing predictor! path=\"LY-2183240/GiloML_predictDrugAUC_Full_Feature_Medium_Quality_Model_LY-2183240\\Predictor_LY-2183240\"\n"
     ]
    },
    {
     "name": "stdout",
     "output_type": "stream",
     "text": [
      "Predicting with TabularPredictor for label: GW-843682X ...0.0%\n",
      "Predicting with TabularPredictor for label: LY-2183240 ...0.0%\n"
     ]
    },
    {
     "name": "stderr",
     "output_type": "stream",
     "text": [
      "Warning: path already exists! This predictor may overwrite an existing predictor! path=\"BI-2536/GiloML_predictDrugAUC_Full_Feature_Medium_Quality_Model_BI-2536\\Predictor_BI-2536\"\n"
     ]
    },
    {
     "name": "stdout",
     "output_type": "stream",
     "text": [
      "Predicting with TabularPredictor for label: BI-2536 ...0.0%\n"
     ]
    },
    {
     "name": "stderr",
     "output_type": "stream",
     "text": [
      "Warning: path already exists! This predictor may overwrite an existing predictor! path=\"GSK461364/GiloML_predictDrugAUC_Full_Feature_Medium_Quality_Model_GSK461364\\Predictor_GSK461364\"\n"
     ]
    },
    {
     "name": "stdout",
     "output_type": "stream",
     "text": [
      "Predicting with TabularPredictor for label: GSK461364 ...0.0%\n"
     ]
    },
    {
     "name": "stderr",
     "output_type": "stream",
     "text": [
      "Warning: path already exists! This predictor may overwrite an existing predictor! path=\"triazolothiadiazine/GiloML_predictDrugAUC_Full_Feature_Medium_Quality_Model_triazolothiadiazine\\Predictor_triazolothiadiazine\"\n"
     ]
    },
    {
     "name": "stdout",
     "output_type": "stream",
     "text": [
      "Predicting with TabularPredictor for label: triazolothiadiazine ...0.0%\n"
     ]
    },
    {
     "name": "stderr",
     "output_type": "stream",
     "text": [
      "Warning: path already exists! This predictor may overwrite an existing predictor! path=\"vincristine/GiloML_predictDrugAUC_Full_Feature_Medium_Quality_Model_vincristine\\Predictor_vincristine\"\n",
      "Warning: path already exists! This predictor may overwrite an existing predictor! path=\"parbendazole/GiloML_predictDrugAUC_Full_Feature_Medium_Quality_Model_parbendazole\\Predictor_parbendazole\"\n"
     ]
    },
    {
     "name": "stdout",
     "output_type": "stream",
     "text": [
      "Predicting with TabularPredictor for label: vincristine ...0.0%\n",
      "Predicting with TabularPredictor for label: parbendazole ...0.0%\n"
     ]
    },
    {
     "name": "stderr",
     "output_type": "stream",
     "text": [
      "Warning: path already exists! This predictor may overwrite an existing predictor! path=\"KX2-391/GiloML_predictDrugAUC_Full_Feature_Medium_Quality_Model_KX2-391\\Predictor_KX2-391\"\n",
      "Warning: path already exists! This predictor may overwrite an existing predictor! path=\"paclitaxel/GiloML_predictDrugAUC_Full_Feature_Medium_Quality_Model_paclitaxel\\Predictor_paclitaxel\"\n"
     ]
    },
    {
     "name": "stdout",
     "output_type": "stream",
     "text": [
      "Predicting with TabularPredictor for label: KX2-391 ...0.0%\n",
      "Predicting with TabularPredictor for label: paclitaxel ...0.0%\n"
     ]
    },
    {
     "name": "stderr",
     "output_type": "stream",
     "text": [
      "Warning: path already exists! This predictor may overwrite an existing predictor! path=\"SB-743921/GiloML_predictDrugAUC_Full_Feature_Medium_Quality_Model_SB-743921\\Predictor_SB-743921\"\n",
      "Warning: path already exists! This predictor may overwrite an existing predictor! path=\"rigosertib/GiloML_predictDrugAUC_Full_Feature_Medium_Quality_Model_rigosertib\\Predictor_rigosertib\"\n"
     ]
    },
    {
     "name": "stdout",
     "output_type": "stream",
     "text": [
      "Predicting with TabularPredictor for label: SB-743921 ...0.0%\n"
     ]
    },
    {
     "name": "stderr",
     "output_type": "stream",
     "text": [
      "Warning: path already exists! This predictor may overwrite an existing predictor! path=\"BRD-K70511574/GiloML_predictDrugAUC_Full_Feature_Medium_Quality_Model_BRD-K70511574\\Predictor_BRD-K70511574\"\n"
     ]
    },
    {
     "name": "stdout",
     "output_type": "stream",
     "text": [
      "Predicting with TabularPredictor for label: rigosertib ...0.0%\n",
      "Predicting with TabularPredictor for label: BRD-K70511574 ...0.0%\n"
     ]
    },
    {
     "name": "stderr",
     "output_type": "stream",
     "text": [
      "Warning: path already exists! This predictor may overwrite an existing predictor! path=\"ceranib-2/GiloML_predictDrugAUC_Full_Feature_Medium_Quality_Model_ceranib-2\\Predictor_ceranib-2\"\n"
     ]
    },
    {
     "name": "stdout",
     "output_type": "stream",
     "text": [
      "Predicting with TabularPredictor for label: ceranib-2 ...0.0%\n"
     ]
    },
    {
     "name": "stderr",
     "output_type": "stream",
     "text": [
      "Warning: path already exists! This predictor may overwrite an existing predictor! path=\"nakiterpiosin/GiloML_predictDrugAUC_Full_Feature_Medium_Quality_Model_nakiterpiosin\\Predictor_nakiterpiosin\"\n"
     ]
    },
    {
     "name": "stdout",
     "output_type": "stream",
     "text": [
      "Predicting with TabularPredictor for label: nakiterpiosin ...0.0%\n"
     ]
    },
    {
     "name": "stderr",
     "output_type": "stream",
     "text": [
      "Warning: path already exists! This predictor may overwrite an existing predictor! path=\"BRD-K66453893/GiloML_predictDrugAUC_Full_Feature_Medium_Quality_Model_BRD-K66453893\\Predictor_BRD-K66453893\"\n",
      "Warning: path already exists! This predictor may overwrite an existing predictor! path=\"SB-225002/GiloML_predictDrugAUC_Full_Feature_Medium_Quality_Model_SB-225002\\Predictor_SB-225002\"\n"
     ]
    },
    {
     "name": "stdout",
     "output_type": "stream",
     "text": [
      "Predicting with TabularPredictor for label: BRD-K66453893 ...0.0%\n",
      "Predicting with TabularPredictor for label: SB-225002 ...0.0%\n"
     ]
    },
    {
     "name": "stderr",
     "output_type": "stream",
     "text": [
      "Warning: path already exists! This predictor may overwrite an existing predictor! path=\"CHM-1/GiloML_predictDrugAUC_Full_Feature_Medium_Quality_Model_CHM-1\\Predictor_CHM-1\"\n"
     ]
    },
    {
     "name": "stdout",
     "output_type": "stream",
     "text": [
      "Predicting with TabularPredictor for label: CHM-1 ...0.0%\n"
     ]
    },
    {
     "name": "stderr",
     "output_type": "stream",
     "text": [
      "Warning: path already exists! This predictor may overwrite an existing predictor! path=\"FQI-1/GiloML_predictDrugAUC_Full_Feature_Medium_Quality_Model_FQI-1\\Predictor_FQI-1\"\n",
      "Warning: path already exists! This predictor may overwrite an existing predictor! path=\"FQI-2/GiloML_predictDrugAUC_Full_Feature_Medium_Quality_Model_FQI-2\\Predictor_FQI-2\"\n"
     ]
    },
    {
     "name": "stdout",
     "output_type": "stream",
     "text": [
      "Predicting with TabularPredictor for label: FQI-1 ...0.0%\n",
      "Predicting with TabularPredictor for label: FQI-2 ...0.0%\n"
     ]
    },
    {
     "name": "stderr",
     "output_type": "stream",
     "text": [
      "Warning: path already exists! This predictor may overwrite an existing predictor! path=\"ELCPK/GiloML_predictDrugAUC_Full_Feature_Medium_Quality_Model_ELCPK\\Predictor_ELCPK\"\n",
      "Warning: path already exists! This predictor may overwrite an existing predictor! path=\"docetaxel/GiloML_predictDrugAUC_Full_Feature_Medium_Quality_Model_docetaxel\\Predictor_docetaxel\"\n"
     ]
    },
    {
     "name": "stdout",
     "output_type": "stream",
     "text": [
      "Predicting with TabularPredictor for label: ELCPK ...0.0%\n"
     ]
    },
    {
     "name": "stderr",
     "output_type": "stream",
     "text": [
      "Warning: path already exists! This predictor may overwrite an existing predictor! path=\"tivantinib/GiloML_predictDrugAUC_Full_Feature_Medium_Quality_Model_tivantinib\\Predictor_tivantinib\"\n"
     ]
    },
    {
     "name": "stdout",
     "output_type": "stream",
     "text": [
      "Predicting with TabularPredictor for label: docetaxel ...0.0%\n",
      "Predicting with TabularPredictor for label: tivantinib ...0.0%\n"
     ]
    },
    {
     "name": "stderr",
     "output_type": "stream",
     "text": [
      "Warning: path already exists! This predictor may overwrite an existing predictor! path=\"YK 4-279/GiloML_predictDrugAUC_Full_Feature_Medium_Quality_Model_YK 4-279\\Predictor_YK 4-279\"\n",
      "Warning: path already exists! This predictor may overwrite an existing predictor! path=\"isoevodiamine/GiloML_predictDrugAUC_Full_Feature_Medium_Quality_Model_isoevodiamine\\Predictor_isoevodiamine\"\n"
     ]
    },
    {
     "name": "stdout",
     "output_type": "stream",
     "text": [
      "Predicting with TabularPredictor for label: YK 4-279 ...0.0%\n",
      "Predicting with TabularPredictor for label: isoevodiamine ...0.0%\n"
     ]
    },
    {
     "name": "stderr",
     "output_type": "stream",
     "text": [
      "Warning: path already exists! This predictor may overwrite an existing predictor! path=\"brefeldin A/GiloML_predictDrugAUC_Full_Feature_Medium_Quality_Model_brefeldin A\\Predictor_brefeldin A\"\n"
     ]
    },
    {
     "name": "stdout",
     "output_type": "stream",
     "text": [
      "Predicting with TabularPredictor for label: brefeldin A ...0.0%\n"
     ]
    },
    {
     "name": "stderr",
     "output_type": "stream",
     "text": [
      "Warning: path already exists! This predictor may overwrite an existing predictor! path=\"ouabain/GiloML_predictDrugAUC_Full_Feature_Medium_Quality_Model_ouabain\\Predictor_ouabain\"\n"
     ]
    },
    {
     "name": "stdout",
     "output_type": "stream",
     "text": [
      "Predicting with TabularPredictor for label: ouabain ...0.0%\n"
     ]
    },
    {
     "name": "stderr",
     "output_type": "stream",
     "text": [
      "Warning: path already exists! This predictor may overwrite an existing predictor! path=\"BRD-K30748066/GiloML_predictDrugAUC_Full_Feature_Medium_Quality_Model_BRD-K30748066\\Predictor_BRD-K30748066\"\n"
     ]
    },
    {
     "name": "stdout",
     "output_type": "stream",
     "text": [
      "Predicting with TabularPredictor for label: BRD-K30748066 ...0.0%\n"
     ]
    },
    {
     "name": "stderr",
     "output_type": "stream",
     "text": [
      "Warning: path already exists! This predictor may overwrite an existing predictor! path=\"CIL55A/GiloML_predictDrugAUC_Full_Feature_Medium_Quality_Model_CIL55A\\Predictor_CIL55A\"\n",
      "Warning: path already exists! This predictor may overwrite an existing predictor! path=\"MG-132/GiloML_predictDrugAUC_Full_Feature_Medium_Quality_Model_MG-132\\Predictor_MG-132\"\n"
     ]
    },
    {
     "name": "stdout",
     "output_type": "stream",
     "text": [
      "Predicting with TabularPredictor for label: CIL55A ...0.0%\n",
      "Predicting with TabularPredictor for label: MG-132 ...0.0%\n"
     ]
    },
    {
     "name": "stderr",
     "output_type": "stream",
     "text": [
      "Warning: path already exists! This predictor may overwrite an existing predictor! path=\"MLN2238/GiloML_predictDrugAUC_Full_Feature_Medium_Quality_Model_MLN2238\\Predictor_MLN2238\"\n",
      "Warning: path already exists! This predictor may overwrite an existing predictor! path=\"bortezomib/GiloML_predictDrugAUC_Full_Feature_Medium_Quality_Model_bortezomib\\Predictor_bortezomib\"\n"
     ]
    },
    {
     "name": "stdout",
     "output_type": "stream",
     "text": [
      "Predicting with TabularPredictor for label: MLN2238 ...0.0%\n",
      "Predicting with TabularPredictor for label: bortezomib ...0.0%\n"
     ]
    },
    {
     "name": "stderr",
     "output_type": "stream",
     "text": [
      "Warning: path already exists! This predictor may overwrite an existing predictor! path=\"palmostatin B/GiloML_predictDrugAUC_Full_Feature_Medium_Quality_Model_palmostatin B\\Predictor_palmostatin B\"\n",
      "Warning: path already exists! This predictor may overwrite an existing predictor! path=\"pitstop2/GiloML_predictDrugAUC_Full_Feature_Medium_Quality_Model_pitstop2\\Predictor_pitstop2\"\n"
     ]
    },
    {
     "name": "stdout",
     "output_type": "stream",
     "text": [
      "Predicting with TabularPredictor for label: palmostatin B ...0.0%\n",
      "Predicting with TabularPredictor for label: pitstop2 ...0.0%\n"
     ]
    },
    {
     "name": "stderr",
     "output_type": "stream",
     "text": [
      "Warning: path already exists! This predictor may overwrite an existing predictor! path=\"darinaparsin/GiloML_predictDrugAUC_Full_Feature_Medium_Quality_Model_darinaparsin\\Predictor_darinaparsin\"\n"
     ]
    },
    {
     "name": "stdout",
     "output_type": "stream",
     "text": [
      "Predicting with TabularPredictor for label: darinaparsin ...0.0%\n"
     ]
    },
    {
     "name": "stderr",
     "output_type": "stream",
     "text": [
      "Warning: path already exists! This predictor may overwrite an existing predictor! path=\"QW-BI-011/GiloML_predictDrugAUC_Full_Feature_Medium_Quality_Model_QW-BI-011\\Predictor_QW-BI-011\"\n"
     ]
    },
    {
     "name": "stdout",
     "output_type": "stream",
     "text": [
      "Predicting with TabularPredictor for label: QW-BI-011 ...0.0%\n"
     ]
    },
    {
     "name": "stderr",
     "output_type": "stream",
     "text": [
      "Warning: path already exists! This predictor may overwrite an existing predictor! path=\"SJ-172550/GiloML_predictDrugAUC_Full_Feature_Medium_Quality_Model_SJ-172550\\Predictor_SJ-172550\"\n",
      "Warning: path already exists! This predictor may overwrite an existing predictor! path=\"IC-87114/GiloML_predictDrugAUC_Full_Feature_Medium_Quality_Model_IC-87114\\Predictor_IC-87114\"\n"
     ]
    },
    {
     "name": "stdout",
     "output_type": "stream",
     "text": [
      "Predicting with TabularPredictor for label: SJ-172550 ...0.0%\n",
      "Predicting with TabularPredictor for label: IC-87114 ...0.0%\n"
     ]
    },
    {
     "name": "stderr",
     "output_type": "stream",
     "text": [
      "Warning: path already exists! This predictor may overwrite an existing predictor! path=\"BRD-K50799972/GiloML_predictDrugAUC_Full_Feature_Medium_Quality_Model_BRD-K50799972\\Predictor_BRD-K50799972\"\n",
      "Warning: path already exists! This predictor may overwrite an existing predictor! path=\"BRD-K55116708/GiloML_predictDrugAUC_Full_Feature_Medium_Quality_Model_BRD-K55116708\\Predictor_BRD-K55116708\"\n"
     ]
    },
    {
     "name": "stdout",
     "output_type": "stream",
     "text": [
      "Predicting with TabularPredictor for label: BRD-K50799972 ...0.0%\n",
      "Predicting with TabularPredictor for label: BRD-K55116708 ...0.0%\n"
     ]
    },
    {
     "name": "stderr",
     "output_type": "stream",
     "text": [
      "Warning: path already exists! This predictor may overwrite an existing predictor! path=\"fluvastatin/GiloML_predictDrugAUC_Full_Feature_Medium_Quality_Model_fluvastatin\\Predictor_fluvastatin\"\n",
      "Warning: path already exists! This predictor may overwrite an existing predictor! path=\"lovastatin/GiloML_predictDrugAUC_Full_Feature_Medium_Quality_Model_lovastatin\\Predictor_lovastatin\"\n",
      "Warning: path already exists! This predictor may overwrite an existing predictor! path=\"simvastatin/GiloML_predictDrugAUC_Full_Feature_Medium_Quality_Model_simvastatin\\Predictor_simvastatin\"\n"
     ]
    },
    {
     "name": "stdout",
     "output_type": "stream",
     "text": [
      "Predicting with TabularPredictor for label: fluvastatin ...0.0%\n",
      "Predicting with TabularPredictor for label: lovastatin ...0.0%\n",
      "Predicting with TabularPredictor for label: simvastatin ...0.0%\n"
     ]
    },
    {
     "name": "stderr",
     "output_type": "stream",
     "text": [
      "Warning: path already exists! This predictor may overwrite an existing predictor! path=\"staurosporine/GiloML_predictDrugAUC_Full_Feature_Medium_Quality_Model_staurosporine\\Predictor_staurosporine\"\n"
     ]
    },
    {
     "name": "stdout",
     "output_type": "stream",
     "text": [
      "Predicting with TabularPredictor for label: staurosporine ...0.0%\n"
     ]
    },
    {
     "name": "stderr",
     "output_type": "stream",
     "text": [
      "Warning: path already exists! This predictor may overwrite an existing predictor! path=\"GSK-3 inhibitor IX/GiloML_predictDrugAUC_Full_Feature_Medium_Quality_Model_GSK-3 inhibitor IX\\Predictor_GSK-3 inhibitor IX\"\n"
     ]
    },
    {
     "name": "stdout",
     "output_type": "stream",
     "text": [
      "Predicting with TabularPredictor for label: GSK-3 inhibitor IX ...0.0%\n"
     ]
    },
    {
     "name": "stderr",
     "output_type": "stream",
     "text": [
      "Warning: path already exists! This predictor may overwrite an existing predictor! path=\"CHIR-99021/GiloML_predictDrugAUC_Full_Feature_Medium_Quality_Model_CHIR-99021\\Predictor_CHIR-99021\"\n",
      "Warning: path already exists! This predictor may overwrite an existing predictor! path=\"avicin D/GiloML_predictDrugAUC_Full_Feature_Medium_Quality_Model_avicin D\\Predictor_avicin D\"\n"
     ]
    },
    {
     "name": "stdout",
     "output_type": "stream",
     "text": [
      "Predicting with TabularPredictor for label: CHIR-99021 ...0.0%\n",
      "Predicting with TabularPredictor for label: avicin D ...0.0%\n"
     ]
    },
    {
     "name": "stderr",
     "output_type": "stream",
     "text": [
      "Warning: path already exists! This predictor may overwrite an existing predictor! path=\"CIL56/GiloML_predictDrugAUC_Full_Feature_Medium_Quality_Model_CIL56\\Predictor_CIL56\"\n"
     ]
    },
    {
     "name": "stdout",
     "output_type": "stream",
     "text": [
      "Predicting with TabularPredictor for label: CIL56 ...0.0%\n"
     ]
    },
    {
     "name": "stderr",
     "output_type": "stream",
     "text": [
      "Warning: path already exists! This predictor may overwrite an existing predictor! path=\"erastin/GiloML_predictDrugAUC_Full_Feature_Medium_Quality_Model_erastin\\Predictor_erastin\"\n"
     ]
    },
    {
     "name": "stdout",
     "output_type": "stream",
     "text": [
      "Predicting with TabularPredictor for label: erastin ...0.0%\n"
     ]
    },
    {
     "name": "stderr",
     "output_type": "stream",
     "text": [
      "Warning: path already exists! This predictor may overwrite an existing predictor! path=\"ML210/GiloML_predictDrugAUC_Full_Feature_Medium_Quality_Model_ML210\\Predictor_ML210\"\n"
     ]
    },
    {
     "name": "stdout",
     "output_type": "stream",
     "text": [
      "Predicting with TabularPredictor for label: ML210 ...0.0%\n"
     ]
    },
    {
     "name": "stderr",
     "output_type": "stream",
     "text": [
      "Warning: path already exists! This predictor may overwrite an existing predictor! path=\"ML162/GiloML_predictDrugAUC_Full_Feature_Medium_Quality_Model_ML162\\Predictor_ML162\"\n"
     ]
    },
    {
     "name": "stdout",
     "output_type": "stream",
     "text": [
      "Predicting with TabularPredictor for label: ML162 ...0.0%\n"
     ]
    },
    {
     "name": "stderr",
     "output_type": "stream",
     "text": [
      "Warning: path already exists! This predictor may overwrite an existing predictor! path=\"1S3R-RSL-3/GiloML_predictDrugAUC_Full_Feature_Medium_Quality_Model_1S3R-RSL-3\\Predictor_1S3R-RSL-3\"\n"
     ]
    },
    {
     "name": "stdout",
     "output_type": "stream",
     "text": [
      "Predicting with TabularPredictor for label: 1S3R-RSL-3 ...0.0%\n"
     ]
    },
    {
     "name": "stderr",
     "output_type": "stream",
     "text": [
      "Warning: path already exists! This predictor may overwrite an existing predictor! path=\"CIL41/GiloML_predictDrugAUC_Full_Feature_Medium_Quality_Model_CIL41\\Predictor_CIL41\"\n"
     ]
    },
    {
     "name": "stdout",
     "output_type": "stream",
     "text": [
      "Predicting with TabularPredictor for label: CIL41 ...0.0%\n"
     ]
    },
    {
     "name": "stderr",
     "output_type": "stream",
     "text": [
      "Warning: path already exists! This predictor may overwrite an existing predictor! path=\"CIL70/GiloML_predictDrugAUC_Full_Feature_Medium_Quality_Model_CIL70\\Predictor_CIL70\"\n",
      "Warning: path already exists! This predictor may overwrite an existing predictor! path=\"BRD-K01737880/GiloML_predictDrugAUC_Full_Feature_Medium_Quality_Model_BRD-K01737880\\Predictor_BRD-K01737880\"\n"
     ]
    },
    {
     "name": "stdout",
     "output_type": "stream",
     "text": [
      "Predicting with TabularPredictor for label: CIL70 ...0.0%\n"
     ]
    },
    {
     "name": "stderr",
     "output_type": "stream",
     "text": [
      "Warning: path already exists! This predictor may overwrite an existing predictor! path=\"VX-680/GiloML_predictDrugAUC_Full_Feature_Medium_Quality_Model_VX-680\\Predictor_VX-680\"\n",
      "Warning: path already exists! This predictor may overwrite an existing predictor! path=\"isoliquiritigenin/GiloML_predictDrugAUC_Full_Feature_Medium_Quality_Model_isoliquiritigenin\\Predictor_isoliquiritigenin\"\n"
     ]
    },
    {
     "name": "stdout",
     "output_type": "stream",
     "text": [
      "Predicting with TabularPredictor for label: BRD-K01737880 ...0.0%\n",
      "Predicting with TabularPredictor for label: VX-680 ...0.0%\n"
     ]
    },
    {
     "name": "stderr",
     "output_type": "stream",
     "text": [
      "Warning: path already exists! This predictor may overwrite an existing predictor! path=\"tigecycline/GiloML_predictDrugAUC_Full_Feature_Medium_Quality_Model_tigecycline\\Predictor_tigecycline\"\n"
     ]
    },
    {
     "name": "stdout",
     "output_type": "stream",
     "text": [
      "Predicting with TabularPredictor for label: isoliquiritigenin ...0.0%\n",
      "Predicting with TabularPredictor for label: tigecycline ...0.0%\n"
     ]
    },
    {
     "name": "stderr",
     "output_type": "stream",
     "text": [
      "Warning: path already exists! This predictor may overwrite an existing predictor! path=\"COL-3/GiloML_predictDrugAUC_Full_Feature_Medium_Quality_Model_COL-3\\Predictor_COL-3\"\n"
     ]
    },
    {
     "name": "stdout",
     "output_type": "stream",
     "text": [
      "Predicting with TabularPredictor for label: COL-3 ...0.0%\n"
     ]
    },
    {
     "name": "stderr",
     "output_type": "stream",
     "text": [
      "Warning: path already exists! This predictor may overwrite an existing predictor! path=\"BRD-K71781559/GiloML_predictDrugAUC_Full_Feature_Medium_Quality_Model_BRD-K71781559\\Predictor_BRD-K71781559\"\n"
     ]
    },
    {
     "name": "stdout",
     "output_type": "stream",
     "text": [
      "Predicting with TabularPredictor for label: BRD-K71781559 ...0.0%\n"
     ]
    },
    {
     "name": "stderr",
     "output_type": "stream",
     "text": [
      "Warning: path already exists! This predictor may overwrite an existing predictor! path=\"MLN2480/GiloML_predictDrugAUC_Full_Feature_Medium_Quality_Model_MLN2480\\Predictor_MLN2480\"\n",
      "Warning: path already exists! This predictor may overwrite an existing predictor! path=\"GDC-0879/GiloML_predictDrugAUC_Full_Feature_Medium_Quality_Model_GDC-0879\\Predictor_GDC-0879\"\n"
     ]
    },
    {
     "name": "stdout",
     "output_type": "stream",
     "text": [
      "Predicting with TabularPredictor for label: MLN2480 ...0.0%\n",
      "Predicting with TabularPredictor for label: GDC-0879 ...0.0%\n"
     ]
    },
    {
     "name": "stderr",
     "output_type": "stream",
     "text": [
      "Warning: path already exists! This predictor may overwrite an existing predictor! path=\"dabrafenib/GiloML_predictDrugAUC_Full_Feature_Medium_Quality_Model_dabrafenib\\Predictor_dabrafenib\"\n",
      "Warning: path already exists! This predictor may overwrite an existing predictor! path=\"PLX-4720/GiloML_predictDrugAUC_Full_Feature_Medium_Quality_Model_PLX-4720\\Predictor_PLX-4720\"\n"
     ]
    },
    {
     "name": "stdout",
     "output_type": "stream",
     "text": [
      "Predicting with TabularPredictor for label: dabrafenib ...0.0%\n",
      "Predicting with TabularPredictor for label: PLX-4720 ...0.0%\n"
     ]
    },
    {
     "name": "stderr",
     "output_type": "stream",
     "text": [
      "Warning: path already exists! This predictor may overwrite an existing predictor! path=\"ML320/GiloML_predictDrugAUC_Full_Feature_Medium_Quality_Model_ML320\\Predictor_ML320\"\n",
      "Warning: path already exists! This predictor may overwrite an existing predictor! path=\"BRD-K29313308/GiloML_predictDrugAUC_Full_Feature_Medium_Quality_Model_BRD-K29313308\\Predictor_BRD-K29313308\"\n"
     ]
    },
    {
     "name": "stdout",
     "output_type": "stream",
     "text": [
      "Predicting with TabularPredictor for label: ML320 ...0.0%\n",
      "Predicting with TabularPredictor for label: BRD-K29313308 ...0.0%\n"
     ]
    },
    {
     "name": "stderr",
     "output_type": "stream",
     "text": [
      "Warning: path already exists! This predictor may overwrite an existing predictor! path=\"BRD-K88742110/GiloML_predictDrugAUC_Full_Feature_Medium_Quality_Model_BRD-K88742110\\Predictor_BRD-K88742110\"\n",
      "Warning: path already exists! This predictor may overwrite an existing predictor! path=\"BRD-A02303741/GiloML_predictDrugAUC_Full_Feature_Medium_Quality_Model_BRD-A02303741\\Predictor_BRD-A02303741\"\n"
     ]
    },
    {
     "name": "stdout",
     "output_type": "stream",
     "text": [
      "Predicting with TabularPredictor for label: BRD-K88742110 ...0.0%\n",
      "Predicting with TabularPredictor for label: BRD-A02303741 ...0.0%\n"
     ]
    },
    {
     "name": "stderr",
     "output_type": "stream",
     "text": [
      "Warning: path already exists! This predictor may overwrite an existing predictor! path=\"NSC 74859/GiloML_predictDrugAUC_Full_Feature_Medium_Quality_Model_NSC 74859\\Predictor_NSC 74859\"\n",
      "Warning: path already exists! This predictor may overwrite an existing predictor! path=\"AZD7545/GiloML_predictDrugAUC_Full_Feature_Medium_Quality_Model_AZD7545\\Predictor_AZD7545\"\n"
     ]
    },
    {
     "name": "stdout",
     "output_type": "stream",
     "text": [
      "Predicting with TabularPredictor for label: NSC 74859 ...0.0%\n",
      "Predicting with TabularPredictor for label: AZD7545 ...0.0%\n"
     ]
    },
    {
     "name": "stderr",
     "output_type": "stream",
     "text": [
      "Warning: path already exists! This predictor may overwrite an existing predictor! path=\"PLX-4032/GiloML_predictDrugAUC_Full_Feature_Medium_Quality_Model_PLX-4032\\Predictor_PLX-4032\"\n"
     ]
    },
    {
     "name": "stdout",
     "output_type": "stream",
     "text": [
      "Predicting with TabularPredictor for label: PLX-4032 ...0.0%\n"
     ]
    },
    {
     "name": "stderr",
     "output_type": "stream",
     "text": [
      "Warning: path already exists! This predictor may overwrite an existing predictor! path=\"compound 1B/GiloML_predictDrugAUC_Full_Feature_Medium_Quality_Model_compound 1B\\Predictor_compound 1B\"\n"
     ]
    },
    {
     "name": "stdout",
     "output_type": "stream",
     "text": [
      "Predicting with TabularPredictor for label: compound 1B ...0.0%\n"
     ]
    },
    {
     "name": "stderr",
     "output_type": "stream",
     "text": [
      "Warning: path already exists! This predictor may overwrite an existing predictor! path=\"BRD-K99006945/GiloML_predictDrugAUC_Full_Feature_Medium_Quality_Model_BRD-K99006945\\Predictor_BRD-K99006945\"\n"
     ]
    },
    {
     "name": "stdout",
     "output_type": "stream",
     "text": [
      "Predicting with TabularPredictor for label: BRD-K99006945 ...0.0%\n"
     ]
    },
    {
     "name": "stderr",
     "output_type": "stream",
     "text": [
      "Warning: path already exists! This predictor may overwrite an existing predictor! path=\"fulvestrant/GiloML_predictDrugAUC_Full_Feature_Medium_Quality_Model_fulvestrant\\Predictor_fulvestrant\"\n",
      "Warning: path already exists! This predictor may overwrite an existing predictor! path=\"SKI-II/GiloML_predictDrugAUC_Full_Feature_Medium_Quality_Model_SKI-II\\Predictor_SKI-II\"\n"
     ]
    },
    {
     "name": "stdout",
     "output_type": "stream",
     "text": [
      "Predicting with TabularPredictor for label: fulvestrant ...0.0%\n",
      "Predicting with TabularPredictor for label: SKI-II ...0.0%\n"
     ]
    },
    {
     "name": "stderr",
     "output_type": "stream",
     "text": [
      "Warning: path already exists! This predictor may overwrite an existing predictor! path=\"cimetidine/GiloML_predictDrugAUC_Full_Feature_Medium_Quality_Model_cimetidine\\Predictor_cimetidine\"\n",
      "Warning: path already exists! This predictor may overwrite an existing predictor! path=\"JW-480/GiloML_predictDrugAUC_Full_Feature_Medium_Quality_Model_JW-480\\Predictor_JW-480\"\n"
     ]
    },
    {
     "name": "stdout",
     "output_type": "stream",
     "text": [
      "Predicting with TabularPredictor for label: cimetidine ...0.0%\n",
      "Predicting with TabularPredictor for label: JW-480 ...0.0%\n"
     ]
    },
    {
     "name": "stderr",
     "output_type": "stream",
     "text": [
      "Warning: path already exists! This predictor may overwrite an existing predictor! path=\"itraconazole/GiloML_predictDrugAUC_Full_Feature_Medium_Quality_Model_itraconazole\\Predictor_itraconazole\"\n"
     ]
    },
    {
     "name": "stdout",
     "output_type": "stream",
     "text": [
      "Predicting with TabularPredictor for label: itraconazole ...0.0%\n"
     ]
    },
    {
     "name": "stderr",
     "output_type": "stream",
     "text": [
      "Warning: path already exists! This predictor may overwrite an existing predictor! path=\"pifithrin-mu/GiloML_predictDrugAUC_Full_Feature_Medium_Quality_Model_pifithrin-mu\\Predictor_pifithrin-mu\"\n"
     ]
    },
    {
     "name": "stdout",
     "output_type": "stream",
     "text": [
      "Predicting with TabularPredictor for label: pifithrin-mu ...0.0%\n"
     ]
    },
    {
     "name": "stderr",
     "output_type": "stream",
     "text": [
      "Warning: path already exists! This predictor may overwrite an existing predictor! path=\"SB-525334/GiloML_predictDrugAUC_Full_Feature_Medium_Quality_Model_SB-525334\\Predictor_SB-525334\"\n",
      "Warning: path already exists! This predictor may overwrite an existing predictor! path=\"phloretin/GiloML_predictDrugAUC_Full_Feature_Medium_Quality_Model_phloretin\\Predictor_phloretin\"\n"
     ]
    },
    {
     "name": "stdout",
     "output_type": "stream",
     "text": [
      "Predicting with TabularPredictor for label: SB-525334 ...0.0%\n"
     ]
    },
    {
     "name": "stderr",
     "output_type": "stream",
     "text": [
      "Warning: path already exists! This predictor may overwrite an existing predictor! path=\"valdecoxib/GiloML_predictDrugAUC_Full_Feature_Medium_Quality_Model_valdecoxib\\Predictor_valdecoxib\"\n"
     ]
    },
    {
     "name": "stdout",
     "output_type": "stream",
     "text": [
      "Predicting with TabularPredictor for label: phloretin ...0.0%\n",
      "Predicting with TabularPredictor for label: valdecoxib ...0.0%\n"
     ]
    },
    {
     "name": "stderr",
     "output_type": "stream",
     "text": [
      "Warning: path already exists! This predictor may overwrite an existing predictor! path=\"PF-750/GiloML_predictDrugAUC_Full_Feature_Medium_Quality_Model_PF-750\\Predictor_PF-750\"\n"
     ]
    },
    {
     "name": "stdout",
     "output_type": "stream",
     "text": [
      "Predicting with TabularPredictor for label: PF-750 ...0.0%\n"
     ]
    },
    {
     "name": "stderr",
     "output_type": "stream",
     "text": [
      "Warning: path already exists! This predictor may overwrite an existing predictor! path=\"ML239/GiloML_predictDrugAUC_Full_Feature_Medium_Quality_Model_ML239\\Predictor_ML239\"\n"
     ]
    },
    {
     "name": "stdout",
     "output_type": "stream",
     "text": [
      "Predicting with TabularPredictor for label: ML239 ...0.0%\n"
     ]
    },
    {
     "name": "stderr",
     "output_type": "stream",
     "text": [
      "Warning: path already exists! This predictor may overwrite an existing predictor! path=\"MST-312/GiloML_predictDrugAUC_Full_Feature_Medium_Quality_Model_MST-312\\Predictor_MST-312\"\n"
     ]
    },
    {
     "name": "stdout",
     "output_type": "stream",
     "text": [
      "Predicting with TabularPredictor for label: MST-312 ...0.0%\n"
     ]
    },
    {
     "name": "stderr",
     "output_type": "stream",
     "text": [
      "Warning: path already exists! This predictor may overwrite an existing predictor! path=\"TW-37/GiloML_predictDrugAUC_Full_Feature_Medium_Quality_Model_TW-37\\Predictor_TW-37\"\n",
      "Warning: path already exists! This predictor may overwrite an existing predictor! path=\"gossypol/GiloML_predictDrugAUC_Full_Feature_Medium_Quality_Model_gossypol\\Predictor_gossypol\"\n"
     ]
    },
    {
     "name": "stdout",
     "output_type": "stream",
     "text": [
      "Predicting with TabularPredictor for label: TW-37 ...0.0%\n",
      "Predicting with TabularPredictor for label: gossypol ...0.0%\n"
     ]
    },
    {
     "name": "stderr",
     "output_type": "stream",
     "text": [
      "Warning: path already exists! This predictor may overwrite an existing predictor! path=\"BRD1812/GiloML_predictDrugAUC_Full_Feature_Medium_Quality_Model_BRD1812\\Predictor_BRD1812\"\n"
     ]
    },
    {
     "name": "stdout",
     "output_type": "stream",
     "text": [
      "Predicting with TabularPredictor for label: BRD1812 ...0.0%\n"
     ]
    },
    {
     "name": "stderr",
     "output_type": "stream",
     "text": [
      "Warning: path already exists! This predictor may overwrite an existing predictor! path=\"YM-155/GiloML_predictDrugAUC_Full_Feature_Medium_Quality_Model_YM-155\\Predictor_YM-155\"\n"
     ]
    },
    {
     "name": "stdout",
     "output_type": "stream",
     "text": [
      "Predicting with TabularPredictor for label: YM-155 ...0.0%\n"
     ]
    },
    {
     "name": "stderr",
     "output_type": "stream",
     "text": [
      "Warning: path already exists! This predictor may overwrite an existing predictor! path=\"BRD-K92856060/GiloML_predictDrugAUC_Full_Feature_Medium_Quality_Model_BRD-K92856060\\Predictor_BRD-K92856060\"\n",
      "Warning: path already exists! This predictor may overwrite an existing predictor! path=\"neopeltolide/GiloML_predictDrugAUC_Full_Feature_Medium_Quality_Model_neopeltolide\\Predictor_neopeltolide\"\n"
     ]
    },
    {
     "name": "stdout",
     "output_type": "stream",
     "text": [
      "Predicting with TabularPredictor for label: BRD-K92856060 ...0.0%\n"
     ]
    },
    {
     "name": "stderr",
     "output_type": "stream",
     "text": [
      "Warning: path already exists! This predictor may overwrite an existing predictor! path=\"KHS101/GiloML_predictDrugAUC_Full_Feature_Medium_Quality_Model_KHS101\\Predictor_KHS101\"\n"
     ]
    },
    {
     "name": "stdout",
     "output_type": "stream",
     "text": [
      "Predicting with TabularPredictor for label: neopeltolide ...0.0%\n",
      "Predicting with TabularPredictor for label: KHS101 ...0.0%\n"
     ]
    },
    {
     "name": "stderr",
     "output_type": "stream",
     "text": [
      "Warning: path already exists! This predictor may overwrite an existing predictor! path=\"spautin-1/GiloML_predictDrugAUC_Full_Feature_Medium_Quality_Model_spautin-1\\Predictor_spautin-1\"\n"
     ]
    },
    {
     "name": "stdout",
     "output_type": "stream",
     "text": [
      "Predicting with TabularPredictor for label: spautin-1 ...0.0%\n"
     ]
    },
    {
     "name": "stderr",
     "output_type": "stream",
     "text": [
      "Warning: path already exists! This predictor may overwrite an existing predictor! path=\"oligomycin A/GiloML_predictDrugAUC_Full_Feature_Medium_Quality_Model_oligomycin A\\Predictor_oligomycin A\"\n"
     ]
    },
    {
     "name": "stdout",
     "output_type": "stream",
     "text": [
      "Predicting with TabularPredictor for label: oligomycin A ...0.0%\n"
     ]
    },
    {
     "name": "stderr",
     "output_type": "stream",
     "text": [
      "Warning: path already exists! This predictor may overwrite an existing predictor! path=\"BRD-K97651142/GiloML_predictDrugAUC_Full_Feature_Medium_Quality_Model_BRD-K97651142\\Predictor_BRD-K97651142\"\n"
     ]
    },
    {
     "name": "stdout",
     "output_type": "stream",
     "text": [
      "Predicting with TabularPredictor for label: BRD-K97651142 ...0.0%\n"
     ]
    },
    {
     "name": "stderr",
     "output_type": "stream",
     "text": [
      "Warning: path already exists! This predictor may overwrite an existing predictor! path=\"SR8278/GiloML_predictDrugAUC_Full_Feature_Medium_Quality_Model_SR8278\\Predictor_SR8278\"\n",
      "Warning: path already exists! This predictor may overwrite an existing predictor! path=\"GSK-J4/GiloML_predictDrugAUC_Full_Feature_Medium_Quality_Model_GSK-J4\\Predictor_GSK-J4\"\n"
     ]
    },
    {
     "name": "stdout",
     "output_type": "stream",
     "text": [
      "Predicting with TabularPredictor for label: SR8278 ...0.0%\n",
      "Predicting with TabularPredictor for label: GSK-J4 ...0.0%\n"
     ]
    }
   ],
   "source": [
    "model_name = 'GiloML_predictDrugAUC_Full_Feature_Medium_Quality_Model_'\n",
    "final_result = pd.DataFrame()\n",
    "results = []\n",
    "\n",
    "for label in labels:\n",
    "    #if label == 'neuronal differentiation inducer III':\n",
    "    if label == '':\n",
    "        continue  # Skip the 'neuronal differentiation inducer III' label and continue with the next iteration\n",
    "    else:\n",
    "        save_path = label + '/' + model_name + label \n",
    "        multi_predictor = MultilabelPredictor(labels=[label], problem_types=problem_types, eval_metrics=eval_metrics, path=save_path)\n",
    "        multi_predictor = MultilabelPredictor.load(save_path)\n",
    "        result = multi_predictor.predict(predictData)\n",
    "        results.append(result[label])\n",
    "\n",
    "# Concatenate all the results in the 'results' list along the columns axis\n",
    "final_result = pd.concat(results, axis=1)\n",
    "\n",
    "final_result.to_csv(model_name + '_xxx_allResult.csv')\n"
   ]
  },
  {
   "cell_type": "code",
   "execution_count": null,
   "id": "4d7885d2",
   "metadata": {},
   "outputs": [],
   "source": []
  }
 ],
 "metadata": {
  "kernelspec": {
   "display_name": "Python 3 (ipykernel)",
   "language": "python",
   "name": "python3"
  },
  "language_info": {
   "codemirror_mode": {
    "name": "ipython",
    "version": 3
   },
   "file_extension": ".py",
   "mimetype": "text/x-python",
   "name": "python",
   "nbconvert_exporter": "python",
   "pygments_lexer": "ipython3",
   "version": "3.9.0"
  },
  "toc": {
   "base_numbering": 1,
   "nav_menu": {},
   "number_sections": true,
   "sideBar": true,
   "skip_h1_title": false,
   "title_cell": "Table of Contents",
   "title_sidebar": "Contents",
   "toc_cell": false,
   "toc_position": {},
   "toc_section_display": true,
   "toc_window_display": false
  }
 },
 "nbformat": 4,
 "nbformat_minor": 5
}
